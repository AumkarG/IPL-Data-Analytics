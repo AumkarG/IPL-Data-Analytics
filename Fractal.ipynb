{
 "cells": [
  {
   "cell_type": "code",
   "execution_count": null,
   "metadata": {
    "colab": {},
    "colab_type": "code",
    "id": "D9LVPbsUoD_V"
   },
   "outputs": [],
   "source": []
  },
  {
   "cell_type": "markdown",
   "metadata": {
    "colab_type": "text",
    "id": "vX0mneFv-upN"
   },
   "source": [
    "### **Note :**\n",
    "* You will need the below 3 datasets to work on the questions : \n",
    "  * **ipl_matches.csv**\n",
    "  * **ipl_batting.csv**\n",
    "  * **ipl_deliveries.csv**"
   ]
  },
  {
   "cell_type": "markdown",
   "metadata": {
    "colab_type": "text",
    "id": "qQzb6RQKOlbk"
   },
   "source": []
  },
  {
   "cell_type": "markdown",
   "metadata": {
    "colab_type": "text",
    "id": "kVRYiJzvvP62"
   },
   "source": [
    "### **Question 1**\n",
    "Write **Python** code for the following\n",
    "* Read the **ipl_matches.csv** dataset\n",
    "* Display **data-type** of each column\n",
    "* Define **granularity** for the dataset **ipl_matches**\n",
    "* Write code to create a **primary key** as a **new column** for the dataset \n",
    "  * Convert match_date into the format **YYYYMMDD**\n",
    "  * Depending upon whether the given match is the **1st** of **2nd** for the day, append a string **01 or 02** to the end\n",
    "  * **Ex.** if 2 matches took place on 18-04-2009 then the primary key of the 1st match should look like **2009041801** and second match as **2009041802**\n",
    "--------------------"
   ]
  },
  {
   "cell_type": "code",
   "execution_count": 106,
   "metadata": {},
   "outputs": [],
   "source": [
    "import pandas as pd\n",
    "import numpy as np"
   ]
  },
  {
   "cell_type": "code",
   "execution_count": 107,
   "metadata": {},
   "outputs": [],
   "source": [
    "matches=pd.read_csv('ipl_matches.csv')"
   ]
  },
  {
   "cell_type": "code",
   "execution_count": 108,
   "metadata": {},
   "outputs": [
    {
     "data": {
      "text/html": [
       "<div>\n",
       "<style scoped>\n",
       "    .dataframe tbody tr th:only-of-type {\n",
       "        vertical-align: middle;\n",
       "    }\n",
       "\n",
       "    .dataframe tbody tr th {\n",
       "        vertical-align: top;\n",
       "    }\n",
       "\n",
       "    .dataframe thead th {\n",
       "        text-align: right;\n",
       "    }\n",
       "</style>\n",
       "<table border=\"1\" class=\"dataframe\">\n",
       "  <thead>\n",
       "    <tr style=\"text-align: right;\">\n",
       "      <th></th>\n",
       "      <th>match_date</th>\n",
       "      <th>Ground</th>\n",
       "      <th>Team 1</th>\n",
       "      <th>Team 2</th>\n",
       "      <th>Winner</th>\n",
       "      <th>year</th>\n",
       "      <th>month</th>\n",
       "      <th>day</th>\n",
       "      <th>win_mode</th>\n",
       "      <th>margin</th>\n",
       "      <th>toss_winner</th>\n",
       "      <th>toss_decision</th>\n",
       "      <th>match_no</th>\n",
       "    </tr>\n",
       "  </thead>\n",
       "  <tbody>\n",
       "    <tr>\n",
       "      <th>0</th>\n",
       "      <td>2008-04-18</td>\n",
       "      <td>Bengaluru, Bangalore</td>\n",
       "      <td>Royal Challengers Bangalore</td>\n",
       "      <td>Kolkata Knight Riders</td>\n",
       "      <td>Kolkata Knight Riders</td>\n",
       "      <td>2008</td>\n",
       "      <td>4</td>\n",
       "      <td>18</td>\n",
       "      <td>Runs</td>\n",
       "      <td>140.0</td>\n",
       "      <td>Royal Challengers Bangalore</td>\n",
       "      <td>field first</td>\n",
       "      <td>1</td>\n",
       "    </tr>\n",
       "    <tr>\n",
       "      <th>1</th>\n",
       "      <td>2008-04-19</td>\n",
       "      <td>Mohali, Chandigarh</td>\n",
       "      <td>Kings XI Punjab</td>\n",
       "      <td>Chennai Super Kings</td>\n",
       "      <td>Chennai Super Kings</td>\n",
       "      <td>2008</td>\n",
       "      <td>4</td>\n",
       "      <td>19</td>\n",
       "      <td>Runs</td>\n",
       "      <td>33.0</td>\n",
       "      <td>Chennai Super Kings</td>\n",
       "      <td>bat first</td>\n",
       "      <td>2</td>\n",
       "    </tr>\n",
       "    <tr>\n",
       "      <th>2</th>\n",
       "      <td>2008-04-19</td>\n",
       "      <td>Delhi</td>\n",
       "      <td>Delhi Capitals</td>\n",
       "      <td>Rajasthan Royals</td>\n",
       "      <td>Delhi Capitals</td>\n",
       "      <td>2008</td>\n",
       "      <td>4</td>\n",
       "      <td>19</td>\n",
       "      <td>Wickets</td>\n",
       "      <td>9.0</td>\n",
       "      <td>Rajasthan Royals</td>\n",
       "      <td>bat first</td>\n",
       "      <td>3</td>\n",
       "    </tr>\n",
       "    <tr>\n",
       "      <th>3</th>\n",
       "      <td>2008-04-20</td>\n",
       "      <td>Kolkata</td>\n",
       "      <td>Kolkata Knight Riders</td>\n",
       "      <td>Deccan Chargers</td>\n",
       "      <td>Kolkata Knight Riders</td>\n",
       "      <td>2008</td>\n",
       "      <td>4</td>\n",
       "      <td>20</td>\n",
       "      <td>Wickets</td>\n",
       "      <td>5.0</td>\n",
       "      <td>Deccan Chargers</td>\n",
       "      <td>bat first</td>\n",
       "      <td>4</td>\n",
       "    </tr>\n",
       "    <tr>\n",
       "      <th>4</th>\n",
       "      <td>2008-04-20</td>\n",
       "      <td>Mumbai</td>\n",
       "      <td>Mumbai Indians</td>\n",
       "      <td>Royal Challengers Bangalore</td>\n",
       "      <td>Royal Challengers Bangalore</td>\n",
       "      <td>2008</td>\n",
       "      <td>4</td>\n",
       "      <td>20</td>\n",
       "      <td>Wickets</td>\n",
       "      <td>5.0</td>\n",
       "      <td>Mumbai Indians</td>\n",
       "      <td>bat first</td>\n",
       "      <td>5</td>\n",
       "    </tr>\n",
       "  </tbody>\n",
       "</table>\n",
       "</div>"
      ],
      "text/plain": [
       "   match_date                Ground                       Team 1  \\\n",
       "0  2008-04-18  Bengaluru, Bangalore  Royal Challengers Bangalore   \n",
       "1  2008-04-19    Mohali, Chandigarh              Kings XI Punjab   \n",
       "2  2008-04-19                 Delhi               Delhi Capitals   \n",
       "3  2008-04-20               Kolkata        Kolkata Knight Riders   \n",
       "4  2008-04-20                Mumbai               Mumbai Indians   \n",
       "\n",
       "                        Team 2                       Winner  year  month  day  \\\n",
       "0        Kolkata Knight Riders        Kolkata Knight Riders  2008      4   18   \n",
       "1          Chennai Super Kings          Chennai Super Kings  2008      4   19   \n",
       "2             Rajasthan Royals               Delhi Capitals  2008      4   19   \n",
       "3              Deccan Chargers        Kolkata Knight Riders  2008      4   20   \n",
       "4  Royal Challengers Bangalore  Royal Challengers Bangalore  2008      4   20   \n",
       "\n",
       "  win_mode  margin                  toss_winner toss_decision  match_no  \n",
       "0     Runs   140.0  Royal Challengers Bangalore   field first         1  \n",
       "1     Runs    33.0          Chennai Super Kings     bat first         2  \n",
       "2  Wickets     9.0             Rajasthan Royals     bat first         3  \n",
       "3  Wickets     5.0              Deccan Chargers     bat first         4  \n",
       "4  Wickets     5.0               Mumbai Indians     bat first         5  "
      ]
     },
     "execution_count": 108,
     "metadata": {},
     "output_type": "execute_result"
    }
   ],
   "source": [
    "matches.head()"
   ]
  },
  {
   "cell_type": "markdown",
   "metadata": {},
   "source": [
    "#### a) Display data-type of each column"
   ]
  },
  {
   "cell_type": "code",
   "execution_count": 109,
   "metadata": {},
   "outputs": [
    {
     "data": {
      "text/plain": [
       "match_date        object\n",
       "Ground            object\n",
       "Team 1            object\n",
       "Team 2            object\n",
       "Winner            object\n",
       "year               int64\n",
       "month              int64\n",
       "day                int64\n",
       "win_mode          object\n",
       "margin           float64\n",
       "toss_winner       object\n",
       "toss_decision     object\n",
       "match_no           int64\n",
       "dtype: object"
      ]
     },
     "execution_count": 109,
     "metadata": {},
     "output_type": "execute_result"
    }
   ],
   "source": [
    "matches.dtypes"
   ]
  },
  {
   "cell_type": "markdown",
   "metadata": {
    "colab_type": "text",
    "id": "tmBjY4AHc0If"
   },
   "source": [
    "#### b) Define granularity for the dataset ipl_matches\n",
    "\n",
    "##### The dataset provides us match-wise data so we can go as deep as a single match in a record and hence a single match record determines  the granularity of the dataset"
   ]
  },
  {
   "cell_type": "markdown",
   "metadata": {
    "colab_type": "text",
    "id": "jnE_04qTc0If"
   },
   "source": [
    "#### c) Write code to create a primary key as a new column for the dataset\n",
    "\n",
    "    1. Convert match_date into the format YYYYMMDD\n",
    "    2. Depending upon whether the given match is the 1st of 2nd for the day, append a string 01 or 02 to the end\n",
    "    \n",
    "    Ex. if 2 matches took place on 18-04-2009 then the primary key of the 1st match should look like 2009041801 and second match as 2009041802\n"
   ]
  },
  {
   "cell_type": "code",
   "execution_count": 110,
   "metadata": {},
   "outputs": [
    {
     "data": {
      "text/plain": [
       "Index(['match_date', 'Ground', 'Team 1', 'Team 2', 'Winner', 'year', 'month',\n",
       "       'day', 'win_mode', 'margin', 'toss_winner', 'toss_decision',\n",
       "       'match_no'],\n",
       "      dtype='object')"
      ]
     },
     "execution_count": 110,
     "metadata": {},
     "output_type": "execute_result"
    }
   ],
   "source": [
    "matches.columns"
   ]
  },
  {
   "cell_type": "code",
   "execution_count": 111,
   "metadata": {},
   "outputs": [
    {
     "data": {
      "text/plain": [
       "'2008-04-18'"
      ]
     },
     "execution_count": 111,
     "metadata": {},
     "output_type": "execute_result"
    }
   ],
   "source": [
    "matches['match_date'][0]"
   ]
  },
  {
   "cell_type": "code",
   "execution_count": 112,
   "metadata": {},
   "outputs": [],
   "source": [
    "primary=matches['match_date']"
   ]
  },
  {
   "cell_type": "code",
   "execution_count": 113,
   "metadata": {},
   "outputs": [],
   "source": [
    "primary=list(primary)"
   ]
  },
  {
   "cell_type": "code",
   "execution_count": 114,
   "metadata": {},
   "outputs": [],
   "source": [
    "for i in range(len(primary)):\n",
    "    primary[i]=primary[i].replace('-','')"
   ]
  },
  {
   "cell_type": "code",
   "execution_count": 115,
   "metadata": {},
   "outputs": [],
   "source": [
    "primary[0]=primary[0]+'01'"
   ]
  },
  {
   "cell_type": "code",
   "execution_count": 116,
   "metadata": {},
   "outputs": [],
   "source": [
    "for i in range(1,len(primary)):\n",
    "    if(primary[i]==primary[i-1]):\n",
    "        primary[i]=primary[i]+\"02\"\n",
    "    else:\n",
    "        primary[i]=primary[i]+\"01\""
   ]
  },
  {
   "cell_type": "code",
   "execution_count": 117,
   "metadata": {},
   "outputs": [],
   "source": [
    "matches['primary']=primary"
   ]
  },
  {
   "cell_type": "code",
   "execution_count": 118,
   "metadata": {},
   "outputs": [
    {
     "data": {
      "text/html": [
       "<div>\n",
       "<style scoped>\n",
       "    .dataframe tbody tr th:only-of-type {\n",
       "        vertical-align: middle;\n",
       "    }\n",
       "\n",
       "    .dataframe tbody tr th {\n",
       "        vertical-align: top;\n",
       "    }\n",
       "\n",
       "    .dataframe thead th {\n",
       "        text-align: right;\n",
       "    }\n",
       "</style>\n",
       "<table border=\"1\" class=\"dataframe\">\n",
       "  <thead>\n",
       "    <tr style=\"text-align: right;\">\n",
       "      <th></th>\n",
       "      <th>match_date</th>\n",
       "      <th>Ground</th>\n",
       "      <th>Team 1</th>\n",
       "      <th>Team 2</th>\n",
       "      <th>Winner</th>\n",
       "      <th>year</th>\n",
       "      <th>month</th>\n",
       "      <th>day</th>\n",
       "      <th>win_mode</th>\n",
       "      <th>margin</th>\n",
       "      <th>toss_winner</th>\n",
       "      <th>toss_decision</th>\n",
       "      <th>match_no</th>\n",
       "      <th>primary</th>\n",
       "    </tr>\n",
       "  </thead>\n",
       "  <tbody>\n",
       "    <tr>\n",
       "      <th>0</th>\n",
       "      <td>2008-04-18</td>\n",
       "      <td>Bengaluru, Bangalore</td>\n",
       "      <td>Royal Challengers Bangalore</td>\n",
       "      <td>Kolkata Knight Riders</td>\n",
       "      <td>Kolkata Knight Riders</td>\n",
       "      <td>2008</td>\n",
       "      <td>4</td>\n",
       "      <td>18</td>\n",
       "      <td>Runs</td>\n",
       "      <td>140.0</td>\n",
       "      <td>Royal Challengers Bangalore</td>\n",
       "      <td>field first</td>\n",
       "      <td>1</td>\n",
       "      <td>2008041801</td>\n",
       "    </tr>\n",
       "    <tr>\n",
       "      <th>1</th>\n",
       "      <td>2008-04-19</td>\n",
       "      <td>Mohali, Chandigarh</td>\n",
       "      <td>Kings XI Punjab</td>\n",
       "      <td>Chennai Super Kings</td>\n",
       "      <td>Chennai Super Kings</td>\n",
       "      <td>2008</td>\n",
       "      <td>4</td>\n",
       "      <td>19</td>\n",
       "      <td>Runs</td>\n",
       "      <td>33.0</td>\n",
       "      <td>Chennai Super Kings</td>\n",
       "      <td>bat first</td>\n",
       "      <td>2</td>\n",
       "      <td>2008041901</td>\n",
       "    </tr>\n",
       "    <tr>\n",
       "      <th>2</th>\n",
       "      <td>2008-04-19</td>\n",
       "      <td>Delhi</td>\n",
       "      <td>Delhi Capitals</td>\n",
       "      <td>Rajasthan Royals</td>\n",
       "      <td>Delhi Capitals</td>\n",
       "      <td>2008</td>\n",
       "      <td>4</td>\n",
       "      <td>19</td>\n",
       "      <td>Wickets</td>\n",
       "      <td>9.0</td>\n",
       "      <td>Rajasthan Royals</td>\n",
       "      <td>bat first</td>\n",
       "      <td>3</td>\n",
       "      <td>2008041901</td>\n",
       "    </tr>\n",
       "    <tr>\n",
       "      <th>3</th>\n",
       "      <td>2008-04-20</td>\n",
       "      <td>Kolkata</td>\n",
       "      <td>Kolkata Knight Riders</td>\n",
       "      <td>Deccan Chargers</td>\n",
       "      <td>Kolkata Knight Riders</td>\n",
       "      <td>2008</td>\n",
       "      <td>4</td>\n",
       "      <td>20</td>\n",
       "      <td>Wickets</td>\n",
       "      <td>5.0</td>\n",
       "      <td>Deccan Chargers</td>\n",
       "      <td>bat first</td>\n",
       "      <td>4</td>\n",
       "      <td>2008042001</td>\n",
       "    </tr>\n",
       "    <tr>\n",
       "      <th>4</th>\n",
       "      <td>2008-04-20</td>\n",
       "      <td>Mumbai</td>\n",
       "      <td>Mumbai Indians</td>\n",
       "      <td>Royal Challengers Bangalore</td>\n",
       "      <td>Royal Challengers Bangalore</td>\n",
       "      <td>2008</td>\n",
       "      <td>4</td>\n",
       "      <td>20</td>\n",
       "      <td>Wickets</td>\n",
       "      <td>5.0</td>\n",
       "      <td>Mumbai Indians</td>\n",
       "      <td>bat first</td>\n",
       "      <td>5</td>\n",
       "      <td>2008042001</td>\n",
       "    </tr>\n",
       "  </tbody>\n",
       "</table>\n",
       "</div>"
      ],
      "text/plain": [
       "   match_date                Ground                       Team 1  \\\n",
       "0  2008-04-18  Bengaluru, Bangalore  Royal Challengers Bangalore   \n",
       "1  2008-04-19    Mohali, Chandigarh              Kings XI Punjab   \n",
       "2  2008-04-19                 Delhi               Delhi Capitals   \n",
       "3  2008-04-20               Kolkata        Kolkata Knight Riders   \n",
       "4  2008-04-20                Mumbai               Mumbai Indians   \n",
       "\n",
       "                        Team 2                       Winner  year  month  day  \\\n",
       "0        Kolkata Knight Riders        Kolkata Knight Riders  2008      4   18   \n",
       "1          Chennai Super Kings          Chennai Super Kings  2008      4   19   \n",
       "2             Rajasthan Royals               Delhi Capitals  2008      4   19   \n",
       "3              Deccan Chargers        Kolkata Knight Riders  2008      4   20   \n",
       "4  Royal Challengers Bangalore  Royal Challengers Bangalore  2008      4   20   \n",
       "\n",
       "  win_mode  margin                  toss_winner toss_decision  match_no  \\\n",
       "0     Runs   140.0  Royal Challengers Bangalore   field first         1   \n",
       "1     Runs    33.0          Chennai Super Kings     bat first         2   \n",
       "2  Wickets     9.0             Rajasthan Royals     bat first         3   \n",
       "3  Wickets     5.0              Deccan Chargers     bat first         4   \n",
       "4  Wickets     5.0               Mumbai Indians     bat first         5   \n",
       "\n",
       "      primary  \n",
       "0  2008041801  \n",
       "1  2008041901  \n",
       "2  2008041901  \n",
       "3  2008042001  \n",
       "4  2008042001  "
      ]
     },
     "execution_count": 118,
     "metadata": {},
     "output_type": "execute_result"
    }
   ],
   "source": [
    "matches.head()"
   ]
  },
  {
   "cell_type": "markdown",
   "metadata": {
    "colab_type": "text",
    "id": "34Cmk_TSrYQJ"
   },
   "source": [
    "### **Question 2** \n",
    "Let's look at the below statement : <br>\n",
    "**It is said that you win half the match if you win the toss** <br><br>\n",
    "So, let's understand to what extent teams who **won the toss** also **won the matches**\n",
    "  * Write code to find out **% matches by team** (across all seasons) where they **won the toss**\n",
    "  * What **% of matches** which the teams **won the toss also ended up winning the matches**?\n",
    "  * Exhibit the above as a **% of total matches**\n",
    "  * Which team tops the chart? Meaning which team took full advantage of the opportunity of winning the toss\n",
    "\n",
    "**Ex :** If CSK played a total of **100** matches and won toss in **70** of them. This would mean **70%** of tosses were won by them. Now, if out of these 70 they ended up winning **28** of them then they won **40%** of the matches where they had won the toss. This is **28%** of total matches"
   ]
  },
  {
   "cell_type": "markdown",
   "metadata": {},
   "source": [
    "#### a) Write code to find out % matches by team (across all seasons) where they won the toss\n",
    "#### b) What % of matches which the teams won the toss also ended up winning the matches?"
   ]
  },
  {
   "cell_type": "code",
   "execution_count": 119,
   "metadata": {},
   "outputs": [],
   "source": [
    "matches['tw']=matches['toss_winner']==matches['Team 1']"
   ]
  },
  {
   "cell_type": "code",
   "execution_count": 120,
   "metadata": {},
   "outputs": [
    {
     "data": {
      "text/html": [
       "<div>\n",
       "<style scoped>\n",
       "    .dataframe tbody tr th:only-of-type {\n",
       "        vertical-align: middle;\n",
       "    }\n",
       "\n",
       "    .dataframe tbody tr th {\n",
       "        vertical-align: top;\n",
       "    }\n",
       "\n",
       "    .dataframe thead th {\n",
       "        text-align: right;\n",
       "    }\n",
       "</style>\n",
       "<table border=\"1\" class=\"dataframe\">\n",
       "  <thead>\n",
       "    <tr style=\"text-align: right;\">\n",
       "      <th></th>\n",
       "      <th>match_date</th>\n",
       "      <th>Ground</th>\n",
       "      <th>Team 1</th>\n",
       "      <th>Team 2</th>\n",
       "      <th>Winner</th>\n",
       "      <th>year</th>\n",
       "      <th>month</th>\n",
       "      <th>day</th>\n",
       "      <th>win_mode</th>\n",
       "      <th>margin</th>\n",
       "      <th>toss_winner</th>\n",
       "      <th>toss_decision</th>\n",
       "      <th>match_no</th>\n",
       "      <th>primary</th>\n",
       "      <th>tw</th>\n",
       "    </tr>\n",
       "  </thead>\n",
       "  <tbody>\n",
       "    <tr>\n",
       "      <th>0</th>\n",
       "      <td>2008-04-18</td>\n",
       "      <td>Bengaluru, Bangalore</td>\n",
       "      <td>Royal Challengers Bangalore</td>\n",
       "      <td>Kolkata Knight Riders</td>\n",
       "      <td>Kolkata Knight Riders</td>\n",
       "      <td>2008</td>\n",
       "      <td>4</td>\n",
       "      <td>18</td>\n",
       "      <td>Runs</td>\n",
       "      <td>140.0</td>\n",
       "      <td>Royal Challengers Bangalore</td>\n",
       "      <td>field first</td>\n",
       "      <td>1</td>\n",
       "      <td>2008041801</td>\n",
       "      <td>True</td>\n",
       "    </tr>\n",
       "    <tr>\n",
       "      <th>1</th>\n",
       "      <td>2008-04-19</td>\n",
       "      <td>Mohali, Chandigarh</td>\n",
       "      <td>Kings XI Punjab</td>\n",
       "      <td>Chennai Super Kings</td>\n",
       "      <td>Chennai Super Kings</td>\n",
       "      <td>2008</td>\n",
       "      <td>4</td>\n",
       "      <td>19</td>\n",
       "      <td>Runs</td>\n",
       "      <td>33.0</td>\n",
       "      <td>Chennai Super Kings</td>\n",
       "      <td>bat first</td>\n",
       "      <td>2</td>\n",
       "      <td>2008041901</td>\n",
       "      <td>False</td>\n",
       "    </tr>\n",
       "    <tr>\n",
       "      <th>2</th>\n",
       "      <td>2008-04-19</td>\n",
       "      <td>Delhi</td>\n",
       "      <td>Delhi Capitals</td>\n",
       "      <td>Rajasthan Royals</td>\n",
       "      <td>Delhi Capitals</td>\n",
       "      <td>2008</td>\n",
       "      <td>4</td>\n",
       "      <td>19</td>\n",
       "      <td>Wickets</td>\n",
       "      <td>9.0</td>\n",
       "      <td>Rajasthan Royals</td>\n",
       "      <td>bat first</td>\n",
       "      <td>3</td>\n",
       "      <td>2008041901</td>\n",
       "      <td>False</td>\n",
       "    </tr>\n",
       "    <tr>\n",
       "      <th>3</th>\n",
       "      <td>2008-04-20</td>\n",
       "      <td>Kolkata</td>\n",
       "      <td>Kolkata Knight Riders</td>\n",
       "      <td>Deccan Chargers</td>\n",
       "      <td>Kolkata Knight Riders</td>\n",
       "      <td>2008</td>\n",
       "      <td>4</td>\n",
       "      <td>20</td>\n",
       "      <td>Wickets</td>\n",
       "      <td>5.0</td>\n",
       "      <td>Deccan Chargers</td>\n",
       "      <td>bat first</td>\n",
       "      <td>4</td>\n",
       "      <td>2008042001</td>\n",
       "      <td>False</td>\n",
       "    </tr>\n",
       "    <tr>\n",
       "      <th>4</th>\n",
       "      <td>2008-04-20</td>\n",
       "      <td>Mumbai</td>\n",
       "      <td>Mumbai Indians</td>\n",
       "      <td>Royal Challengers Bangalore</td>\n",
       "      <td>Royal Challengers Bangalore</td>\n",
       "      <td>2008</td>\n",
       "      <td>4</td>\n",
       "      <td>20</td>\n",
       "      <td>Wickets</td>\n",
       "      <td>5.0</td>\n",
       "      <td>Mumbai Indians</td>\n",
       "      <td>bat first</td>\n",
       "      <td>5</td>\n",
       "      <td>2008042001</td>\n",
       "      <td>True</td>\n",
       "    </tr>\n",
       "  </tbody>\n",
       "</table>\n",
       "</div>"
      ],
      "text/plain": [
       "   match_date                Ground                       Team 1  \\\n",
       "0  2008-04-18  Bengaluru, Bangalore  Royal Challengers Bangalore   \n",
       "1  2008-04-19    Mohali, Chandigarh              Kings XI Punjab   \n",
       "2  2008-04-19                 Delhi               Delhi Capitals   \n",
       "3  2008-04-20               Kolkata        Kolkata Knight Riders   \n",
       "4  2008-04-20                Mumbai               Mumbai Indians   \n",
       "\n",
       "                        Team 2                       Winner  year  month  day  \\\n",
       "0        Kolkata Knight Riders        Kolkata Knight Riders  2008      4   18   \n",
       "1          Chennai Super Kings          Chennai Super Kings  2008      4   19   \n",
       "2             Rajasthan Royals               Delhi Capitals  2008      4   19   \n",
       "3              Deccan Chargers        Kolkata Knight Riders  2008      4   20   \n",
       "4  Royal Challengers Bangalore  Royal Challengers Bangalore  2008      4   20   \n",
       "\n",
       "  win_mode  margin                  toss_winner toss_decision  match_no  \\\n",
       "0     Runs   140.0  Royal Challengers Bangalore   field first         1   \n",
       "1     Runs    33.0          Chennai Super Kings     bat first         2   \n",
       "2  Wickets     9.0             Rajasthan Royals     bat first         3   \n",
       "3  Wickets     5.0              Deccan Chargers     bat first         4   \n",
       "4  Wickets     5.0               Mumbai Indians     bat first         5   \n",
       "\n",
       "      primary     tw  \n",
       "0  2008041801   True  \n",
       "1  2008041901  False  \n",
       "2  2008041901  False  \n",
       "3  2008042001  False  \n",
       "4  2008042001   True  "
      ]
     },
     "execution_count": 120,
     "metadata": {},
     "output_type": "execute_result"
    }
   ],
   "source": [
    "matches.head()"
   ]
  },
  {
   "cell_type": "code",
   "execution_count": 121,
   "metadata": {},
   "outputs": [],
   "source": [
    "g1=matches[['Team 1','primary','tw']].groupby(['Team 1','tw']).agg(['count'])\n",
    "g2=matches[['Team 2','primary','tw']].groupby(['Team 2','tw']).agg(['count'])"
   ]
  },
  {
   "cell_type": "code",
   "execution_count": 122,
   "metadata": {},
   "outputs": [],
   "source": [
    "A=dict()\n",
    "team=[]\n",
    "ww=[]\n",
    "wl=[]\n",
    "lw=[]\n",
    "ll=[]\n",
    "i=0\n",
    "for name,group in g1.iterrows():\n",
    "    if name[1]==False:\n",
    "        wl.append(group[0])\n",
    "    else:\n",
    "        ww.append(group[0])\n",
    "    if(i%2==0):\n",
    "        team.append(name[0])\n",
    "    i+=1\n",
    "        \n",
    "for name,group in g2.iterrows():\n",
    "    if name[1]==False:\n",
    "        ll.append(group[0])\n",
    "    else:\n",
    "        lw.append(group[0])\n",
    "\n",
    "A['Team']=team\n",
    "A['Win match-win toss']=ww\n",
    "A['Win match-lost toss']=wl\n",
    "A['Lose match-win toss']=lw\n",
    "A['Lose match-lost toss']=ll\n",
    "\n",
    "df=pd.DataFrame(A)"
   ]
  },
  {
   "cell_type": "code",
   "execution_count": 123,
   "metadata": {},
   "outputs": [
    {
     "data": {
      "text/html": [
       "<div>\n",
       "<style scoped>\n",
       "    .dataframe tbody tr th:only-of-type {\n",
       "        vertical-align: middle;\n",
       "    }\n",
       "\n",
       "    .dataframe tbody tr th {\n",
       "        vertical-align: top;\n",
       "    }\n",
       "\n",
       "    .dataframe thead th {\n",
       "        text-align: right;\n",
       "    }\n",
       "</style>\n",
       "<table border=\"1\" class=\"dataframe\">\n",
       "  <thead>\n",
       "    <tr style=\"text-align: right;\">\n",
       "      <th></th>\n",
       "      <th>Team</th>\n",
       "      <th>Win match-win toss</th>\n",
       "      <th>Win match-lost toss</th>\n",
       "      <th>Lose match-win toss</th>\n",
       "      <th>Lose match-lost toss</th>\n",
       "    </tr>\n",
       "  </thead>\n",
       "  <tbody>\n",
       "    <tr>\n",
       "      <th>0</th>\n",
       "      <td>Chennai Super Kings</td>\n",
       "      <td>49</td>\n",
       "      <td>42</td>\n",
       "      <td>35</td>\n",
       "      <td>40</td>\n",
       "    </tr>\n",
       "    <tr>\n",
       "      <th>1</th>\n",
       "      <td>Deccan Chargers</td>\n",
       "      <td>22</td>\n",
       "      <td>17</td>\n",
       "      <td>15</td>\n",
       "      <td>22</td>\n",
       "    </tr>\n",
       "    <tr>\n",
       "      <th>2</th>\n",
       "      <td>Delhi Capitals</td>\n",
       "      <td>44</td>\n",
       "      <td>48</td>\n",
       "      <td>39</td>\n",
       "      <td>47</td>\n",
       "    </tr>\n",
       "    <tr>\n",
       "      <th>3</th>\n",
       "      <td>Gujarat Lions</td>\n",
       "      <td>7</td>\n",
       "      <td>9</td>\n",
       "      <td>6</td>\n",
       "      <td>8</td>\n",
       "    </tr>\n",
       "    <tr>\n",
       "      <th>4</th>\n",
       "      <td>Kings XI Punjab</td>\n",
       "      <td>39</td>\n",
       "      <td>48</td>\n",
       "      <td>47</td>\n",
       "      <td>41</td>\n",
       "    </tr>\n",
       "    <tr>\n",
       "      <th>5</th>\n",
       "      <td>Kochi Tuskers Kerala</td>\n",
       "      <td>4</td>\n",
       "      <td>3</td>\n",
       "      <td>3</td>\n",
       "      <td>4</td>\n",
       "    </tr>\n",
       "    <tr>\n",
       "      <th>6</th>\n",
       "      <td>Kolkata Knight Riders</td>\n",
       "      <td>43</td>\n",
       "      <td>44</td>\n",
       "      <td>43</td>\n",
       "      <td>51</td>\n",
       "    </tr>\n",
       "    <tr>\n",
       "      <th>7</th>\n",
       "      <td>Mumbai Indians</td>\n",
       "      <td>47</td>\n",
       "      <td>40</td>\n",
       "      <td>50</td>\n",
       "      <td>51</td>\n",
       "    </tr>\n",
       "    <tr>\n",
       "      <th>8</th>\n",
       "      <td>Pune Warriors</td>\n",
       "      <td>10</td>\n",
       "      <td>13</td>\n",
       "      <td>13</td>\n",
       "      <td>10</td>\n",
       "    </tr>\n",
       "    <tr>\n",
       "      <th>9</th>\n",
       "      <td>Rajasthan Royals</td>\n",
       "      <td>31</td>\n",
       "      <td>35</td>\n",
       "      <td>32</td>\n",
       "      <td>52</td>\n",
       "    </tr>\n",
       "    <tr>\n",
       "      <th>10</th>\n",
       "      <td>Rising Pune Supergiant</td>\n",
       "      <td>5</td>\n",
       "      <td>9</td>\n",
       "      <td>10</td>\n",
       "      <td>6</td>\n",
       "    </tr>\n",
       "    <tr>\n",
       "      <th>11</th>\n",
       "      <td>Royal Challengers Bangalore</td>\n",
       "      <td>40</td>\n",
       "      <td>61</td>\n",
       "      <td>39</td>\n",
       "      <td>43</td>\n",
       "    </tr>\n",
       "    <tr>\n",
       "      <th>12</th>\n",
       "      <td>Sunrisers Hyderabad</td>\n",
       "      <td>23</td>\n",
       "      <td>30</td>\n",
       "      <td>32</td>\n",
       "      <td>24</td>\n",
       "    </tr>\n",
       "  </tbody>\n",
       "</table>\n",
       "</div>"
      ],
      "text/plain": [
       "                           Team  Win match-win toss  Win match-lost toss  \\\n",
       "0           Chennai Super Kings                  49                   42   \n",
       "1               Deccan Chargers                  22                   17   \n",
       "2                Delhi Capitals                  44                   48   \n",
       "3                 Gujarat Lions                   7                    9   \n",
       "4               Kings XI Punjab                  39                   48   \n",
       "5          Kochi Tuskers Kerala                   4                    3   \n",
       "6         Kolkata Knight Riders                  43                   44   \n",
       "7                Mumbai Indians                  47                   40   \n",
       "8                 Pune Warriors                  10                   13   \n",
       "9              Rajasthan Royals                  31                   35   \n",
       "10       Rising Pune Supergiant                   5                    9   \n",
       "11  Royal Challengers Bangalore                  40                   61   \n",
       "12          Sunrisers Hyderabad                  23                   30   \n",
       "\n",
       "    Lose match-win toss  Lose match-lost toss  \n",
       "0                    35                    40  \n",
       "1                    15                    22  \n",
       "2                    39                    47  \n",
       "3                     6                     8  \n",
       "4                    47                    41  \n",
       "5                     3                     4  \n",
       "6                    43                    51  \n",
       "7                    50                    51  \n",
       "8                    13                    10  \n",
       "9                    32                    52  \n",
       "10                   10                     6  \n",
       "11                   39                    43  \n",
       "12                   32                    24  "
      ]
     },
     "execution_count": 123,
     "metadata": {},
     "output_type": "execute_result"
    }
   ],
   "source": [
    "df"
   ]
  },
  {
   "cell_type": "code",
   "execution_count": 124,
   "metadata": {},
   "outputs": [],
   "source": [
    "df['total']=df['Win match-win toss']+df['Win match-lost toss']+df['Lose match-win toss']+df['Lose match-lost toss']"
   ]
  },
  {
   "cell_type": "code",
   "execution_count": 125,
   "metadata": {},
   "outputs": [],
   "source": [
    "df['toss %']=(df['Win match-win toss']+df['Lose match-win toss'])*100/df['total']"
   ]
  },
  {
   "cell_type": "code",
   "execution_count": 126,
   "metadata": {},
   "outputs": [
    {
     "data": {
      "text/html": [
       "<div>\n",
       "<style scoped>\n",
       "    .dataframe tbody tr th:only-of-type {\n",
       "        vertical-align: middle;\n",
       "    }\n",
       "\n",
       "    .dataframe tbody tr th {\n",
       "        vertical-align: top;\n",
       "    }\n",
       "\n",
       "    .dataframe thead th {\n",
       "        text-align: right;\n",
       "    }\n",
       "</style>\n",
       "<table border=\"1\" class=\"dataframe\">\n",
       "  <thead>\n",
       "    <tr style=\"text-align: right;\">\n",
       "      <th></th>\n",
       "      <th>Team</th>\n",
       "      <th>Win match-win toss</th>\n",
       "      <th>Win match-lost toss</th>\n",
       "      <th>Lose match-win toss</th>\n",
       "      <th>Lose match-lost toss</th>\n",
       "      <th>total</th>\n",
       "      <th>toss %</th>\n",
       "    </tr>\n",
       "  </thead>\n",
       "  <tbody>\n",
       "    <tr>\n",
       "      <th>0</th>\n",
       "      <td>Chennai Super Kings</td>\n",
       "      <td>49</td>\n",
       "      <td>42</td>\n",
       "      <td>35</td>\n",
       "      <td>40</td>\n",
       "      <td>166</td>\n",
       "      <td>50.602410</td>\n",
       "    </tr>\n",
       "    <tr>\n",
       "      <th>1</th>\n",
       "      <td>Deccan Chargers</td>\n",
       "      <td>22</td>\n",
       "      <td>17</td>\n",
       "      <td>15</td>\n",
       "      <td>22</td>\n",
       "      <td>76</td>\n",
       "      <td>48.684211</td>\n",
       "    </tr>\n",
       "    <tr>\n",
       "      <th>2</th>\n",
       "      <td>Delhi Capitals</td>\n",
       "      <td>44</td>\n",
       "      <td>48</td>\n",
       "      <td>39</td>\n",
       "      <td>47</td>\n",
       "      <td>178</td>\n",
       "      <td>46.629213</td>\n",
       "    </tr>\n",
       "    <tr>\n",
       "      <th>3</th>\n",
       "      <td>Gujarat Lions</td>\n",
       "      <td>7</td>\n",
       "      <td>9</td>\n",
       "      <td>6</td>\n",
       "      <td>8</td>\n",
       "      <td>30</td>\n",
       "      <td>43.333333</td>\n",
       "    </tr>\n",
       "    <tr>\n",
       "      <th>4</th>\n",
       "      <td>Kings XI Punjab</td>\n",
       "      <td>39</td>\n",
       "      <td>48</td>\n",
       "      <td>47</td>\n",
       "      <td>41</td>\n",
       "      <td>175</td>\n",
       "      <td>49.142857</td>\n",
       "    </tr>\n",
       "    <tr>\n",
       "      <th>5</th>\n",
       "      <td>Kochi Tuskers Kerala</td>\n",
       "      <td>4</td>\n",
       "      <td>3</td>\n",
       "      <td>3</td>\n",
       "      <td>4</td>\n",
       "      <td>14</td>\n",
       "      <td>50.000000</td>\n",
       "    </tr>\n",
       "    <tr>\n",
       "      <th>6</th>\n",
       "      <td>Kolkata Knight Riders</td>\n",
       "      <td>43</td>\n",
       "      <td>44</td>\n",
       "      <td>43</td>\n",
       "      <td>51</td>\n",
       "      <td>181</td>\n",
       "      <td>47.513812</td>\n",
       "    </tr>\n",
       "    <tr>\n",
       "      <th>7</th>\n",
       "      <td>Mumbai Indians</td>\n",
       "      <td>47</td>\n",
       "      <td>40</td>\n",
       "      <td>50</td>\n",
       "      <td>51</td>\n",
       "      <td>188</td>\n",
       "      <td>51.595745</td>\n",
       "    </tr>\n",
       "    <tr>\n",
       "      <th>8</th>\n",
       "      <td>Pune Warriors</td>\n",
       "      <td>10</td>\n",
       "      <td>13</td>\n",
       "      <td>13</td>\n",
       "      <td>10</td>\n",
       "      <td>46</td>\n",
       "      <td>50.000000</td>\n",
       "    </tr>\n",
       "    <tr>\n",
       "      <th>9</th>\n",
       "      <td>Rajasthan Royals</td>\n",
       "      <td>31</td>\n",
       "      <td>35</td>\n",
       "      <td>32</td>\n",
       "      <td>52</td>\n",
       "      <td>150</td>\n",
       "      <td>42.000000</td>\n",
       "    </tr>\n",
       "    <tr>\n",
       "      <th>10</th>\n",
       "      <td>Rising Pune Supergiant</td>\n",
       "      <td>5</td>\n",
       "      <td>9</td>\n",
       "      <td>10</td>\n",
       "      <td>6</td>\n",
       "      <td>30</td>\n",
       "      <td>50.000000</td>\n",
       "    </tr>\n",
       "    <tr>\n",
       "      <th>11</th>\n",
       "      <td>Royal Challengers Bangalore</td>\n",
       "      <td>40</td>\n",
       "      <td>61</td>\n",
       "      <td>39</td>\n",
       "      <td>43</td>\n",
       "      <td>183</td>\n",
       "      <td>43.169399</td>\n",
       "    </tr>\n",
       "    <tr>\n",
       "      <th>12</th>\n",
       "      <td>Sunrisers Hyderabad</td>\n",
       "      <td>23</td>\n",
       "      <td>30</td>\n",
       "      <td>32</td>\n",
       "      <td>24</td>\n",
       "      <td>109</td>\n",
       "      <td>50.458716</td>\n",
       "    </tr>\n",
       "  </tbody>\n",
       "</table>\n",
       "</div>"
      ],
      "text/plain": [
       "                           Team  Win match-win toss  Win match-lost toss  \\\n",
       "0           Chennai Super Kings                  49                   42   \n",
       "1               Deccan Chargers                  22                   17   \n",
       "2                Delhi Capitals                  44                   48   \n",
       "3                 Gujarat Lions                   7                    9   \n",
       "4               Kings XI Punjab                  39                   48   \n",
       "5          Kochi Tuskers Kerala                   4                    3   \n",
       "6         Kolkata Knight Riders                  43                   44   \n",
       "7                Mumbai Indians                  47                   40   \n",
       "8                 Pune Warriors                  10                   13   \n",
       "9              Rajasthan Royals                  31                   35   \n",
       "10       Rising Pune Supergiant                   5                    9   \n",
       "11  Royal Challengers Bangalore                  40                   61   \n",
       "12          Sunrisers Hyderabad                  23                   30   \n",
       "\n",
       "    Lose match-win toss  Lose match-lost toss  total     toss %  \n",
       "0                    35                    40    166  50.602410  \n",
       "1                    15                    22     76  48.684211  \n",
       "2                    39                    47    178  46.629213  \n",
       "3                     6                     8     30  43.333333  \n",
       "4                    47                    41    175  49.142857  \n",
       "5                     3                     4     14  50.000000  \n",
       "6                    43                    51    181  47.513812  \n",
       "7                    50                    51    188  51.595745  \n",
       "8                    13                    10     46  50.000000  \n",
       "9                    32                    52    150  42.000000  \n",
       "10                   10                     6     30  50.000000  \n",
       "11                   39                    43    183  43.169399  \n",
       "12                   32                    24    109  50.458716  "
      ]
     },
     "execution_count": 126,
     "metadata": {},
     "output_type": "execute_result"
    }
   ],
   "source": [
    "df"
   ]
  },
  {
   "cell_type": "code",
   "execution_count": 127,
   "metadata": {},
   "outputs": [],
   "source": [
    "df['tw %']=df['Win match-win toss']*100/(df['Win match-win toss']+df['Lose match-win toss'])"
   ]
  },
  {
   "cell_type": "code",
   "execution_count": 128,
   "metadata": {},
   "outputs": [
    {
     "data": {
      "text/html": [
       "<div>\n",
       "<style scoped>\n",
       "    .dataframe tbody tr th:only-of-type {\n",
       "        vertical-align: middle;\n",
       "    }\n",
       "\n",
       "    .dataframe tbody tr th {\n",
       "        vertical-align: top;\n",
       "    }\n",
       "\n",
       "    .dataframe thead th {\n",
       "        text-align: right;\n",
       "    }\n",
       "</style>\n",
       "<table border=\"1\" class=\"dataframe\">\n",
       "  <thead>\n",
       "    <tr style=\"text-align: right;\">\n",
       "      <th></th>\n",
       "      <th>Team</th>\n",
       "      <th>Win match-win toss</th>\n",
       "      <th>Win match-lost toss</th>\n",
       "      <th>Lose match-win toss</th>\n",
       "      <th>Lose match-lost toss</th>\n",
       "      <th>total</th>\n",
       "      <th>toss %</th>\n",
       "      <th>tw %</th>\n",
       "    </tr>\n",
       "  </thead>\n",
       "  <tbody>\n",
       "    <tr>\n",
       "      <th>0</th>\n",
       "      <td>Chennai Super Kings</td>\n",
       "      <td>49</td>\n",
       "      <td>42</td>\n",
       "      <td>35</td>\n",
       "      <td>40</td>\n",
       "      <td>166</td>\n",
       "      <td>50.602410</td>\n",
       "      <td>58.333333</td>\n",
       "    </tr>\n",
       "    <tr>\n",
       "      <th>1</th>\n",
       "      <td>Deccan Chargers</td>\n",
       "      <td>22</td>\n",
       "      <td>17</td>\n",
       "      <td>15</td>\n",
       "      <td>22</td>\n",
       "      <td>76</td>\n",
       "      <td>48.684211</td>\n",
       "      <td>59.459459</td>\n",
       "    </tr>\n",
       "    <tr>\n",
       "      <th>2</th>\n",
       "      <td>Delhi Capitals</td>\n",
       "      <td>44</td>\n",
       "      <td>48</td>\n",
       "      <td>39</td>\n",
       "      <td>47</td>\n",
       "      <td>178</td>\n",
       "      <td>46.629213</td>\n",
       "      <td>53.012048</td>\n",
       "    </tr>\n",
       "    <tr>\n",
       "      <th>3</th>\n",
       "      <td>Gujarat Lions</td>\n",
       "      <td>7</td>\n",
       "      <td>9</td>\n",
       "      <td>6</td>\n",
       "      <td>8</td>\n",
       "      <td>30</td>\n",
       "      <td>43.333333</td>\n",
       "      <td>53.846154</td>\n",
       "    </tr>\n",
       "    <tr>\n",
       "      <th>4</th>\n",
       "      <td>Kings XI Punjab</td>\n",
       "      <td>39</td>\n",
       "      <td>48</td>\n",
       "      <td>47</td>\n",
       "      <td>41</td>\n",
       "      <td>175</td>\n",
       "      <td>49.142857</td>\n",
       "      <td>45.348837</td>\n",
       "    </tr>\n",
       "    <tr>\n",
       "      <th>5</th>\n",
       "      <td>Kochi Tuskers Kerala</td>\n",
       "      <td>4</td>\n",
       "      <td>3</td>\n",
       "      <td>3</td>\n",
       "      <td>4</td>\n",
       "      <td>14</td>\n",
       "      <td>50.000000</td>\n",
       "      <td>57.142857</td>\n",
       "    </tr>\n",
       "    <tr>\n",
       "      <th>6</th>\n",
       "      <td>Kolkata Knight Riders</td>\n",
       "      <td>43</td>\n",
       "      <td>44</td>\n",
       "      <td>43</td>\n",
       "      <td>51</td>\n",
       "      <td>181</td>\n",
       "      <td>47.513812</td>\n",
       "      <td>50.000000</td>\n",
       "    </tr>\n",
       "    <tr>\n",
       "      <th>7</th>\n",
       "      <td>Mumbai Indians</td>\n",
       "      <td>47</td>\n",
       "      <td>40</td>\n",
       "      <td>50</td>\n",
       "      <td>51</td>\n",
       "      <td>188</td>\n",
       "      <td>51.595745</td>\n",
       "      <td>48.453608</td>\n",
       "    </tr>\n",
       "    <tr>\n",
       "      <th>8</th>\n",
       "      <td>Pune Warriors</td>\n",
       "      <td>10</td>\n",
       "      <td>13</td>\n",
       "      <td>13</td>\n",
       "      <td>10</td>\n",
       "      <td>46</td>\n",
       "      <td>50.000000</td>\n",
       "      <td>43.478261</td>\n",
       "    </tr>\n",
       "    <tr>\n",
       "      <th>9</th>\n",
       "      <td>Rajasthan Royals</td>\n",
       "      <td>31</td>\n",
       "      <td>35</td>\n",
       "      <td>32</td>\n",
       "      <td>52</td>\n",
       "      <td>150</td>\n",
       "      <td>42.000000</td>\n",
       "      <td>49.206349</td>\n",
       "    </tr>\n",
       "    <tr>\n",
       "      <th>10</th>\n",
       "      <td>Rising Pune Supergiant</td>\n",
       "      <td>5</td>\n",
       "      <td>9</td>\n",
       "      <td>10</td>\n",
       "      <td>6</td>\n",
       "      <td>30</td>\n",
       "      <td>50.000000</td>\n",
       "      <td>33.333333</td>\n",
       "    </tr>\n",
       "    <tr>\n",
       "      <th>11</th>\n",
       "      <td>Royal Challengers Bangalore</td>\n",
       "      <td>40</td>\n",
       "      <td>61</td>\n",
       "      <td>39</td>\n",
       "      <td>43</td>\n",
       "      <td>183</td>\n",
       "      <td>43.169399</td>\n",
       "      <td>50.632911</td>\n",
       "    </tr>\n",
       "    <tr>\n",
       "      <th>12</th>\n",
       "      <td>Sunrisers Hyderabad</td>\n",
       "      <td>23</td>\n",
       "      <td>30</td>\n",
       "      <td>32</td>\n",
       "      <td>24</td>\n",
       "      <td>109</td>\n",
       "      <td>50.458716</td>\n",
       "      <td>41.818182</td>\n",
       "    </tr>\n",
       "  </tbody>\n",
       "</table>\n",
       "</div>"
      ],
      "text/plain": [
       "                           Team  Win match-win toss  Win match-lost toss  \\\n",
       "0           Chennai Super Kings                  49                   42   \n",
       "1               Deccan Chargers                  22                   17   \n",
       "2                Delhi Capitals                  44                   48   \n",
       "3                 Gujarat Lions                   7                    9   \n",
       "4               Kings XI Punjab                  39                   48   \n",
       "5          Kochi Tuskers Kerala                   4                    3   \n",
       "6         Kolkata Knight Riders                  43                   44   \n",
       "7                Mumbai Indians                  47                   40   \n",
       "8                 Pune Warriors                  10                   13   \n",
       "9              Rajasthan Royals                  31                   35   \n",
       "10       Rising Pune Supergiant                   5                    9   \n",
       "11  Royal Challengers Bangalore                  40                   61   \n",
       "12          Sunrisers Hyderabad                  23                   30   \n",
       "\n",
       "    Lose match-win toss  Lose match-lost toss  total     toss %       tw %  \n",
       "0                    35                    40    166  50.602410  58.333333  \n",
       "1                    15                    22     76  48.684211  59.459459  \n",
       "2                    39                    47    178  46.629213  53.012048  \n",
       "3                     6                     8     30  43.333333  53.846154  \n",
       "4                    47                    41    175  49.142857  45.348837  \n",
       "5                     3                     4     14  50.000000  57.142857  \n",
       "6                    43                    51    181  47.513812  50.000000  \n",
       "7                    50                    51    188  51.595745  48.453608  \n",
       "8                    13                    10     46  50.000000  43.478261  \n",
       "9                    32                    52    150  42.000000  49.206349  \n",
       "10                   10                     6     30  50.000000  33.333333  \n",
       "11                   39                    43    183  43.169399  50.632911  \n",
       "12                   32                    24    109  50.458716  41.818182  "
      ]
     },
     "execution_count": 128,
     "metadata": {},
     "output_type": "execute_result"
    }
   ],
   "source": [
    "df"
   ]
  },
  {
   "cell_type": "markdown",
   "metadata": {
    "colab_type": "text",
    "id": "90wb63FVc0Iu"
   },
   "source": [
    "**match_played** - Total Matches played\n",
    "\n",
    "**toss_won** - Matches in which the team won the toss\n",
    "\n",
    "**toss_and_match_won** - Matches in which the team won the toss as well as the match\n",
    "\n",
    "**percent_toss_won** - percentage of matches in which the team won the toss\n",
    "\n",
    "**percent_toss_and_match_won** - percentage of matches in which the team won the toss as well as the match (wrt to matches in which the team won the toss)\n",
    "\n",
    "**percent_toss_and_match_won_matches** - percentage of matches in which the team won the toss as well as the match (wrt to total macthes played)"
   ]
  },
  {
   "cell_type": "markdown",
   "metadata": {
    "colab_type": "text",
    "id": "rRFujfeQo6cm"
   },
   "source": [
    "### **Question 3** \n",
    "* List the names of the **top 10 batsmen** by total runs accumulated across all the seasons\n",
    "  * The output should be stored in a list\n",
    "\n",
    "--------------------------\n",
    "\n"
   ]
  },
  {
   "cell_type": "markdown",
   "metadata": {
    "colab_type": "text",
    "id": "gjGHBVv3c0Iw"
   },
   "source": [
    "a) List the names of the **top 10 batsmen** by total runs accumulated across all the seasons"
   ]
  },
  {
   "cell_type": "code",
   "execution_count": 129,
   "metadata": {
    "colab": {},
    "colab_type": "code",
    "id": "yCUXq1RmdzAH"
   },
   "outputs": [],
   "source": [
    "# write your code here. Feel free to add multiple cells as per your need\n",
    "bat = pd.read_csv('ipl_batting.csv')"
   ]
  },
  {
   "cell_type": "code",
   "execution_count": 130,
   "metadata": {
    "colab": {},
    "colab_type": "code",
    "id": "roN3YJC2c0I0",
    "outputId": "9eb77e6f-90b5-4923-961b-d7dfe22e9e12"
   },
   "outputs": [
    {
     "data": {
      "text/html": [
       "<div>\n",
       "<style scoped>\n",
       "    .dataframe tbody tr th:only-of-type {\n",
       "        vertical-align: middle;\n",
       "    }\n",
       "\n",
       "    .dataframe tbody tr th {\n",
       "        vertical-align: top;\n",
       "    }\n",
       "\n",
       "    .dataframe thead th {\n",
       "        text-align: right;\n",
       "    }\n",
       "</style>\n",
       "<table border=\"1\" class=\"dataframe\">\n",
       "  <thead>\n",
       "    <tr style=\"text-align: right;\">\n",
       "      <th></th>\n",
       "      <th>match_no</th>\n",
       "      <th>team_1</th>\n",
       "      <th>team_2</th>\n",
       "      <th>batsmen</th>\n",
       "      <th>wicket_status</th>\n",
       "      <th>R</th>\n",
       "      <th>B</th>\n",
       "      <th>M</th>\n",
       "      <th>fours</th>\n",
       "      <th>sixes</th>\n",
       "      <th>SR</th>\n",
       "      <th>special_role</th>\n",
       "      <th>match_date</th>\n",
       "      <th>match_key</th>\n",
       "    </tr>\n",
       "  </thead>\n",
       "  <tbody>\n",
       "    <tr>\n",
       "      <th>0</th>\n",
       "      <td>1</td>\n",
       "      <td>Mumbai Indians</td>\n",
       "      <td>Chennai Super Kings</td>\n",
       "      <td>ST Jayasuriya</td>\n",
       "      <td>c Hayden b Thushara</td>\n",
       "      <td>26</td>\n",
       "      <td>20</td>\n",
       "      <td>0</td>\n",
       "      <td>5</td>\n",
       "      <td>0</td>\n",
       "      <td>130.00</td>\n",
       "      <td>normal player</td>\n",
       "      <td>18-04-2009</td>\n",
       "      <td>2009041801</td>\n",
       "    </tr>\n",
       "    <tr>\n",
       "      <th>1</th>\n",
       "      <td>1</td>\n",
       "      <td>Mumbai Indians</td>\n",
       "      <td>Chennai Super Kings</td>\n",
       "      <td>SR Tendulkar</td>\n",
       "      <td>not out</td>\n",
       "      <td>59</td>\n",
       "      <td>49</td>\n",
       "      <td>0</td>\n",
       "      <td>7</td>\n",
       "      <td>0</td>\n",
       "      <td>120.40</td>\n",
       "      <td>captain</td>\n",
       "      <td>18-04-2009</td>\n",
       "      <td>2009041801</td>\n",
       "    </tr>\n",
       "    <tr>\n",
       "      <th>2</th>\n",
       "      <td>1</td>\n",
       "      <td>Mumbai Indians</td>\n",
       "      <td>Chennai Super Kings</td>\n",
       "      <td>S Dhawan</td>\n",
       "      <td>c Dhoni b Gony</td>\n",
       "      <td>22</td>\n",
       "      <td>21</td>\n",
       "      <td>0</td>\n",
       "      <td>2</td>\n",
       "      <td>0</td>\n",
       "      <td>104.76</td>\n",
       "      <td>normal player</td>\n",
       "      <td>18-04-2009</td>\n",
       "      <td>2009041801</td>\n",
       "    </tr>\n",
       "    <tr>\n",
       "      <th>3</th>\n",
       "      <td>1</td>\n",
       "      <td>Mumbai Indians</td>\n",
       "      <td>Chennai Super Kings</td>\n",
       "      <td>JP Duminy</td>\n",
       "      <td>c &amp; b Gony</td>\n",
       "      <td>9</td>\n",
       "      <td>7</td>\n",
       "      <td>0</td>\n",
       "      <td>1</td>\n",
       "      <td>0</td>\n",
       "      <td>128.57</td>\n",
       "      <td>normal player</td>\n",
       "      <td>18-04-2009</td>\n",
       "      <td>2009041801</td>\n",
       "    </tr>\n",
       "    <tr>\n",
       "      <th>4</th>\n",
       "      <td>1</td>\n",
       "      <td>Mumbai Indians</td>\n",
       "      <td>Chennai Super Kings</td>\n",
       "      <td>DJ Bravo</td>\n",
       "      <td>c Hayden b Joginder Sharma</td>\n",
       "      <td>5</td>\n",
       "      <td>4</td>\n",
       "      <td>0</td>\n",
       "      <td>1</td>\n",
       "      <td>0</td>\n",
       "      <td>125.00</td>\n",
       "      <td>normal player</td>\n",
       "      <td>18-04-2009</td>\n",
       "      <td>2009041801</td>\n",
       "    </tr>\n",
       "  </tbody>\n",
       "</table>\n",
       "</div>"
      ],
      "text/plain": [
       "  match_no          team_1               team_2        batsmen  \\\n",
       "0        1  Mumbai Indians  Chennai Super Kings  ST Jayasuriya   \n",
       "1        1  Mumbai Indians  Chennai Super Kings   SR Tendulkar   \n",
       "2        1  Mumbai Indians  Chennai Super Kings       S Dhawan   \n",
       "3        1  Mumbai Indians  Chennai Super Kings      JP Duminy   \n",
       "4        1  Mumbai Indians  Chennai Super Kings       DJ Bravo   \n",
       "\n",
       "                wicket_status   R   B  M  fours  sixes      SR   special_role  \\\n",
       "0         c Hayden b Thushara  26  20  0      5      0  130.00  normal player   \n",
       "1                     not out  59  49  0      7      0  120.40        captain   \n",
       "2              c Dhoni b Gony  22  21  0      2      0  104.76  normal player   \n",
       "3                  c & b Gony   9   7  0      1      0  128.57  normal player   \n",
       "4  c Hayden b Joginder Sharma   5   4  0      1      0  125.00  normal player   \n",
       "\n",
       "   match_date   match_key  \n",
       "0  18-04-2009  2009041801  \n",
       "1  18-04-2009  2009041801  \n",
       "2  18-04-2009  2009041801  \n",
       "3  18-04-2009  2009041801  \n",
       "4  18-04-2009  2009041801  "
      ]
     },
     "execution_count": 130,
     "metadata": {},
     "output_type": "execute_result"
    }
   ],
   "source": [
    "bat.head()"
   ]
  },
  {
   "cell_type": "code",
   "execution_count": 131,
   "metadata": {},
   "outputs": [],
   "source": [
    "b=bat[['batsmen','R']].groupby('batsmen').agg('sum').sort_values(by=['R'],ascending=False)"
   ]
  },
  {
   "cell_type": "code",
   "execution_count": 132,
   "metadata": {},
   "outputs": [
    {
     "data": {
      "text/html": [
       "<div>\n",
       "<style scoped>\n",
       "    .dataframe tbody tr th:only-of-type {\n",
       "        vertical-align: middle;\n",
       "    }\n",
       "\n",
       "    .dataframe tbody tr th {\n",
       "        vertical-align: top;\n",
       "    }\n",
       "\n",
       "    .dataframe thead th {\n",
       "        text-align: right;\n",
       "    }\n",
       "</style>\n",
       "<table border=\"1\" class=\"dataframe\">\n",
       "  <thead>\n",
       "    <tr style=\"text-align: right;\">\n",
       "      <th></th>\n",
       "      <th>R</th>\n",
       "    </tr>\n",
       "    <tr>\n",
       "      <th>batsmen</th>\n",
       "      <th></th>\n",
       "    </tr>\n",
       "  </thead>\n",
       "  <tbody>\n",
       "    <tr>\n",
       "      <th>V Kohli</th>\n",
       "      <td>5412</td>\n",
       "    </tr>\n",
       "    <tr>\n",
       "      <th>SK Raina</th>\n",
       "      <td>5368</td>\n",
       "    </tr>\n",
       "    <tr>\n",
       "      <th>RG Sharma</th>\n",
       "      <td>4898</td>\n",
       "    </tr>\n",
       "    <tr>\n",
       "      <th>DA Warner</th>\n",
       "      <td>4706</td>\n",
       "    </tr>\n",
       "    <tr>\n",
       "      <th>S Dhawan</th>\n",
       "      <td>4579</td>\n",
       "    </tr>\n",
       "    <tr>\n",
       "      <th>CH Gayle</th>\n",
       "      <td>4484</td>\n",
       "    </tr>\n",
       "    <tr>\n",
       "      <th>MS Dhoni</th>\n",
       "      <td>4432</td>\n",
       "    </tr>\n",
       "    <tr>\n",
       "      <th>RV Uthappa</th>\n",
       "      <td>4411</td>\n",
       "    </tr>\n",
       "    <tr>\n",
       "      <th>AB de Villiers</th>\n",
       "      <td>4395</td>\n",
       "    </tr>\n",
       "    <tr>\n",
       "      <th>G Gambhir</th>\n",
       "      <td>4217</td>\n",
       "    </tr>\n",
       "  </tbody>\n",
       "</table>\n",
       "</div>"
      ],
      "text/plain": [
       "                   R\n",
       "batsmen             \n",
       "V Kohli         5412\n",
       "SK Raina        5368\n",
       "RG Sharma       4898\n",
       "DA Warner       4706\n",
       "S Dhawan        4579\n",
       "CH Gayle        4484\n",
       "MS Dhoni        4432\n",
       "RV Uthappa      4411\n",
       "AB de Villiers  4395\n",
       "G Gambhir       4217"
      ]
     },
     "execution_count": 132,
     "metadata": {},
     "output_type": "execute_result"
    }
   ],
   "source": [
    "b.head(10)"
   ]
  },
  {
   "cell_type": "markdown",
   "metadata": {
    "colab_type": "text",
    "id": "UaxvhQeapUie"
   },
   "source": [
    "### **Question 4**\n",
    "* Visualize the **runs made vs balls faced** in a jointplot. You should do this for all batsmen who batted in the **IPL season 2017**\n",
    "\n",
    "--------------------"
   ]
  },
  {
   "cell_type": "code",
   "execution_count": 133,
   "metadata": {
    "colab": {},
    "colab_type": "code",
    "id": "zIrpZ_ds3w-D",
    "outputId": "780b5b58-98aa-407b-81dd-db04e2e87b31"
   },
   "outputs": [
    {
     "data": {
      "text/html": [
       "<div>\n",
       "<style scoped>\n",
       "    .dataframe tbody tr th:only-of-type {\n",
       "        vertical-align: middle;\n",
       "    }\n",
       "\n",
       "    .dataframe tbody tr th {\n",
       "        vertical-align: top;\n",
       "    }\n",
       "\n",
       "    .dataframe thead th {\n",
       "        text-align: right;\n",
       "    }\n",
       "</style>\n",
       "<table border=\"1\" class=\"dataframe\">\n",
       "  <thead>\n",
       "    <tr style=\"text-align: right;\">\n",
       "      <th></th>\n",
       "      <th>match_no</th>\n",
       "      <th>team_1</th>\n",
       "      <th>team_2</th>\n",
       "      <th>batsmen</th>\n",
       "      <th>wicket_status</th>\n",
       "      <th>R</th>\n",
       "      <th>B</th>\n",
       "      <th>M</th>\n",
       "      <th>fours</th>\n",
       "      <th>sixes</th>\n",
       "      <th>SR</th>\n",
       "      <th>special_role</th>\n",
       "      <th>match_date</th>\n",
       "      <th>match_key</th>\n",
       "    </tr>\n",
       "  </thead>\n",
       "  <tbody>\n",
       "    <tr>\n",
       "      <th>0</th>\n",
       "      <td>1</td>\n",
       "      <td>Mumbai Indians</td>\n",
       "      <td>Chennai Super Kings</td>\n",
       "      <td>ST Jayasuriya</td>\n",
       "      <td>c Hayden b Thushara</td>\n",
       "      <td>26</td>\n",
       "      <td>20</td>\n",
       "      <td>0</td>\n",
       "      <td>5</td>\n",
       "      <td>0</td>\n",
       "      <td>130.00</td>\n",
       "      <td>normal player</td>\n",
       "      <td>18-04-2009</td>\n",
       "      <td>2009041801</td>\n",
       "    </tr>\n",
       "    <tr>\n",
       "      <th>1</th>\n",
       "      <td>1</td>\n",
       "      <td>Mumbai Indians</td>\n",
       "      <td>Chennai Super Kings</td>\n",
       "      <td>SR Tendulkar</td>\n",
       "      <td>not out</td>\n",
       "      <td>59</td>\n",
       "      <td>49</td>\n",
       "      <td>0</td>\n",
       "      <td>7</td>\n",
       "      <td>0</td>\n",
       "      <td>120.40</td>\n",
       "      <td>captain</td>\n",
       "      <td>18-04-2009</td>\n",
       "      <td>2009041801</td>\n",
       "    </tr>\n",
       "    <tr>\n",
       "      <th>2</th>\n",
       "      <td>1</td>\n",
       "      <td>Mumbai Indians</td>\n",
       "      <td>Chennai Super Kings</td>\n",
       "      <td>S Dhawan</td>\n",
       "      <td>c Dhoni b Gony</td>\n",
       "      <td>22</td>\n",
       "      <td>21</td>\n",
       "      <td>0</td>\n",
       "      <td>2</td>\n",
       "      <td>0</td>\n",
       "      <td>104.76</td>\n",
       "      <td>normal player</td>\n",
       "      <td>18-04-2009</td>\n",
       "      <td>2009041801</td>\n",
       "    </tr>\n",
       "    <tr>\n",
       "      <th>3</th>\n",
       "      <td>1</td>\n",
       "      <td>Mumbai Indians</td>\n",
       "      <td>Chennai Super Kings</td>\n",
       "      <td>JP Duminy</td>\n",
       "      <td>c &amp; b Gony</td>\n",
       "      <td>9</td>\n",
       "      <td>7</td>\n",
       "      <td>0</td>\n",
       "      <td>1</td>\n",
       "      <td>0</td>\n",
       "      <td>128.57</td>\n",
       "      <td>normal player</td>\n",
       "      <td>18-04-2009</td>\n",
       "      <td>2009041801</td>\n",
       "    </tr>\n",
       "    <tr>\n",
       "      <th>4</th>\n",
       "      <td>1</td>\n",
       "      <td>Mumbai Indians</td>\n",
       "      <td>Chennai Super Kings</td>\n",
       "      <td>DJ Bravo</td>\n",
       "      <td>c Hayden b Joginder Sharma</td>\n",
       "      <td>5</td>\n",
       "      <td>4</td>\n",
       "      <td>0</td>\n",
       "      <td>1</td>\n",
       "      <td>0</td>\n",
       "      <td>125.00</td>\n",
       "      <td>normal player</td>\n",
       "      <td>18-04-2009</td>\n",
       "      <td>2009041801</td>\n",
       "    </tr>\n",
       "  </tbody>\n",
       "</table>\n",
       "</div>"
      ],
      "text/plain": [
       "  match_no          team_1               team_2        batsmen  \\\n",
       "0        1  Mumbai Indians  Chennai Super Kings  ST Jayasuriya   \n",
       "1        1  Mumbai Indians  Chennai Super Kings   SR Tendulkar   \n",
       "2        1  Mumbai Indians  Chennai Super Kings       S Dhawan   \n",
       "3        1  Mumbai Indians  Chennai Super Kings      JP Duminy   \n",
       "4        1  Mumbai Indians  Chennai Super Kings       DJ Bravo   \n",
       "\n",
       "                wicket_status   R   B  M  fours  sixes      SR   special_role  \\\n",
       "0         c Hayden b Thushara  26  20  0      5      0  130.00  normal player   \n",
       "1                     not out  59  49  0      7      0  120.40        captain   \n",
       "2              c Dhoni b Gony  22  21  0      2      0  104.76  normal player   \n",
       "3                  c & b Gony   9   7  0      1      0  128.57  normal player   \n",
       "4  c Hayden b Joginder Sharma   5   4  0      1      0  125.00  normal player   \n",
       "\n",
       "   match_date   match_key  \n",
       "0  18-04-2009  2009041801  \n",
       "1  18-04-2009  2009041801  \n",
       "2  18-04-2009  2009041801  \n",
       "3  18-04-2009  2009041801  \n",
       "4  18-04-2009  2009041801  "
      ]
     },
     "execution_count": 133,
     "metadata": {},
     "output_type": "execute_result"
    }
   ],
   "source": [
    "# write your code here. Feel free to add multiple cells as per your need\n",
    "bat.head()"
   ]
  },
  {
   "cell_type": "code",
   "execution_count": 134,
   "metadata": {},
   "outputs": [],
   "source": [
    "b=bat[bat['match_date'].str[6:]=='2017']"
   ]
  },
  {
   "cell_type": "code",
   "execution_count": 135,
   "metadata": {},
   "outputs": [
    {
     "data": {
      "text/html": [
       "<div>\n",
       "<style scoped>\n",
       "    .dataframe tbody tr th:only-of-type {\n",
       "        vertical-align: middle;\n",
       "    }\n",
       "\n",
       "    .dataframe tbody tr th {\n",
       "        vertical-align: top;\n",
       "    }\n",
       "\n",
       "    .dataframe thead th {\n",
       "        text-align: right;\n",
       "    }\n",
       "</style>\n",
       "<table border=\"1\" class=\"dataframe\">\n",
       "  <thead>\n",
       "    <tr style=\"text-align: right;\">\n",
       "      <th></th>\n",
       "      <th>match_no</th>\n",
       "      <th>team_1</th>\n",
       "      <th>team_2</th>\n",
       "      <th>batsmen</th>\n",
       "      <th>wicket_status</th>\n",
       "      <th>R</th>\n",
       "      <th>B</th>\n",
       "      <th>M</th>\n",
       "      <th>fours</th>\n",
       "      <th>sixes</th>\n",
       "      <th>SR</th>\n",
       "      <th>special_role</th>\n",
       "      <th>match_date</th>\n",
       "      <th>match_key</th>\n",
       "    </tr>\n",
       "  </thead>\n",
       "  <tbody>\n",
       "    <tr>\n",
       "      <th>6962</th>\n",
       "      <td>1</td>\n",
       "      <td>Sunrisers Hyderabad</td>\n",
       "      <td>Royal Challengers Bangalore</td>\n",
       "      <td>DA Warner</td>\n",
       "      <td>c Mandeep Singh b Choudhary</td>\n",
       "      <td>14</td>\n",
       "      <td>8</td>\n",
       "      <td>10</td>\n",
       "      <td>2</td>\n",
       "      <td>1</td>\n",
       "      <td>175.00</td>\n",
       "      <td>captain</td>\n",
       "      <td>05-04-2017</td>\n",
       "      <td>2017040501</td>\n",
       "    </tr>\n",
       "    <tr>\n",
       "      <th>6963</th>\n",
       "      <td>1</td>\n",
       "      <td>Sunrisers Hyderabad</td>\n",
       "      <td>Royal Challengers Bangalore</td>\n",
       "      <td>S Dhawan</td>\n",
       "      <td>c Sachin Baby b Binny</td>\n",
       "      <td>40</td>\n",
       "      <td>31</td>\n",
       "      <td>51</td>\n",
       "      <td>5</td>\n",
       "      <td>0</td>\n",
       "      <td>129.03</td>\n",
       "      <td>normal player</td>\n",
       "      <td>05-04-2017</td>\n",
       "      <td>2017040501</td>\n",
       "    </tr>\n",
       "    <tr>\n",
       "      <th>6964</th>\n",
       "      <td>1</td>\n",
       "      <td>Sunrisers Hyderabad</td>\n",
       "      <td>Royal Challengers Bangalore</td>\n",
       "      <td>MC Henriques</td>\n",
       "      <td>c Sachin Baby b Chahal</td>\n",
       "      <td>52</td>\n",
       "      <td>37</td>\n",
       "      <td>67</td>\n",
       "      <td>3</td>\n",
       "      <td>2</td>\n",
       "      <td>140.54</td>\n",
       "      <td>normal player</td>\n",
       "      <td>05-04-2017</td>\n",
       "      <td>2017040501</td>\n",
       "    </tr>\n",
       "    <tr>\n",
       "      <th>6965</th>\n",
       "      <td>1</td>\n",
       "      <td>Sunrisers Hyderabad</td>\n",
       "      <td>Royal Challengers Bangalore</td>\n",
       "      <td>Yuvraj Singh</td>\n",
       "      <td>b Mills</td>\n",
       "      <td>62</td>\n",
       "      <td>27</td>\n",
       "      <td>49</td>\n",
       "      <td>7</td>\n",
       "      <td>3</td>\n",
       "      <td>229.62</td>\n",
       "      <td>normal player</td>\n",
       "      <td>05-04-2017</td>\n",
       "      <td>2017040501</td>\n",
       "    </tr>\n",
       "    <tr>\n",
       "      <th>6966</th>\n",
       "      <td>1</td>\n",
       "      <td>Sunrisers Hyderabad</td>\n",
       "      <td>Royal Challengers Bangalore</td>\n",
       "      <td>DJ Hooda</td>\n",
       "      <td>not out</td>\n",
       "      <td>16</td>\n",
       "      <td>12</td>\n",
       "      <td>29</td>\n",
       "      <td>0</td>\n",
       "      <td>1</td>\n",
       "      <td>133.33</td>\n",
       "      <td>normal player</td>\n",
       "      <td>05-04-2017</td>\n",
       "      <td>2017040501</td>\n",
       "    </tr>\n",
       "  </tbody>\n",
       "</table>\n",
       "</div>"
      ],
      "text/plain": [
       "     match_no               team_1                       team_2       batsmen  \\\n",
       "6962        1  Sunrisers Hyderabad  Royal Challengers Bangalore     DA Warner   \n",
       "6963        1  Sunrisers Hyderabad  Royal Challengers Bangalore      S Dhawan   \n",
       "6964        1  Sunrisers Hyderabad  Royal Challengers Bangalore  MC Henriques   \n",
       "6965        1  Sunrisers Hyderabad  Royal Challengers Bangalore  Yuvraj Singh   \n",
       "6966        1  Sunrisers Hyderabad  Royal Challengers Bangalore      DJ Hooda   \n",
       "\n",
       "                    wicket_status   R   B   M  fours  sixes      SR  \\\n",
       "6962  c Mandeep Singh b Choudhary  14   8  10      2      1  175.00   \n",
       "6963        c Sachin Baby b Binny  40  31  51      5      0  129.03   \n",
       "6964       c Sachin Baby b Chahal  52  37  67      3      2  140.54   \n",
       "6965                      b Mills  62  27  49      7      3  229.62   \n",
       "6966                      not out  16  12  29      0      1  133.33   \n",
       "\n",
       "       special_role  match_date   match_key  \n",
       "6962        captain  05-04-2017  2017040501  \n",
       "6963  normal player  05-04-2017  2017040501  \n",
       "6964  normal player  05-04-2017  2017040501  \n",
       "6965  normal player  05-04-2017  2017040501  \n",
       "6966  normal player  05-04-2017  2017040501  "
      ]
     },
     "execution_count": 135,
     "metadata": {},
     "output_type": "execute_result"
    }
   ],
   "source": [
    "b.head()"
   ]
  },
  {
   "cell_type": "code",
   "execution_count": 136,
   "metadata": {},
   "outputs": [],
   "source": [
    "b=b[['batsmen','R','B']].groupby(['batsmen']).agg('sum')"
   ]
  },
  {
   "cell_type": "code",
   "execution_count": 137,
   "metadata": {},
   "outputs": [
    {
     "data": {
      "text/html": [
       "<div>\n",
       "<style scoped>\n",
       "    .dataframe tbody tr th:only-of-type {\n",
       "        vertical-align: middle;\n",
       "    }\n",
       "\n",
       "    .dataframe tbody tr th {\n",
       "        vertical-align: top;\n",
       "    }\n",
       "\n",
       "    .dataframe thead th {\n",
       "        text-align: right;\n",
       "    }\n",
       "</style>\n",
       "<table border=\"1\" class=\"dataframe\">\n",
       "  <thead>\n",
       "    <tr style=\"text-align: right;\">\n",
       "      <th></th>\n",
       "      <th>R</th>\n",
       "      <th>B</th>\n",
       "    </tr>\n",
       "    <tr>\n",
       "      <th>batsmen</th>\n",
       "      <th></th>\n",
       "      <th></th>\n",
       "    </tr>\n",
       "  </thead>\n",
       "  <tbody>\n",
       "    <tr>\n",
       "      <th>A Choudhary</th>\n",
       "      <td>25</td>\n",
       "      <td>20</td>\n",
       "    </tr>\n",
       "    <tr>\n",
       "      <th>A Mishra</th>\n",
       "      <td>49</td>\n",
       "      <td>52</td>\n",
       "    </tr>\n",
       "    <tr>\n",
       "      <th>A Nehra</th>\n",
       "      <td>0</td>\n",
       "      <td>0</td>\n",
       "    </tr>\n",
       "    <tr>\n",
       "      <th>A Zampa</th>\n",
       "      <td>5</td>\n",
       "      <td>7</td>\n",
       "    </tr>\n",
       "    <tr>\n",
       "      <th>AB Dinda</th>\n",
       "      <td>7</td>\n",
       "      <td>7</td>\n",
       "    </tr>\n",
       "    <tr>\n",
       "      <th>...</th>\n",
       "      <td>...</td>\n",
       "      <td>...</td>\n",
       "    </tr>\n",
       "    <tr>\n",
       "      <th>Washington Sundar</th>\n",
       "      <td>9</td>\n",
       "      <td>12</td>\n",
       "    </tr>\n",
       "    <tr>\n",
       "      <th>YK Pathan</th>\n",
       "      <td>143</td>\n",
       "      <td>115</td>\n",
       "    </tr>\n",
       "    <tr>\n",
       "      <th>YS Chahal</th>\n",
       "      <td>13</td>\n",
       "      <td>26</td>\n",
       "    </tr>\n",
       "    <tr>\n",
       "      <th>Yuvraj Singh</th>\n",
       "      <td>252</td>\n",
       "      <td>177</td>\n",
       "    </tr>\n",
       "    <tr>\n",
       "      <th>Z Khan</th>\n",
       "      <td>4</td>\n",
       "      <td>13</td>\n",
       "    </tr>\n",
       "  </tbody>\n",
       "</table>\n",
       "<p>144 rows × 2 columns</p>\n",
       "</div>"
      ],
      "text/plain": [
       "                     R    B\n",
       "batsmen                    \n",
       "A Choudhary         25   20\n",
       "A Mishra            49   52\n",
       "A Nehra              0    0\n",
       "A Zampa              5    7\n",
       "AB Dinda             7    7\n",
       "...                ...  ...\n",
       "Washington Sundar    9   12\n",
       "YK Pathan          143  115\n",
       "YS Chahal           13   26\n",
       "Yuvraj Singh       252  177\n",
       "Z Khan               4   13\n",
       "\n",
       "[144 rows x 2 columns]"
      ]
     },
     "execution_count": 137,
     "metadata": {},
     "output_type": "execute_result"
    }
   ],
   "source": [
    "b"
   ]
  },
  {
   "cell_type": "code",
   "execution_count": 138,
   "metadata": {},
   "outputs": [],
   "source": [
    "import seaborn as sns\n"
   ]
  },
  {
   "cell_type": "code",
   "execution_count": 139,
   "metadata": {},
   "outputs": [
    {
     "data": {
      "text/plain": [
       "<seaborn.axisgrid.JointGrid at 0x21e003c7dd8>"
      ]
     },
     "execution_count": 139,
     "metadata": {},
     "output_type": "execute_result"
    },
    {
     "data": {
      "image/png": "[encoded data removed]",
      "text/plain": [
       "<Figure size 432x432 with 3 Axes>"
      ]
     },
     "metadata": {
      "needs_background": "light"
     },
     "output_type": "display_data"
    }
   ],
   "source": [
    "sns.jointplot(b['R'],b['B'])"
   ]
  },
  {
   "cell_type": "markdown",
   "metadata": {
    "colab_type": "text",
    "id": "lck9W01_pu2n"
   },
   "source": [
    "### **Question 5**\n",
    "* Create a new calculated column called **boundary_contribution**. It is calculated as : **(total runs made in 4s + 6s)/(total runs scored)**\n",
    "* Create a scatter-plot between **boundary_contribution** and **strike_rate** where each dot represents an innings by a batsman\n",
    "* Aggregate **boundary_contribution** by player and list down **top 10** players by boundary_contribution across all seasons\n",
    "---------------------------------"
   ]
  },
  {
   "cell_type": "markdown",
   "metadata": {
    "colab_type": "text",
    "id": "bcQZyD4Bc0JX"
   },
   "source": [
    " Create a new calculated column called **boundary_contribution**. It is calculated as : **(total runs made in 4s + 6s)/(total runs scored)**\n",
    "\n",
    "Create a scatter-plot between **boundary_contribution** and **strike_rate** where each dot represents an innings by a batsman\n",
    "\n",
    "\n",
    "#### Aggregate **boundary_contribution** by player and list down **top 10** players by boundary_contribution across all seasons\n",
    "---------------------------------"
   ]
  },
  {
   "cell_type": "code",
   "execution_count": 140,
   "metadata": {
    "colab": {},
    "colab_type": "code",
    "id": "46clsyK4GnpM",
    "outputId": "91af3db0-f4ac-455a-f644-a912e898072b"
   },
   "outputs": [
    {
     "data": {
      "text/html": [
       "<div>\n",
       "<style scoped>\n",
       "    .dataframe tbody tr th:only-of-type {\n",
       "        vertical-align: middle;\n",
       "    }\n",
       "\n",
       "    .dataframe tbody tr th {\n",
       "        vertical-align: top;\n",
       "    }\n",
       "\n",
       "    .dataframe thead th {\n",
       "        text-align: right;\n",
       "    }\n",
       "</style>\n",
       "<table border=\"1\" class=\"dataframe\">\n",
       "  <thead>\n",
       "    <tr style=\"text-align: right;\">\n",
       "      <th></th>\n",
       "      <th>match_no</th>\n",
       "      <th>team_1</th>\n",
       "      <th>team_2</th>\n",
       "      <th>batsmen</th>\n",
       "      <th>wicket_status</th>\n",
       "      <th>R</th>\n",
       "      <th>B</th>\n",
       "      <th>M</th>\n",
       "      <th>fours</th>\n",
       "      <th>sixes</th>\n",
       "      <th>SR</th>\n",
       "      <th>special_role</th>\n",
       "      <th>match_date</th>\n",
       "      <th>match_key</th>\n",
       "    </tr>\n",
       "  </thead>\n",
       "  <tbody>\n",
       "    <tr>\n",
       "      <th>0</th>\n",
       "      <td>1</td>\n",
       "      <td>Mumbai Indians</td>\n",
       "      <td>Chennai Super Kings</td>\n",
       "      <td>ST Jayasuriya</td>\n",
       "      <td>c Hayden b Thushara</td>\n",
       "      <td>26</td>\n",
       "      <td>20</td>\n",
       "      <td>0</td>\n",
       "      <td>5</td>\n",
       "      <td>0</td>\n",
       "      <td>130.00</td>\n",
       "      <td>normal player</td>\n",
       "      <td>18-04-2009</td>\n",
       "      <td>2009041801</td>\n",
       "    </tr>\n",
       "    <tr>\n",
       "      <th>1</th>\n",
       "      <td>1</td>\n",
       "      <td>Mumbai Indians</td>\n",
       "      <td>Chennai Super Kings</td>\n",
       "      <td>SR Tendulkar</td>\n",
       "      <td>not out</td>\n",
       "      <td>59</td>\n",
       "      <td>49</td>\n",
       "      <td>0</td>\n",
       "      <td>7</td>\n",
       "      <td>0</td>\n",
       "      <td>120.40</td>\n",
       "      <td>captain</td>\n",
       "      <td>18-04-2009</td>\n",
       "      <td>2009041801</td>\n",
       "    </tr>\n",
       "    <tr>\n",
       "      <th>2</th>\n",
       "      <td>1</td>\n",
       "      <td>Mumbai Indians</td>\n",
       "      <td>Chennai Super Kings</td>\n",
       "      <td>S Dhawan</td>\n",
       "      <td>c Dhoni b Gony</td>\n",
       "      <td>22</td>\n",
       "      <td>21</td>\n",
       "      <td>0</td>\n",
       "      <td>2</td>\n",
       "      <td>0</td>\n",
       "      <td>104.76</td>\n",
       "      <td>normal player</td>\n",
       "      <td>18-04-2009</td>\n",
       "      <td>2009041801</td>\n",
       "    </tr>\n",
       "    <tr>\n",
       "      <th>3</th>\n",
       "      <td>1</td>\n",
       "      <td>Mumbai Indians</td>\n",
       "      <td>Chennai Super Kings</td>\n",
       "      <td>JP Duminy</td>\n",
       "      <td>c &amp; b Gony</td>\n",
       "      <td>9</td>\n",
       "      <td>7</td>\n",
       "      <td>0</td>\n",
       "      <td>1</td>\n",
       "      <td>0</td>\n",
       "      <td>128.57</td>\n",
       "      <td>normal player</td>\n",
       "      <td>18-04-2009</td>\n",
       "      <td>2009041801</td>\n",
       "    </tr>\n",
       "    <tr>\n",
       "      <th>4</th>\n",
       "      <td>1</td>\n",
       "      <td>Mumbai Indians</td>\n",
       "      <td>Chennai Super Kings</td>\n",
       "      <td>DJ Bravo</td>\n",
       "      <td>c Hayden b Joginder Sharma</td>\n",
       "      <td>5</td>\n",
       "      <td>4</td>\n",
       "      <td>0</td>\n",
       "      <td>1</td>\n",
       "      <td>0</td>\n",
       "      <td>125.00</td>\n",
       "      <td>normal player</td>\n",
       "      <td>18-04-2009</td>\n",
       "      <td>2009041801</td>\n",
       "    </tr>\n",
       "  </tbody>\n",
       "</table>\n",
       "</div>"
      ],
      "text/plain": [
       "  match_no          team_1               team_2        batsmen  \\\n",
       "0        1  Mumbai Indians  Chennai Super Kings  ST Jayasuriya   \n",
       "1        1  Mumbai Indians  Chennai Super Kings   SR Tendulkar   \n",
       "2        1  Mumbai Indians  Chennai Super Kings       S Dhawan   \n",
       "3        1  Mumbai Indians  Chennai Super Kings      JP Duminy   \n",
       "4        1  Mumbai Indians  Chennai Super Kings       DJ Bravo   \n",
       "\n",
       "                wicket_status   R   B  M  fours  sixes      SR   special_role  \\\n",
       "0         c Hayden b Thushara  26  20  0      5      0  130.00  normal player   \n",
       "1                     not out  59  49  0      7      0  120.40        captain   \n",
       "2              c Dhoni b Gony  22  21  0      2      0  104.76  normal player   \n",
       "3                  c & b Gony   9   7  0      1      0  128.57  normal player   \n",
       "4  c Hayden b Joginder Sharma   5   4  0      1      0  125.00  normal player   \n",
       "\n",
       "   match_date   match_key  \n",
       "0  18-04-2009  2009041801  \n",
       "1  18-04-2009  2009041801  \n",
       "2  18-04-2009  2009041801  \n",
       "3  18-04-2009  2009041801  \n",
       "4  18-04-2009  2009041801  "
      ]
     },
     "execution_count": 140,
     "metadata": {},
     "output_type": "execute_result"
    }
   ],
   "source": [
    "bat.head()"
   ]
  },
  {
   "cell_type": "code",
   "execution_count": 141,
   "metadata": {
    "colab": {},
    "colab_type": "code",
    "id": "-Ayq6BYxc0Je",
    "outputId": "23239d52-900e-419f-f5b6-1e5f5b16151d"
   },
   "outputs": [
    {
     "data": {
      "text/html": [
       "<div>\n",
       "<style scoped>\n",
       "    .dataframe tbody tr th:only-of-type {\n",
       "        vertical-align: middle;\n",
       "    }\n",
       "\n",
       "    .dataframe tbody tr th {\n",
       "        vertical-align: top;\n",
       "    }\n",
       "\n",
       "    .dataframe thead th {\n",
       "        text-align: right;\n",
       "    }\n",
       "</style>\n",
       "<table border=\"1\" class=\"dataframe\">\n",
       "  <thead>\n",
       "    <tr style=\"text-align: right;\">\n",
       "      <th></th>\n",
       "      <th>match_no</th>\n",
       "      <th>team_1</th>\n",
       "      <th>team_2</th>\n",
       "      <th>batsmen</th>\n",
       "      <th>wicket_status</th>\n",
       "      <th>R</th>\n",
       "      <th>B</th>\n",
       "      <th>M</th>\n",
       "      <th>fours</th>\n",
       "      <th>sixes</th>\n",
       "      <th>SR</th>\n",
       "      <th>special_role</th>\n",
       "      <th>match_date</th>\n",
       "      <th>match_key</th>\n",
       "      <th>boundary_contribution</th>\n",
       "    </tr>\n",
       "  </thead>\n",
       "  <tbody>\n",
       "    <tr>\n",
       "      <th>0</th>\n",
       "      <td>1</td>\n",
       "      <td>Mumbai Indians</td>\n",
       "      <td>Chennai Super Kings</td>\n",
       "      <td>ST Jayasuriya</td>\n",
       "      <td>c Hayden b Thushara</td>\n",
       "      <td>26</td>\n",
       "      <td>20</td>\n",
       "      <td>0</td>\n",
       "      <td>5</td>\n",
       "      <td>0</td>\n",
       "      <td>130.00</td>\n",
       "      <td>normal player</td>\n",
       "      <td>18-04-2009</td>\n",
       "      <td>2009041801</td>\n",
       "      <td>76.923077</td>\n",
       "    </tr>\n",
       "    <tr>\n",
       "      <th>1</th>\n",
       "      <td>1</td>\n",
       "      <td>Mumbai Indians</td>\n",
       "      <td>Chennai Super Kings</td>\n",
       "      <td>SR Tendulkar</td>\n",
       "      <td>not out</td>\n",
       "      <td>59</td>\n",
       "      <td>49</td>\n",
       "      <td>0</td>\n",
       "      <td>7</td>\n",
       "      <td>0</td>\n",
       "      <td>120.40</td>\n",
       "      <td>captain</td>\n",
       "      <td>18-04-2009</td>\n",
       "      <td>2009041801</td>\n",
       "      <td>47.457627</td>\n",
       "    </tr>\n",
       "    <tr>\n",
       "      <th>2</th>\n",
       "      <td>1</td>\n",
       "      <td>Mumbai Indians</td>\n",
       "      <td>Chennai Super Kings</td>\n",
       "      <td>S Dhawan</td>\n",
       "      <td>c Dhoni b Gony</td>\n",
       "      <td>22</td>\n",
       "      <td>21</td>\n",
       "      <td>0</td>\n",
       "      <td>2</td>\n",
       "      <td>0</td>\n",
       "      <td>104.76</td>\n",
       "      <td>normal player</td>\n",
       "      <td>18-04-2009</td>\n",
       "      <td>2009041801</td>\n",
       "      <td>36.363636</td>\n",
       "    </tr>\n",
       "    <tr>\n",
       "      <th>3</th>\n",
       "      <td>1</td>\n",
       "      <td>Mumbai Indians</td>\n",
       "      <td>Chennai Super Kings</td>\n",
       "      <td>JP Duminy</td>\n",
       "      <td>c &amp; b Gony</td>\n",
       "      <td>9</td>\n",
       "      <td>7</td>\n",
       "      <td>0</td>\n",
       "      <td>1</td>\n",
       "      <td>0</td>\n",
       "      <td>128.57</td>\n",
       "      <td>normal player</td>\n",
       "      <td>18-04-2009</td>\n",
       "      <td>2009041801</td>\n",
       "      <td>44.444444</td>\n",
       "    </tr>\n",
       "    <tr>\n",
       "      <th>4</th>\n",
       "      <td>1</td>\n",
       "      <td>Mumbai Indians</td>\n",
       "      <td>Chennai Super Kings</td>\n",
       "      <td>DJ Bravo</td>\n",
       "      <td>c Hayden b Joginder Sharma</td>\n",
       "      <td>5</td>\n",
       "      <td>4</td>\n",
       "      <td>0</td>\n",
       "      <td>1</td>\n",
       "      <td>0</td>\n",
       "      <td>125.00</td>\n",
       "      <td>normal player</td>\n",
       "      <td>18-04-2009</td>\n",
       "      <td>2009041801</td>\n",
       "      <td>80.000000</td>\n",
       "    </tr>\n",
       "    <tr>\n",
       "      <th>...</th>\n",
       "      <td>...</td>\n",
       "      <td>...</td>\n",
       "      <td>...</td>\n",
       "      <td>...</td>\n",
       "      <td>...</td>\n",
       "      <td>...</td>\n",
       "      <td>...</td>\n",
       "      <td>...</td>\n",
       "      <td>...</td>\n",
       "      <td>...</td>\n",
       "      <td>...</td>\n",
       "      <td>...</td>\n",
       "      <td>...</td>\n",
       "      <td>...</td>\n",
       "      <td>...</td>\n",
       "    </tr>\n",
       "    <tr>\n",
       "      <th>11541</th>\n",
       "      <td>Final (N)</td>\n",
       "      <td>Chennai Super Kings</td>\n",
       "      <td>Rajasthan Royals</td>\n",
       "      <td>YK Pathan</td>\n",
       "      <td>run out (Raina)</td>\n",
       "      <td>56</td>\n",
       "      <td>39</td>\n",
       "      <td>0</td>\n",
       "      <td>3</td>\n",
       "      <td>4</td>\n",
       "      <td>143.58</td>\n",
       "      <td>normal player</td>\n",
       "      <td>01-06-2008</td>\n",
       "      <td>2008060101</td>\n",
       "      <td>64.285714</td>\n",
       "    </tr>\n",
       "    <tr>\n",
       "      <th>11542</th>\n",
       "      <td>Final (N)</td>\n",
       "      <td>Chennai Super Kings</td>\n",
       "      <td>Rajasthan Royals</td>\n",
       "      <td>M Kaif</td>\n",
       "      <td>c Dhoni b Muralitharan</td>\n",
       "      <td>12</td>\n",
       "      <td>9</td>\n",
       "      <td>0</td>\n",
       "      <td>0</td>\n",
       "      <td>1</td>\n",
       "      <td>133.33</td>\n",
       "      <td>normal player</td>\n",
       "      <td>01-06-2008</td>\n",
       "      <td>2008060101</td>\n",
       "      <td>50.000000</td>\n",
       "    </tr>\n",
       "    <tr>\n",
       "      <th>11543</th>\n",
       "      <td>Final (N)</td>\n",
       "      <td>Chennai Super Kings</td>\n",
       "      <td>Rajasthan Royals</td>\n",
       "      <td>RA Jadeja</td>\n",
       "      <td>c Kapugedera b Morkel</td>\n",
       "      <td>0</td>\n",
       "      <td>1</td>\n",
       "      <td>0</td>\n",
       "      <td>0</td>\n",
       "      <td>0</td>\n",
       "      <td>0.00</td>\n",
       "      <td>normal player</td>\n",
       "      <td>01-06-2008</td>\n",
       "      <td>2008060101</td>\n",
       "      <td>NaN</td>\n",
       "    </tr>\n",
       "    <tr>\n",
       "      <th>11544</th>\n",
       "      <td>Final (N)</td>\n",
       "      <td>Chennai Super Kings</td>\n",
       "      <td>Rajasthan Royals</td>\n",
       "      <td>SK Warne</td>\n",
       "      <td>not out</td>\n",
       "      <td>9</td>\n",
       "      <td>9</td>\n",
       "      <td>0</td>\n",
       "      <td>1</td>\n",
       "      <td>0</td>\n",
       "      <td>100.00</td>\n",
       "      <td>captain</td>\n",
       "      <td>01-06-2008</td>\n",
       "      <td>2008060101</td>\n",
       "      <td>44.444444</td>\n",
       "    </tr>\n",
       "    <tr>\n",
       "      <th>11545</th>\n",
       "      <td>Final (N)</td>\n",
       "      <td>Chennai Super Kings</td>\n",
       "      <td>Rajasthan Royals</td>\n",
       "      <td>Sohail Tanvir</td>\n",
       "      <td>not out</td>\n",
       "      <td>9</td>\n",
       "      <td>7</td>\n",
       "      <td>0</td>\n",
       "      <td>0</td>\n",
       "      <td>0</td>\n",
       "      <td>128.57</td>\n",
       "      <td>normal player</td>\n",
       "      <td>01-06-2008</td>\n",
       "      <td>2008060101</td>\n",
       "      <td>0.000000</td>\n",
       "    </tr>\n",
       "  </tbody>\n",
       "</table>\n",
       "<p>11546 rows × 15 columns</p>\n",
       "</div>"
      ],
      "text/plain": [
       "        match_no               team_1               team_2        batsmen  \\\n",
       "0              1       Mumbai Indians  Chennai Super Kings  ST Jayasuriya   \n",
       "1              1       Mumbai Indians  Chennai Super Kings   SR Tendulkar   \n",
       "2              1       Mumbai Indians  Chennai Super Kings       S Dhawan   \n",
       "3              1       Mumbai Indians  Chennai Super Kings      JP Duminy   \n",
       "4              1       Mumbai Indians  Chennai Super Kings       DJ Bravo   \n",
       "...          ...                  ...                  ...            ...   \n",
       "11541  Final (N)  Chennai Super Kings     Rajasthan Royals      YK Pathan   \n",
       "11542  Final (N)  Chennai Super Kings     Rajasthan Royals         M Kaif   \n",
       "11543  Final (N)  Chennai Super Kings     Rajasthan Royals      RA Jadeja   \n",
       "11544  Final (N)  Chennai Super Kings     Rajasthan Royals       SK Warne   \n",
       "11545  Final (N)  Chennai Super Kings     Rajasthan Royals  Sohail Tanvir   \n",
       "\n",
       "                    wicket_status   R   B  M  fours  sixes      SR  \\\n",
       "0             c Hayden b Thushara  26  20  0      5      0  130.00   \n",
       "1                         not out  59  49  0      7      0  120.40   \n",
       "2                  c Dhoni b Gony  22  21  0      2      0  104.76   \n",
       "3                      c & b Gony   9   7  0      1      0  128.57   \n",
       "4      c Hayden b Joginder Sharma   5   4  0      1      0  125.00   \n",
       "...                           ...  ..  .. ..    ...    ...     ...   \n",
       "11541             run out (Raina)  56  39  0      3      4  143.58   \n",
       "11542      c Dhoni b Muralitharan  12   9  0      0      1  133.33   \n",
       "11543       c Kapugedera b Morkel   0   1  0      0      0    0.00   \n",
       "11544                     not out   9   9  0      1      0  100.00   \n",
       "11545                     not out   9   7  0      0      0  128.57   \n",
       "\n",
       "        special_role  match_date   match_key  boundary_contribution  \n",
       "0      normal player  18-04-2009  2009041801              76.923077  \n",
       "1            captain  18-04-2009  2009041801              47.457627  \n",
       "2      normal player  18-04-2009  2009041801              36.363636  \n",
       "3      normal player  18-04-2009  2009041801              44.444444  \n",
       "4      normal player  18-04-2009  2009041801              80.000000  \n",
       "...              ...         ...         ...                    ...  \n",
       "11541  normal player  01-06-2008  2008060101              64.285714  \n",
       "11542  normal player  01-06-2008  2008060101              50.000000  \n",
       "11543  normal player  01-06-2008  2008060101                    NaN  \n",
       "11544        captain  01-06-2008  2008060101              44.444444  \n",
       "11545  normal player  01-06-2008  2008060101               0.000000  \n",
       "\n",
       "[11546 rows x 15 columns]"
      ]
     },
     "execution_count": 141,
     "metadata": {},
     "output_type": "execute_result"
    }
   ],
   "source": [
    "bat[\"boundary_contribution\"] = (bat['fours']*4+bat['sixes']*6)*100/bat['R']\n",
    "bat"
   ]
  },
  {
   "cell_type": "code",
   "execution_count": 142,
   "metadata": {},
   "outputs": [],
   "source": [
    "import matplotlib.pyplot as plt"
   ]
  },
  {
   "cell_type": "code",
   "execution_count": 143,
   "metadata": {
    "colab": {},
    "colab_type": "code",
    "id": "3ludLdgXc0Jh",
    "outputId": "a2c56c4c-331c-43ae-ec1c-5a92614389ff"
   },
   "outputs": [
    {
     "data": {
      "image/png": "[encoded data removed]",
      "text/plain": [
       "<Figure size 432x288 with 1 Axes>"
      ]
     },
     "metadata": {
      "needs_background": "light"
     },
     "output_type": "display_data"
    }
   ],
   "source": [
    "fig = plt.scatter(x=bat['boundary_contribution'], y=bat['SR'])"
   ]
  },
  {
   "cell_type": "code",
   "execution_count": 144,
   "metadata": {
    "colab": {},
    "colab_type": "code",
    "id": "NIJFw73nc0Jm"
   },
   "outputs": [],
   "source": [
    "bound_contri = bat.groupby('batsmen')\n",
    "bc = bound_contri[\"boundary_contribution\"].mean()"
   ]
  },
  {
   "cell_type": "code",
   "execution_count": 39,
   "metadata": {
    "colab": {},
    "colab_type": "code",
    "id": "v-IiG7yuc0Jp",
    "outputId": "76d7f702-192f-4a50-dc08-e4806c15e6de"
   },
   "outputs": [
    {
     "data": {
      "text/plain": [
       "batsmen\n",
       "P Chopra        100.000000\n",
       "BA Bhatt        100.000000\n",
       "VRV Singh       100.000000\n",
       "GD McGrath      100.000000\n",
       "RS Sodhi        100.000000\n",
       "Avesh Khan      100.000000\n",
       "NJ Maddinson     88.888889\n",
       "MDKJ Perera      85.714286\n",
       "Ankit Soni       85.714286\n",
       "ER Dwivedi       82.105263\n",
       "Name: boundary_contribution, dtype: float64"
      ]
     },
     "execution_count": 39,
     "metadata": {},
     "output_type": "execute_result"
    }
   ],
   "source": [
    "bc.sort_values(ascending=False)[:10]"
   ]
  },
  {
   "cell_type": "markdown",
   "metadata": {
    "colab_type": "text",
    "id": "dloabh5xqXK6"
   },
   "source": [
    "### **Question 6**\n",
    "* List down **top 10** batsmen by **strike_rate** across all seasons. Plot the top 10 batsmen on a **bar chart**\n",
    "* Repeat the above task for **bottom 10** batsmen\n",
    "* Create a sub-plot with three sections. Show the below visuals in each : \n",
    "  * Box plot of **strike rates** of the top 10 batsmen listed in 1st part of the question\n",
    "  * Box plot of **runs scored** of the top 10 batsmen\n",
    "  * Box plot of **boundary_contribution** of the top 10 batsmen\n",
    "----------------------------------"
   ]
  },
  {
   "cell_type": "code",
   "execution_count": 145,
   "metadata": {},
   "outputs": [
    {
     "data": {
      "text/html": [
       "<div>\n",
       "<style scoped>\n",
       "    .dataframe tbody tr th:only-of-type {\n",
       "        vertical-align: middle;\n",
       "    }\n",
       "\n",
       "    .dataframe tbody tr th {\n",
       "        vertical-align: top;\n",
       "    }\n",
       "\n",
       "    .dataframe thead th {\n",
       "        text-align: right;\n",
       "    }\n",
       "</style>\n",
       "<table border=\"1\" class=\"dataframe\">\n",
       "  <thead>\n",
       "    <tr style=\"text-align: right;\">\n",
       "      <th></th>\n",
       "      <th>match_no</th>\n",
       "      <th>team_1</th>\n",
       "      <th>team_2</th>\n",
       "      <th>batsmen</th>\n",
       "      <th>wicket_status</th>\n",
       "      <th>R</th>\n",
       "      <th>B</th>\n",
       "      <th>M</th>\n",
       "      <th>fours</th>\n",
       "      <th>sixes</th>\n",
       "      <th>SR</th>\n",
       "      <th>special_role</th>\n",
       "      <th>match_date</th>\n",
       "      <th>match_key</th>\n",
       "      <th>boundary_contribution</th>\n",
       "    </tr>\n",
       "  </thead>\n",
       "  <tbody>\n",
       "    <tr>\n",
       "      <th>0</th>\n",
       "      <td>1</td>\n",
       "      <td>Mumbai Indians</td>\n",
       "      <td>Chennai Super Kings</td>\n",
       "      <td>ST Jayasuriya</td>\n",
       "      <td>c Hayden b Thushara</td>\n",
       "      <td>26</td>\n",
       "      <td>20</td>\n",
       "      <td>0</td>\n",
       "      <td>5</td>\n",
       "      <td>0</td>\n",
       "      <td>130.00</td>\n",
       "      <td>normal player</td>\n",
       "      <td>18-04-2009</td>\n",
       "      <td>2009041801</td>\n",
       "      <td>76.923077</td>\n",
       "    </tr>\n",
       "    <tr>\n",
       "      <th>1</th>\n",
       "      <td>1</td>\n",
       "      <td>Mumbai Indians</td>\n",
       "      <td>Chennai Super Kings</td>\n",
       "      <td>SR Tendulkar</td>\n",
       "      <td>not out</td>\n",
       "      <td>59</td>\n",
       "      <td>49</td>\n",
       "      <td>0</td>\n",
       "      <td>7</td>\n",
       "      <td>0</td>\n",
       "      <td>120.40</td>\n",
       "      <td>captain</td>\n",
       "      <td>18-04-2009</td>\n",
       "      <td>2009041801</td>\n",
       "      <td>47.457627</td>\n",
       "    </tr>\n",
       "    <tr>\n",
       "      <th>2</th>\n",
       "      <td>1</td>\n",
       "      <td>Mumbai Indians</td>\n",
       "      <td>Chennai Super Kings</td>\n",
       "      <td>S Dhawan</td>\n",
       "      <td>c Dhoni b Gony</td>\n",
       "      <td>22</td>\n",
       "      <td>21</td>\n",
       "      <td>0</td>\n",
       "      <td>2</td>\n",
       "      <td>0</td>\n",
       "      <td>104.76</td>\n",
       "      <td>normal player</td>\n",
       "      <td>18-04-2009</td>\n",
       "      <td>2009041801</td>\n",
       "      <td>36.363636</td>\n",
       "    </tr>\n",
       "    <tr>\n",
       "      <th>3</th>\n",
       "      <td>1</td>\n",
       "      <td>Mumbai Indians</td>\n",
       "      <td>Chennai Super Kings</td>\n",
       "      <td>JP Duminy</td>\n",
       "      <td>c &amp; b Gony</td>\n",
       "      <td>9</td>\n",
       "      <td>7</td>\n",
       "      <td>0</td>\n",
       "      <td>1</td>\n",
       "      <td>0</td>\n",
       "      <td>128.57</td>\n",
       "      <td>normal player</td>\n",
       "      <td>18-04-2009</td>\n",
       "      <td>2009041801</td>\n",
       "      <td>44.444444</td>\n",
       "    </tr>\n",
       "    <tr>\n",
       "      <th>4</th>\n",
       "      <td>1</td>\n",
       "      <td>Mumbai Indians</td>\n",
       "      <td>Chennai Super Kings</td>\n",
       "      <td>DJ Bravo</td>\n",
       "      <td>c Hayden b Joginder Sharma</td>\n",
       "      <td>5</td>\n",
       "      <td>4</td>\n",
       "      <td>0</td>\n",
       "      <td>1</td>\n",
       "      <td>0</td>\n",
       "      <td>125.00</td>\n",
       "      <td>normal player</td>\n",
       "      <td>18-04-2009</td>\n",
       "      <td>2009041801</td>\n",
       "      <td>80.000000</td>\n",
       "    </tr>\n",
       "  </tbody>\n",
       "</table>\n",
       "</div>"
      ],
      "text/plain": [
       "  match_no          team_1               team_2        batsmen  \\\n",
       "0        1  Mumbai Indians  Chennai Super Kings  ST Jayasuriya   \n",
       "1        1  Mumbai Indians  Chennai Super Kings   SR Tendulkar   \n",
       "2        1  Mumbai Indians  Chennai Super Kings       S Dhawan   \n",
       "3        1  Mumbai Indians  Chennai Super Kings      JP Duminy   \n",
       "4        1  Mumbai Indians  Chennai Super Kings       DJ Bravo   \n",
       "\n",
       "                wicket_status   R   B  M  fours  sixes      SR   special_role  \\\n",
       "0         c Hayden b Thushara  26  20  0      5      0  130.00  normal player   \n",
       "1                     not out  59  49  0      7      0  120.40        captain   \n",
       "2              c Dhoni b Gony  22  21  0      2      0  104.76  normal player   \n",
       "3                  c & b Gony   9   7  0      1      0  128.57  normal player   \n",
       "4  c Hayden b Joginder Sharma   5   4  0      1      0  125.00  normal player   \n",
       "\n",
       "   match_date   match_key  boundary_contribution  \n",
       "0  18-04-2009  2009041801              76.923077  \n",
       "1  18-04-2009  2009041801              47.457627  \n",
       "2  18-04-2009  2009041801              36.363636  \n",
       "3  18-04-2009  2009041801              44.444444  \n",
       "4  18-04-2009  2009041801              80.000000  "
      ]
     },
     "execution_count": 145,
     "metadata": {},
     "output_type": "execute_result"
    }
   ],
   "source": [
    "bat.head()"
   ]
  },
  {
   "cell_type": "code",
   "execution_count": 146,
   "metadata": {},
   "outputs": [
    {
     "data": {
      "text/plain": [
       "518"
      ]
     },
     "execution_count": 146,
     "metadata": {},
     "output_type": "execute_result"
    }
   ],
   "source": [
    "len(bat.batsmen.unique())"
   ]
  },
  {
   "cell_type": "code",
   "execution_count": 147,
   "metadata": {},
   "outputs": [
    {
     "data": {
      "text/html": [
       "<div>\n",
       "<style scoped>\n",
       "    .dataframe tbody tr th:only-of-type {\n",
       "        vertical-align: middle;\n",
       "    }\n",
       "\n",
       "    .dataframe tbody tr th {\n",
       "        vertical-align: top;\n",
       "    }\n",
       "\n",
       "    .dataframe thead th {\n",
       "        text-align: right;\n",
       "    }\n",
       "</style>\n",
       "<table border=\"1\" class=\"dataframe\">\n",
       "  <thead>\n",
       "    <tr style=\"text-align: right;\">\n",
       "      <th></th>\n",
       "      <th>SR</th>\n",
       "    </tr>\n",
       "    <tr>\n",
       "      <th>batsmen</th>\n",
       "      <th></th>\n",
       "    </tr>\n",
       "  </thead>\n",
       "  <tbody>\n",
       "    <tr>\n",
       "      <th>JPR Scantlebury-Searles</th>\n",
       "      <td>320.000000</td>\n",
       "    </tr>\n",
       "    <tr>\n",
       "      <th>B Stanlake</th>\n",
       "      <td>250.000000</td>\n",
       "    </tr>\n",
       "    <tr>\n",
       "      <th>DT Patil</th>\n",
       "      <td>237.500000</td>\n",
       "    </tr>\n",
       "    <tr>\n",
       "      <th>MJ Santner</th>\n",
       "      <td>221.665000</td>\n",
       "    </tr>\n",
       "    <tr>\n",
       "      <th>RS Sodhi</th>\n",
       "      <td>200.000000</td>\n",
       "    </tr>\n",
       "    <tr>\n",
       "      <th>Umar Gul</th>\n",
       "      <td>198.295000</td>\n",
       "    </tr>\n",
       "    <tr>\n",
       "      <th>AN Ahmed</th>\n",
       "      <td>190.933333</td>\n",
       "    </tr>\n",
       "    <tr>\n",
       "      <th>I Malhotra</th>\n",
       "      <td>175.000000</td>\n",
       "    </tr>\n",
       "    <tr>\n",
       "      <th>Harpreet Brar</th>\n",
       "      <td>166.660000</td>\n",
       "    </tr>\n",
       "    <tr>\n",
       "      <th>KMDN Kulasekara</th>\n",
       "      <td>166.660000</td>\n",
       "    </tr>\n",
       "  </tbody>\n",
       "</table>\n",
       "</div>"
      ],
      "text/plain": [
       "                                 SR\n",
       "batsmen                            \n",
       "JPR Scantlebury-Searles  320.000000\n",
       "B Stanlake               250.000000\n",
       "DT Patil                 237.500000\n",
       "MJ Santner               221.665000\n",
       "RS Sodhi                 200.000000\n",
       "Umar Gul                 198.295000\n",
       "AN Ahmed                 190.933333\n",
       "I Malhotra               175.000000\n",
       "Harpreet Brar            166.660000\n",
       "KMDN Kulasekara          166.660000"
      ]
     },
     "execution_count": 147,
     "metadata": {},
     "output_type": "execute_result"
    }
   ],
   "source": [
    "bat[['batsmen','SR']].groupby('batsmen').agg('mean').sort_values(by=['SR'],ascending=False).head(10)"
   ]
  },
  {
   "cell_type": "code",
   "execution_count": 148,
   "metadata": {},
   "outputs": [],
   "source": [
    "b=bat[['batsmen','R','B']].groupby('batsmen').agg(['sum'])"
   ]
  },
  {
   "cell_type": "code",
   "execution_count": 149,
   "metadata": {},
   "outputs": [],
   "source": [
    "b['SR']=b['R']*100/b['B']"
   ]
  },
  {
   "cell_type": "code",
   "execution_count": 150,
   "metadata": {},
   "outputs": [],
   "source": [
    "b1=b.sort_values(by=['SR'],ascending=False).head(10)"
   ]
  },
  {
   "cell_type": "code",
   "execution_count": 151,
   "metadata": {},
   "outputs": [],
   "source": [
    "bats=b1.index.values.tolist()  # an ndarray method, you probably shouldn't depend on this\n"
   ]
  },
  {
   "cell_type": "code",
   "execution_count": 152,
   "metadata": {},
   "outputs": [
    {
     "data": {
      "text/plain": [
       "<BarContainer object of 10 artists>"
      ]
     },
     "execution_count": 152,
     "metadata": {},
     "output_type": "execute_result"
    },
    {
     "data": {
      "image/png": "[encoded data removed]",
      "text/plain": [
       "<Figure size 864x504 with 1 Axes>"
      ]
     },
     "metadata": {
      "needs_background": "light"
     },
     "output_type": "display_data"
    }
   ],
   "source": [
    "fig = plt.figure(figsize =(12, 7)) \n",
    "\n",
    "plt.bar(bats, b1['SR'], color ='maroon',  \n",
    "        width = 0.3) "
   ]
  },
  {
   "cell_type": "code",
   "execution_count": 153,
   "metadata": {},
   "outputs": [],
   "source": [
    "b2=b.sort_values(by=['SR']).head(10)"
   ]
  },
  {
   "cell_type": "code",
   "execution_count": 154,
   "metadata": {},
   "outputs": [
    {
     "data": {
      "text/plain": [
       "<BarContainer object of 10 artists>"
      ]
     },
     "execution_count": 154,
     "metadata": {},
     "output_type": "execute_result"
    },
    {
     "data": {
      "image/png": "[encoded data removed]",
      "text/plain": [
       "<Figure size 864x504 with 1 Axes>"
      ]
     },
     "metadata": {
      "needs_background": "light"
     },
     "output_type": "display_data"
    }
   ],
   "source": [
    "bats=b2.index.values.tolist()  # an ndarray method, you probably shouldn't depend on this\n",
    "fig = plt.figure(figsize =(12, 7)) \n",
    "\n",
    "plt.bar(bats, b2['SR'], color ='maroon',  \n",
    "        width = 0.3) "
   ]
  },
  {
   "cell_type": "code",
   "execution_count": 155,
   "metadata": {
    "colab": {},
    "colab_type": "code",
    "id": "p7OxqQRSc0J_",
    "outputId": "f16231a6-e671-40b6-f4cc-7bd22cd55ad9"
   },
   "outputs": [
    {
     "ename": "ModuleNotFoundError",
     "evalue": "No module named 'plotly'",
     "output_type": "error",
     "traceback": [
      "\u001b[1;31m---------------------------------------------------------------------------\u001b[0m",
      "\u001b[1;31mModuleNotFoundError\u001b[0m                       Traceback (most recent call last)",
      "\u001b[1;32m<ipython-input-155-9688e1b3b032>\u001b[0m in \u001b[0;36m<module>\u001b[1;34m\u001b[0m\n\u001b[1;32m----> 1\u001b[1;33m \u001b[1;32mfrom\u001b[0m \u001b[0mplotly\u001b[0m\u001b[1;33m.\u001b[0m\u001b[0msubplots\u001b[0m \u001b[1;32mimport\u001b[0m \u001b[0mmake_subplots\u001b[0m\u001b[1;33m\u001b[0m\u001b[1;33m\u001b[0m\u001b[0m\n\u001b[0m\u001b[0;32m      2\u001b[0m \u001b[1;32mimport\u001b[0m \u001b[0mplotly\u001b[0m\u001b[1;33m.\u001b[0m\u001b[0mgraph_objects\u001b[0m \u001b[1;32mas\u001b[0m \u001b[0mgo\u001b[0m\u001b[1;33m\u001b[0m\u001b[1;33m\u001b[0m\u001b[0m\n\u001b[0;32m      3\u001b[0m \u001b[1;33m\u001b[0m\u001b[0m\n\u001b[0;32m      4\u001b[0m \u001b[1;33m\u001b[0m\u001b[0m\n\u001b[0;32m      5\u001b[0m \u001b[0mfig\u001b[0m \u001b[1;33m=\u001b[0m \u001b[0mmake_subplots\u001b[0m\u001b[1;33m(\u001b[0m\u001b[0mrows\u001b[0m\u001b[1;33m=\u001b[0m\u001b[1;36m1\u001b[0m\u001b[1;33m,\u001b[0m \u001b[0mcols\u001b[0m\u001b[1;33m=\u001b[0m\u001b[1;36m3\u001b[0m\u001b[1;33m)\u001b[0m\u001b[1;33m\u001b[0m\u001b[1;33m\u001b[0m\u001b[0m\n",
      "\u001b[1;31mModuleNotFoundError\u001b[0m: No module named 'plotly'"
     ]
    }
   ],
   "source": [
    "from plotly.subplots import make_subplots\n",
    "import plotly.graph_objects as go\n",
    "\n",
    "\n",
    "fig = make_subplots(rows=1, cols=3)\n",
    "\n",
    "bat_grp = bat.groupby(\"batsmen\")\n",
    "bc_bat_grp = bat_grp[\"boundary_contribution\"].mean()\n",
    "\n",
    "bc_bat_grp = bc_bat_grp.sort_values(ascending = False)\n",
    "\n",
    "fig.add_trace(\n",
    "    go.Bar(x=SR_mean.index[-10:], y=SR_mean[-10:]),\n",
    "    row=1, col=1\n",
    ")\n",
    "\n",
    "fig.add_trace(\n",
    "    go.Bar(x=SR_mean.sort_values(ascending = True).index[:10], y=SR_mean.sort_values(ascending = True)[:10]),\n",
    "    row=1, col=2\n",
    ")\n",
    "\n",
    "fig.add_trace(\n",
    "    go.Bar(x=bc_bat_grp.index[:10], y=bc_bat_grp[:10]),\n",
    "    row=1, col=3\n",
    ")\n",
    "\n",
    "fig.update_layout(height=600, width=800, title_text=\"1. Top 10 by Strike Rate // 2. Bottom 10 by Strike Rate // 3. Top 10 by Boundary Contribtn\")\n",
    "fig.show()"
   ]
  },
  {
   "cell_type": "markdown",
   "metadata": {
    "colab_type": "text",
    "id": "pMSAVx9Rqtmm"
   },
   "source": [
    "### **Question 7**\n",
    "* Create a new column called **dismissal_status**. Use the wicket_status column to extract values like **caught, lbw, bowled** etc. and store in dismissal_status column\n",
    "* Extract the bowler name from the column **wicket_status** and store in a new column called **bowler_name**\n",
    "* Extract fielder name from the **wicket_status** column and store in a new column called **fielder_name**\n",
    "* Create a new column called **fielder_involved**. Set it to 1 if a fielder was involved in the dismissal else 0\n",
    "* Create a **count plot** of player dismissals across the categories calculated above. Which category stands out from the rest?\n",
    "------------------\n"
   ]
  },
  {
   "cell_type": "code",
   "execution_count": null,
   "metadata": {
    "colab": {},
    "colab_type": "code",
    "id": "wK7_p7v8c0KE"
   },
   "outputs": [],
   "source": [
    "batcopy = bat"
   ]
  },
  {
   "cell_type": "markdown",
   "metadata": {
    "colab_type": "text",
    "id": "JaYiYIbuc0KH"
   },
   "source": [
    "### Dropped  dismissal_status, bowler_name, fielder_name,fielder_involved."
   ]
  },
  {
   "cell_type": "code",
   "execution_count": 156,
   "metadata": {
    "colab": {},
    "colab_type": "code",
    "id": "id_hEzp6c0KH"
   },
   "outputs": [
    {
     "ename": "NameError",
     "evalue": "name 'batcopy' is not defined",
     "output_type": "error",
     "traceback": [
      "\u001b[1;31m---------------------------------------------------------------------------\u001b[0m",
      "\u001b[1;31mNameError\u001b[0m                                 Traceback (most recent call last)",
      "\u001b[1;32m<ipython-input-156-6ef92d8b9852>\u001b[0m in \u001b[0;36m<module>\u001b[1;34m\u001b[0m\n\u001b[1;32m----> 1\u001b[1;33m \u001b[0mbatcopy\u001b[0m \u001b[1;33m=\u001b[0m \u001b[0mbatcopy\u001b[0m\u001b[1;33m.\u001b[0m\u001b[0mdrop\u001b[0m\u001b[1;33m(\u001b[0m\u001b[1;33m[\u001b[0m\u001b[1;34m\"dismissal_mode\"\u001b[0m\u001b[1;33m,\u001b[0m\u001b[1;34m\"bowler_name\"\u001b[0m\u001b[1;33m,\u001b[0m\u001b[1;34m\"fielder\"\u001b[0m\u001b[1;33m,\u001b[0m\u001b[1;34m\"is_fielder_involved\"\u001b[0m\u001b[1;33m]\u001b[0m\u001b[1;33m,\u001b[0m\u001b[0maxis\u001b[0m \u001b[1;33m=\u001b[0m \u001b[1;36m1\u001b[0m\u001b[1;33m)\u001b[0m\u001b[1;33m\u001b[0m\u001b[1;33m\u001b[0m\u001b[0m\n\u001b[0m",
      "\u001b[1;31mNameError\u001b[0m: name 'batcopy' is not defined"
     ]
    }
   ],
   "source": [
    "batcopy = batcopy.drop([\"dismissal_mode\",\"bowler_name\",\"fielder\",\"is_fielder_involved\"],axis = 1)"
   ]
  },
  {
   "cell_type": "code",
   "execution_count": 157,
   "metadata": {
    "colab": {},
    "colab_type": "code",
    "id": "w60tgT1Fc0KK",
    "outputId": "0057ab77-80fc-451e-a619-37399f0cc2d1"
   },
   "outputs": [
    {
     "ename": "NameError",
     "evalue": "name 'batcopy' is not defined",
     "output_type": "error",
     "traceback": [
      "\u001b[1;31m---------------------------------------------------------------------------\u001b[0m",
      "\u001b[1;31mNameError\u001b[0m                                 Traceback (most recent call last)",
      "\u001b[1;32m<ipython-input-157-26f6d133d15c>\u001b[0m in \u001b[0;36m<module>\u001b[1;34m\u001b[0m\n\u001b[1;32m----> 1\u001b[1;33m \u001b[0mbatcopy\u001b[0m\u001b[1;33m.\u001b[0m\u001b[0mhead\u001b[0m\u001b[1;33m(\u001b[0m\u001b[1;33m)\u001b[0m\u001b[1;33m\u001b[0m\u001b[1;33m\u001b[0m\u001b[0m\n\u001b[0m",
      "\u001b[1;31mNameError\u001b[0m: name 'batcopy' is not defined"
     ]
    }
   ],
   "source": [
    "batcopy.head()"
   ]
  },
  {
   "cell_type": "code",
   "execution_count": 158,
   "metadata": {
    "colab": {},
    "colab_type": "code",
    "id": "ZTKTj_CZc0KP"
   },
   "outputs": [
    {
     "ename": "NameError",
     "evalue": "name 'batcopy' is not defined",
     "output_type": "error",
     "traceback": [
      "\u001b[1;31m---------------------------------------------------------------------------\u001b[0m",
      "\u001b[1;31mNameError\u001b[0m                                 Traceback (most recent call last)",
      "\u001b[1;32m<ipython-input-158-9986820ec692>\u001b[0m in \u001b[0;36m<module>\u001b[1;34m\u001b[0m\n\u001b[0;32m      4\u001b[0m \u001b[0mfielderInvolved\u001b[0m \u001b[1;33m=\u001b[0m \u001b[1;33m[\u001b[0m\u001b[1;33m]\u001b[0m\u001b[1;33m\u001b[0m\u001b[1;33m\u001b[0m\u001b[0m\n\u001b[0;32m      5\u001b[0m \u001b[1;33m\u001b[0m\u001b[0m\n\u001b[1;32m----> 6\u001b[1;33m \u001b[1;32mfor\u001b[0m \u001b[0mi\u001b[0m\u001b[1;33m,\u001b[0m\u001b[0mj\u001b[0m \u001b[1;32min\u001b[0m \u001b[0mbatcopy\u001b[0m\u001b[1;33m.\u001b[0m\u001b[0miterrows\u001b[0m\u001b[1;33m(\u001b[0m\u001b[1;33m)\u001b[0m\u001b[1;33m:\u001b[0m\u001b[1;33m\u001b[0m\u001b[1;33m\u001b[0m\u001b[0m\n\u001b[0m\u001b[0;32m      7\u001b[0m     \u001b[0mdmode\u001b[0m \u001b[1;33m=\u001b[0m \u001b[0mj\u001b[0m\u001b[1;33m[\u001b[0m\u001b[1;34m\"wicket_status\"\u001b[0m\u001b[1;33m]\u001b[0m\u001b[1;33m.\u001b[0m\u001b[0msplit\u001b[0m\u001b[1;33m(\u001b[0m\u001b[1;34m\" \"\u001b[0m\u001b[1;33m)\u001b[0m\u001b[1;33m\u001b[0m\u001b[1;33m\u001b[0m\u001b[0m\n\u001b[0;32m      8\u001b[0m \u001b[1;33m\u001b[0m\u001b[0m\n",
      "\u001b[1;31mNameError\u001b[0m: name 'batcopy' is not defined"
     ]
    }
   ],
   "source": [
    "dismissalMode = []\n",
    "bowlerName = []\n",
    "fielderName = []\n",
    "fielderInvolved = []\n",
    "\n",
    "for i,j in batcopy.iterrows():\n",
    "    dmode = j[\"wicket_status\"].split(\" \")\n",
    "    \n",
    "    if dmode[0] == \"c\":\n",
    "        #1\n",
    "        dismissalMode.append(\"caught\")\n",
    "        #2\n",
    "        bi = dmode.index(\"b\")\n",
    "        bowlerName.append(\" \".join(dmode[bi+1:]))\n",
    "        #3\n",
    "        if dmode[1] != \"&\":\n",
    "            fielderName.append(\" \".join(dmode[1:bi]))\n",
    "        else:\n",
    "            fielderName.append(\" \".join(dmode[bi+1:]))\n",
    "        #4\n",
    "        fielderInvolved.append(1)\n",
    "    elif dmode[0] == \"not\":\n",
    "        #1\n",
    "        dismissalMode.append(\"not out\")\n",
    "        #2\n",
    "        bowlerName.append(\"no bowler\")\n",
    "        #3\n",
    "        fielderName.append(\"no fielder\")\n",
    "        #4\n",
    "        fielderInvolved.append(0)\n",
    "        \n",
    "    elif dmode[0] == \"run\":\n",
    "        #1\n",
    "        dismissalMode.append(\"run out\")\n",
    "        #2\n",
    "        bowlerName.append(\"no bowler\")\n",
    "        #3\n",
    "        fielderName.append(\"no fielder\")\n",
    "        #4\n",
    "        fielderInvolved.append(0)\n",
    "    elif dmode[0] == \"b\":\n",
    "        #1\n",
    "        dismissalMode.append(\"bowled\")\n",
    "        #2\n",
    "        bi = dmode.index(\"b\")\n",
    "        bowlerName.append(\" \".join(dmode[bi+1:]))\n",
    "        #3\n",
    "        fielderName.append(\"no fielder\")\n",
    "        #4\n",
    "        fielderInvolved.append(0)\n",
    "    elif dmode[0] == \"lbw\":\n",
    "        #1\n",
    "        dismissalMode.append(\"lbw\")\n",
    "        #2\n",
    "        bi = dmode.index(\"b\")\n",
    "        bowlerName.append(\" \".join(dmode[bi+1:]))\n",
    "        #3\n",
    "        fielderName.append(\"no fielder\")\n",
    "        #4\n",
    "        fielderInvolved.append(0)\n",
    "    elif dmode[0] == \"retired\":\n",
    "        #1\n",
    "        dismissalMode.append(\"retired\")\n",
    "        #2\n",
    "        bowlerName.append(\"no bowler\")\n",
    "        #3\n",
    "        fielderName.append(\"no fielder\")\n",
    "        #4\n",
    "        fielderInvolved.append(0)\n",
    "    elif dmode[0] == \"st\":\n",
    "        #1\n",
    "        dismissalMode.append(\"stumped\")\n",
    "        #2\n",
    "        bi = dmode.index(\"b\")\n",
    "        bowlerName.append(\" \".join(dmode[bi+1:]))\n",
    "        #3\n",
    "        fielderName.append(\" \".join(dmode[1:bi]))\n",
    "        #4\n",
    "        fielderInvolved.append(1)\n",
    "    elif dmode[0] == \"absent\":\n",
    "        #1\n",
    "        dismissalMode.append(\"absent hurt\")\n",
    "        #2\n",
    "        bowlerName.append(\"no bowler\")\n",
    "        #3\n",
    "        fielderName.append(\"no fielder\")\n",
    "        #4\n",
    "        fielderInvolved.append(0)   \n",
    "    elif dmode[0] == \"hit\":\n",
    "        #1\n",
    "        dismissalMode.append(\"hit wicket\")\n",
    "        #2\n",
    "        bi = dmode.index(\"b\")\n",
    "        bowlerName.append(\" \".join(dmode[bi+1:]))\n",
    "        #3\n",
    "        fielderName.append(\"no fielder\")\n",
    "        #4\n",
    "        fielderInvolved.append(0)\n",
    "    elif dmode[0] == \"obstructing\":\n",
    "        #1\n",
    "        dismissalMode.append(\"Obstructing the field\")\n",
    "        #2\n",
    "        bowlerName.append(\"no bowler\")\n",
    "        #3\n",
    "        fielderName.append(\"no fielder\")\n",
    "        #4\n",
    "        fielderInvolved.append(0)\n",
    "    else:\n",
    "        print(\"Error\")"
   ]
  },
  {
   "cell_type": "code",
   "execution_count": null,
   "metadata": {
    "colab": {},
    "colab_type": "code",
    "id": "00UAdBalc0KS",
    "outputId": "e458637f-bca4-4268-8e08-ac96b65d3fe1"
   },
   "outputs": [
    {
     "name": "stdout",
     "output_type": "stream",
     "text": [
      "{'bowled', 'caught', 'Obstructing the field', 'hit wicket', 'not out', 'run out', 'stumped', 'absent hurt', 'lbw', 'retired'}\n"
     ]
    }
   ],
   "source": [
    "print(set(dismissalMode))"
   ]
  },
  {
   "cell_type": "code",
   "execution_count": null,
   "metadata": {
    "colab": {},
    "colab_type": "code",
    "id": "RmDUrPCic0KW"
   },
   "outputs": [],
   "source": [
    "dismissalMode = pd.Series(dismissalMode)\n",
    "bowlerName = pd.Series(bowlerName)\n",
    "fielderName = pd.Series(fielderName)\n",
    "fielderInvolved = pd.Series(fielderInvolved)"
   ]
  },
  {
   "cell_type": "code",
   "execution_count": null,
   "metadata": {
    "colab": {},
    "colab_type": "code",
    "id": "1sc7k4Noc0KZ"
   },
   "outputs": [],
   "source": [
    "batcopy[\"dismissal_mode\"] = dismissalMode\n",
    "batcopy[\"bowler_name\"] = bowlerName\n",
    "batcopy[\"fielder\"] = fielderName\n",
    "batcopy[\"is_fielder_involved\"] = fielderInvolved"
   ]
  },
  {
   "cell_type": "code",
   "execution_count": null,
   "metadata": {
    "colab": {},
    "colab_type": "code",
    "id": "k2UthR18c0Kc"
   },
   "outputs": [],
   "source": [
    "bat = batcopy"
   ]
  },
  {
   "cell_type": "code",
   "execution_count": null,
   "metadata": {
    "colab": {},
    "colab_type": "code",
    "id": "KNxv0Y_kGrFE",
    "outputId": "5f9b9c89-d9ce-49cb-9444-d5e824b421ef"
   },
   "outputs": [
    {
     "data": {
      "text/plain": [
       "<matplotlib.axes._subplots.AxesSubplot at 0x2348fc176d8>"
      ]
     },
     "execution_count": 378,
     "metadata": {
      "tags": []
     },
     "output_type": "execute_result"
    },
    {
     "data": {
      "image/png": "[encoded data removed]",
      "text/plain": [
       "<Figure size 1080x720 with 1 Axes>"
      ]
     },
     "metadata": {
      "needs_background": "light",
      "tags": []
     },
     "output_type": "display_data"
    }
   ],
   "source": [
    "from matplotlib import pyplot\n",
    "\n",
    "a4_dims = (15, 10)\n",
    "\n",
    "fig, ax = pyplot.subplots(figsize=a4_dims)\n",
    "sns.countplot(ax=ax, x=bat[\"dismissal_mode\"])"
   ]
  },
  {
   "cell_type": "code",
   "execution_count": null,
   "metadata": {
    "colab": {},
    "colab_type": "code",
    "id": "FJRB6vkOc0Ki",
    "outputId": "4548aefc-8021-410f-8a99-dcd82b718661"
   },
   "outputs": [
    {
     "name": "stdout",
     "output_type": "stream",
     "text": [
      "dismissal_mode\n",
      "Obstructing the field       2\n",
      "absent hurt                 6\n",
      "bowled                   1578\n",
      "caught                   5552\n",
      "hit wicket                 10\n",
      "lbw                       540\n",
      "not out                  2713\n",
      "retired                    11\n",
      "run out                   850\n",
      "stumped                   284\n",
      "Name: dismissal_mode, dtype: int64\n"
     ]
    },
    {
     "data": {
      "application/vnd.plotly.v1+json": {
       "config": {
        "plotlyServerURL": "https://plot.ly"
       },
       "data": [
        {
         "alignmentgroup": "True",
         "hovertemplate": "x=%{x}<br>y=%{y}<extra></extra>",
         "legendgroup": "",
         "marker": {
          "color": "#636efa"
         },
         "name": "",
         "offsetgroup": "",
         "orientation": "v",
         "showlegend": false,
         "textposition": "auto",
         "type": "bar",
         "x": [
          "Obstructing the field",
          "absent hurt",
          "bowled",
          "caught",
          "hit wicket",
          "lbw",
          "not out",
          "retired",
          "run out",
          "stumped"
         ],
         "xaxis": "x",
         "y": [
          2,
          6,
          1578,
          5552,
          10,
          540,
          2713,
          11,
          850,
          284
         ],
         "yaxis": "y"
        }
       ],
       "layout": {
        "barmode": "relative",
        "legend": {
         "tracegroupgap": 0
        },
        "margin": {
         "t": 60
        },
        "template": {
         "data": {
          "bar": [
           {
            "error_x": {
             "color": "#2a3f5f"
            },
            "error_y": {
             "color": "#2a3f5f"
            },
            "marker": {
             "line": {
              "color": "#E5ECF6",
              "width": 0.5
             }
            },
            "type": "bar"
           }
          ],
          "barpolar": [
           {
            "marker": {
             "line": {
              "color": "#E5ECF6",
              "width": 0.5
             }
            },
            "type": "barpolar"
           }
          ],
          "carpet": [
           {
            "aaxis": {
             "endlinecolor": "#2a3f5f",
             "gridcolor": "white",
             "linecolor": "white",
             "minorgridcolor": "white",
             "startlinecolor": "#2a3f5f"
            },
            "baxis": {
             "endlinecolor": "#2a3f5f",
             "gridcolor": "white",
             "linecolor": "white",
             "minorgridcolor": "white",
             "startlinecolor": "#2a3f5f"
            },
            "type": "carpet"
           }
          ],
          "choropleth": [
           {
            "colorbar": {
             "outlinewidth": 0,
             "ticks": ""
            },
            "type": "choropleth"
           }
          ],
          "contour": [
           {
            "colorbar": {
             "outlinewidth": 0,
             "ticks": ""
            },
            "colorscale": [
             [
              0,
              "#0d0887"
             ],
             [
              0.1111111111111111,
              "#46039f"
             ],
             [
              0.2222222222222222,
              "#7201a8"
             ],
             [
              0.3333333333333333,
              "#9c179e"
             ],
             [
              0.4444444444444444,
              "#bd3786"
             ],
             [
              0.5555555555555556,
              "#d8576b"
             ],
             [
              0.6666666666666666,
              "#ed7953"
             ],
             [
              0.7777777777777778,
              "#fb9f3a"
             ],
             [
              0.8888888888888888,
              "#fdca26"
             ],
             [
              1,
              "#f0f921"
             ]
            ],
            "type": "contour"
           }
          ],
          "contourcarpet": [
           {
            "colorbar": {
             "outlinewidth": 0,
             "ticks": ""
            },
            "type": "contourcarpet"
           }
          ],
          "heatmap": [
           {
            "colorbar": {
             "outlinewidth": 0,
             "ticks": ""
            },
            "colorscale": [
             [
              0,
              "#0d0887"
             ],
             [
              0.1111111111111111,
              "#46039f"
             ],
             [
              0.2222222222222222,
              "#7201a8"
             ],
             [
              0.3333333333333333,
              "#9c179e"
             ],
             [
              0.4444444444444444,
              "#bd3786"
             ],
             [
              0.5555555555555556,
              "#d8576b"
             ],
             [
              0.6666666666666666,
              "#ed7953"
             ],
             [
              0.7777777777777778,
              "#fb9f3a"
             ],
             [
              0.8888888888888888,
              "#fdca26"
             ],
             [
              1,
              "#f0f921"
             ]
            ],
            "type": "heatmap"
           }
          ],
          "heatmapgl": [
           {
            "colorbar": {
             "outlinewidth": 0,
             "ticks": ""
            },
            "colorscale": [
             [
              0,
              "#0d0887"
             ],
             [
              0.1111111111111111,
              "#46039f"
             ],
             [
              0.2222222222222222,
              "#7201a8"
             ],
             [
              0.3333333333333333,
              "#9c179e"
             ],
             [
              0.4444444444444444,
              "#bd3786"
             ],
             [
              0.5555555555555556,
              "#d8576b"
             ],
             [
              0.6666666666666666,
              "#ed7953"
             ],
             [
              0.7777777777777778,
              "#fb9f3a"
             ],
             [
              0.8888888888888888,
              "#fdca26"
             ],
             [
              1,
              "#f0f921"
             ]
            ],
            "type": "heatmapgl"
           }
          ],
          "histogram": [
           {
            "marker": {
             "colorbar": {
              "outlinewidth": 0,
              "ticks": ""
             }
            },
            "type": "histogram"
           }
          ],
          "histogram2d": [
           {
            "colorbar": {
             "outlinewidth": 0,
             "ticks": ""
            },
            "colorscale": [
             [
              0,
              "#0d0887"
             ],
             [
              0.1111111111111111,
              "#46039f"
             ],
             [
              0.2222222222222222,
              "#7201a8"
             ],
             [
              0.3333333333333333,
              "#9c179e"
             ],
             [
              0.4444444444444444,
              "#bd3786"
             ],
             [
              0.5555555555555556,
              "#d8576b"
             ],
             [
              0.6666666666666666,
              "#ed7953"
             ],
             [
              0.7777777777777778,
              "#fb9f3a"
             ],
             [
              0.8888888888888888,
              "#fdca26"
             ],
             [
              1,
              "#f0f921"
             ]
            ],
            "type": "histogram2d"
           }
          ],
          "histogram2dcontour": [
           {
            "colorbar": {
             "outlinewidth": 0,
             "ticks": ""
            },
            "colorscale": [
             [
              0,
              "#0d0887"
             ],
             [
              0.1111111111111111,
              "#46039f"
             ],
             [
              0.2222222222222222,
              "#7201a8"
             ],
             [
              0.3333333333333333,
              "#9c179e"
             ],
             [
              0.4444444444444444,
              "#bd3786"
             ],
             [
              0.5555555555555556,
              "#d8576b"
             ],
             [
              0.6666666666666666,
              "#ed7953"
             ],
             [
              0.7777777777777778,
              "#fb9f3a"
             ],
             [
              0.8888888888888888,
              "#fdca26"
             ],
             [
              1,
              "#f0f921"
             ]
            ],
            "type": "histogram2dcontour"
           }
          ],
          "mesh3d": [
           {
            "colorbar": {
             "outlinewidth": 0,
             "ticks": ""
            },
            "type": "mesh3d"
           }
          ],
          "parcoords": [
           {
            "line": {
             "colorbar": {
              "outlinewidth": 0,
              "ticks": ""
             }
            },
            "type": "parcoords"
           }
          ],
          "pie": [
           {
            "automargin": true,
            "type": "pie"
           }
          ],
          "scatter": [
           {
            "marker": {
             "colorbar": {
              "outlinewidth": 0,
              "ticks": ""
             }
            },
            "type": "scatter"
           }
          ],
          "scatter3d": [
           {
            "line": {
             "colorbar": {
              "outlinewidth": 0,
              "ticks": ""
             }
            },
            "marker": {
             "colorbar": {
              "outlinewidth": 0,
              "ticks": ""
             }
            },
            "type": "scatter3d"
           }
          ],
          "scattercarpet": [
           {
            "marker": {
             "colorbar": {
              "outlinewidth": 0,
              "ticks": ""
             }
            },
            "type": "scattercarpet"
           }
          ],
          "scattergeo": [
           {
            "marker": {
             "colorbar": {
              "outlinewidth": 0,
              "ticks": ""
             }
            },
            "type": "scattergeo"
           }
          ],
          "scattergl": [
           {
            "marker": {
             "colorbar": {
              "outlinewidth": 0,
              "ticks": ""
             }
            },
            "type": "scattergl"
           }
          ],
          "scattermapbox": [
           {
            "marker": {
             "colorbar": {
              "outlinewidth": 0,
              "ticks": ""
             }
            },
            "type": "scattermapbox"
           }
          ],
          "scatterpolar": [
           {
            "marker": {
             "colorbar": {
              "outlinewidth": 0,
              "ticks": ""
             }
            },
            "type": "scatterpolar"
           }
          ],
          "scatterpolargl": [
           {
            "marker": {
             "colorbar": {
              "outlinewidth": 0,
              "ticks": ""
             }
            },
            "type": "scatterpolargl"
           }
          ],
          "scatterternary": [
           {
            "marker": {
             "colorbar": {
              "outlinewidth": 0,
              "ticks": ""
             }
            },
            "type": "scatterternary"
           }
          ],
          "surface": [
           {
            "colorbar": {
             "outlinewidth": 0,
             "ticks": ""
            },
            "colorscale": [
             [
              0,
              "#0d0887"
             ],
             [
              0.1111111111111111,
              "#46039f"
             ],
             [
              0.2222222222222222,
              "#7201a8"
             ],
             [
              0.3333333333333333,
              "#9c179e"
             ],
             [
              0.4444444444444444,
              "#bd3786"
             ],
             [
              0.5555555555555556,
              "#d8576b"
             ],
             [
              0.6666666666666666,
              "#ed7953"
             ],
             [
              0.7777777777777778,
              "#fb9f3a"
             ],
             [
              0.8888888888888888,
              "#fdca26"
             ],
             [
              1,
              "#f0f921"
             ]
            ],
            "type": "surface"
           }
          ],
          "table": [
           {
            "cells": {
             "fill": {
              "color": "#EBF0F8"
             },
             "line": {
              "color": "white"
             }
            },
            "header": {
             "fill": {
              "color": "#C8D4E3"
             },
             "line": {
              "color": "white"
             }
            },
            "type": "table"
           }
          ]
         },
         "layout": {
          "annotationdefaults": {
           "arrowcolor": "#2a3f5f",
           "arrowhead": 0,
           "arrowwidth": 1
          },
          "coloraxis": {
           "colorbar": {
            "outlinewidth": 0,
            "ticks": ""
           }
          },
          "colorscale": {
           "diverging": [
            [
             0,
             "#8e0152"
            ],
            [
             0.1,
             "#c51b7d"
            ],
            [
             0.2,
             "#de77ae"
            ],
            [
             0.3,
             "#f1b6da"
            ],
            [
             0.4,
             "#fde0ef"
            ],
            [
             0.5,
             "#f7f7f7"
            ],
            [
             0.6,
             "#e6f5d0"
            ],
            [
             0.7,
             "#b8e186"
            ],
            [
             0.8,
             "#7fbc41"
            ],
            [
             0.9,
             "#4d9221"
            ],
            [
             1,
             "#276419"
            ]
           ],
           "sequential": [
            [
             0,
             "#0d0887"
            ],
            [
             0.1111111111111111,
             "#46039f"
            ],
            [
             0.2222222222222222,
             "#7201a8"
            ],
            [
             0.3333333333333333,
             "#9c179e"
            ],
            [
             0.4444444444444444,
             "#bd3786"
            ],
            [
             0.5555555555555556,
             "#d8576b"
            ],
            [
             0.6666666666666666,
             "#ed7953"
            ],
            [
             0.7777777777777778,
             "#fb9f3a"
            ],
            [
             0.8888888888888888,
             "#fdca26"
            ],
            [
             1,
             "#f0f921"
            ]
           ],
           "sequentialminus": [
            [
             0,
             "#0d0887"
            ],
            [
             0.1111111111111111,
             "#46039f"
            ],
            [
             0.2222222222222222,
             "#7201a8"
            ],
            [
             0.3333333333333333,
             "#9c179e"
            ],
            [
             0.4444444444444444,
             "#bd3786"
            ],
            [
             0.5555555555555556,
             "#d8576b"
            ],
            [
             0.6666666666666666,
             "#ed7953"
            ],
            [
             0.7777777777777778,
             "#fb9f3a"
            ],
            [
             0.8888888888888888,
             "#fdca26"
            ],
            [
             1,
             "#f0f921"
            ]
           ]
          },
          "colorway": [
           "#636efa",
           "#EF553B",
           "#00cc96",
           "#ab63fa",
           "#FFA15A",
           "#19d3f3",
           "#FF6692",
           "#B6E880",
           "#FF97FF",
           "#FECB52"
          ],
          "font": {
           "color": "#2a3f5f"
          },
          "geo": {
           "bgcolor": "white",
           "lakecolor": "white",
           "landcolor": "#E5ECF6",
           "showlakes": true,
           "showland": true,
           "subunitcolor": "white"
          },
          "hoverlabel": {
           "align": "left"
          },
          "hovermode": "closest",
          "mapbox": {
           "style": "light"
          },
          "paper_bgcolor": "white",
          "plot_bgcolor": "#E5ECF6",
          "polar": {
           "angularaxis": {
            "gridcolor": "white",
            "linecolor": "white",
            "ticks": ""
           },
           "bgcolor": "#E5ECF6",
           "radialaxis": {
            "gridcolor": "white",
            "linecolor": "white",
            "ticks": ""
           }
          },
          "scene": {
           "xaxis": {
            "backgroundcolor": "#E5ECF6",
            "gridcolor": "white",
            "gridwidth": 2,
            "linecolor": "white",
            "showbackground": true,
            "ticks": "",
            "zerolinecolor": "white"
           },
           "yaxis": {
            "backgroundcolor": "#E5ECF6",
            "gridcolor": "white",
            "gridwidth": 2,
            "linecolor": "white",
            "showbackground": true,
            "ticks": "",
            "zerolinecolor": "white"
           },
           "zaxis": {
            "backgroundcolor": "#E5ECF6",
            "gridcolor": "white",
            "gridwidth": 2,
            "linecolor": "white",
            "showbackground": true,
            "ticks": "",
            "zerolinecolor": "white"
           }
          },
          "shapedefaults": {
           "line": {
            "color": "#2a3f5f"
           }
          },
          "ternary": {
           "aaxis": {
            "gridcolor": "white",
            "linecolor": "white",
            "ticks": ""
           },
           "baxis": {
            "gridcolor": "white",
            "linecolor": "white",
            "ticks": ""
           },
           "bgcolor": "#E5ECF6",
           "caxis": {
            "gridcolor": "white",
            "linecolor": "white",
            "ticks": ""
           }
          },
          "title": {
           "x": 0.05
          },
          "xaxis": {
           "automargin": true,
           "gridcolor": "white",
           "linecolor": "white",
           "ticks": "",
           "title": {
            "standoff": 15
           },
           "zerolinecolor": "white",
           "zerolinewidth": 2
          },
          "yaxis": {
           "automargin": true,
           "gridcolor": "white",
           "linecolor": "white",
           "ticks": "",
           "title": {
            "standoff": 15
           },
           "zerolinecolor": "white",
           "zerolinewidth": 2
          }
         }
        },
        "xaxis": {
         "anchor": "y",
         "domain": [
          0,
          1
         ],
         "title": {
          "text": "x"
         }
        },
        "yaxis": {
         "anchor": "x",
         "domain": [
          0,
          1
         ],
         "title": {
          "text": "y"
         }
        }
       }
      },
      "text/html": [
       "<div>\n",
       "        \n",
       "        \n",
       "            <div id=\"d4c70c80-2ba9-435a-b804-bda109ec48b8\" class=\"plotly-graph-div\" style=\"height:525px; width:100%;\"></div>\n",
       "            <script type=\"text/javascript\">\n",
       "                require([\"plotly\"], function(Plotly) {\n",
       "                    window.PLOTLYENV=window.PLOTLYENV || {};\n",
       "                    \n",
       "                if (document.getElementById(\"d4c70c80-2ba9-435a-b804-bda109ec48b8\")) {\n",
       "                    Plotly.newPlot(\n",
       "                        'd4c70c80-2ba9-435a-b804-bda109ec48b8',\n",
       "                        [{\"alignmentgroup\": \"True\", \"hovertemplate\": \"x=%{x}<br>y=%{y}<extra></extra>\", \"legendgroup\": \"\", \"marker\": {\"color\": \"#636efa\"}, \"name\": \"\", \"offsetgroup\": \"\", \"orientation\": \"v\", \"showlegend\": false, \"textposition\": \"auto\", \"type\": \"bar\", \"x\": [\"Obstructing the field\", \"absent hurt\", \"bowled\", \"caught\", \"hit wicket\", \"lbw\", \"not out\", \"retired\", \"run out\", \"stumped\"], \"xaxis\": \"x\", \"y\": [2, 6, 1578, 5552, 10, 540, 2713, 11, 850, 284], \"yaxis\": \"y\"}],\n",
       "                        {\"barmode\": \"relative\", \"legend\": {\"tracegroupgap\": 0}, \"margin\": {\"t\": 60}, \"template\": {\"data\": {\"bar\": [{\"error_x\": {\"color\": \"#2a3f5f\"}, \"error_y\": {\"color\": \"#2a3f5f\"}, \"marker\": {\"line\": {\"color\": \"#E5ECF6\", \"width\": 0.5}}, \"type\": \"bar\"}], \"barpolar\": [{\"marker\": {\"line\": {\"color\": \"#E5ECF6\", \"width\": 0.5}}, \"type\": \"barpolar\"}], \"carpet\": [{\"aaxis\": {\"endlinecolor\": \"#2a3f5f\", \"gridcolor\": \"white\", \"linecolor\": \"white\", \"minorgridcolor\": \"white\", \"startlinecolor\": \"#2a3f5f\"}, \"baxis\": {\"endlinecolor\": \"#2a3f5f\", \"gridcolor\": \"white\", \"linecolor\": \"white\", \"minorgridcolor\": \"white\", \"startlinecolor\": \"#2a3f5f\"}, \"type\": \"carpet\"}], \"choropleth\": [{\"colorbar\": {\"outlinewidth\": 0, \"ticks\": \"\"}, \"type\": \"choropleth\"}], \"contour\": [{\"colorbar\": {\"outlinewidth\": 0, \"ticks\": \"\"}, \"colorscale\": [[0.0, \"#0d0887\"], [0.1111111111111111, \"#46039f\"], [0.2222222222222222, \"#7201a8\"], [0.3333333333333333, \"#9c179e\"], [0.4444444444444444, \"#bd3786\"], [0.5555555555555556, \"#d8576b\"], [0.6666666666666666, \"#ed7953\"], [0.7777777777777778, \"#fb9f3a\"], [0.8888888888888888, \"#fdca26\"], [1.0, \"#f0f921\"]], \"type\": \"contour\"}], \"contourcarpet\": [{\"colorbar\": {\"outlinewidth\": 0, \"ticks\": \"\"}, \"type\": \"contourcarpet\"}], \"heatmap\": [{\"colorbar\": {\"outlinewidth\": 0, \"ticks\": \"\"}, \"colorscale\": [[0.0, \"#0d0887\"], [0.1111111111111111, \"#46039f\"], [0.2222222222222222, \"#7201a8\"], [0.3333333333333333, \"#9c179e\"], [0.4444444444444444, \"#bd3786\"], [0.5555555555555556, \"#d8576b\"], [0.6666666666666666, \"#ed7953\"], [0.7777777777777778, \"#fb9f3a\"], [0.8888888888888888, \"#fdca26\"], [1.0, \"#f0f921\"]], \"type\": \"heatmap\"}], \"heatmapgl\": [{\"colorbar\": {\"outlinewidth\": 0, \"ticks\": \"\"}, \"colorscale\": [[0.0, \"#0d0887\"], [0.1111111111111111, \"#46039f\"], [0.2222222222222222, \"#7201a8\"], [0.3333333333333333, \"#9c179e\"], [0.4444444444444444, \"#bd3786\"], [0.5555555555555556, \"#d8576b\"], [0.6666666666666666, \"#ed7953\"], [0.7777777777777778, \"#fb9f3a\"], [0.8888888888888888, \"#fdca26\"], [1.0, \"#f0f921\"]], \"type\": \"heatmapgl\"}], \"histogram\": [{\"marker\": {\"colorbar\": {\"outlinewidth\": 0, \"ticks\": \"\"}}, \"type\": \"histogram\"}], \"histogram2d\": [{\"colorbar\": {\"outlinewidth\": 0, \"ticks\": \"\"}, \"colorscale\": [[0.0, \"#0d0887\"], [0.1111111111111111, \"#46039f\"], [0.2222222222222222, \"#7201a8\"], [0.3333333333333333, \"#9c179e\"], [0.4444444444444444, \"#bd3786\"], [0.5555555555555556, \"#d8576b\"], [0.6666666666666666, \"#ed7953\"], [0.7777777777777778, \"#fb9f3a\"], [0.8888888888888888, \"#fdca26\"], [1.0, \"#f0f921\"]], \"type\": \"histogram2d\"}], \"histogram2dcontour\": [{\"colorbar\": {\"outlinewidth\": 0, \"ticks\": \"\"}, \"colorscale\": [[0.0, \"#0d0887\"], [0.1111111111111111, \"#46039f\"], [0.2222222222222222, \"#7201a8\"], [0.3333333333333333, \"#9c179e\"], [0.4444444444444444, \"#bd3786\"], [0.5555555555555556, \"#d8576b\"], [0.6666666666666666, \"#ed7953\"], [0.7777777777777778, \"#fb9f3a\"], [0.8888888888888888, \"#fdca26\"], [1.0, \"#f0f921\"]], \"type\": \"histogram2dcontour\"}], \"mesh3d\": [{\"colorbar\": {\"outlinewidth\": 0, \"ticks\": \"\"}, \"type\": \"mesh3d\"}], \"parcoords\": [{\"line\": {\"colorbar\": {\"outlinewidth\": 0, \"ticks\": \"\"}}, \"type\": \"parcoords\"}], \"pie\": [{\"automargin\": true, \"type\": \"pie\"}], \"scatter\": [{\"marker\": {\"colorbar\": {\"outlinewidth\": 0, \"ticks\": \"\"}}, \"type\": \"scatter\"}], \"scatter3d\": [{\"line\": {\"colorbar\": {\"outlinewidth\": 0, \"ticks\": \"\"}}, \"marker\": {\"colorbar\": {\"outlinewidth\": 0, \"ticks\": \"\"}}, \"type\": \"scatter3d\"}], \"scattercarpet\": [{\"marker\": {\"colorbar\": {\"outlinewidth\": 0, \"ticks\": \"\"}}, \"type\": \"scattercarpet\"}], \"scattergeo\": [{\"marker\": {\"colorbar\": {\"outlinewidth\": 0, \"ticks\": \"\"}}, \"type\": \"scattergeo\"}], \"scattergl\": [{\"marker\": {\"colorbar\": {\"outlinewidth\": 0, \"ticks\": \"\"}}, \"type\": \"scattergl\"}], \"scattermapbox\": [{\"marker\": {\"colorbar\": {\"outlinewidth\": 0, \"ticks\": \"\"}}, \"type\": \"scattermapbox\"}], \"scatterpolar\": [{\"marker\": {\"colorbar\": {\"outlinewidth\": 0, \"ticks\": \"\"}}, \"type\": \"scatterpolar\"}], \"scatterpolargl\": [{\"marker\": {\"colorbar\": {\"outlinewidth\": 0, \"ticks\": \"\"}}, \"type\": \"scatterpolargl\"}], \"scatterternary\": [{\"marker\": {\"colorbar\": {\"outlinewidth\": 0, \"ticks\": \"\"}}, \"type\": \"scatterternary\"}], \"surface\": [{\"colorbar\": {\"outlinewidth\": 0, \"ticks\": \"\"}, \"colorscale\": [[0.0, \"#0d0887\"], [0.1111111111111111, \"#46039f\"], [0.2222222222222222, \"#7201a8\"], [0.3333333333333333, \"#9c179e\"], [0.4444444444444444, \"#bd3786\"], [0.5555555555555556, \"#d8576b\"], [0.6666666666666666, \"#ed7953\"], [0.7777777777777778, \"#fb9f3a\"], [0.8888888888888888, \"#fdca26\"], [1.0, \"#f0f921\"]], \"type\": \"surface\"}], \"table\": [{\"cells\": {\"fill\": {\"color\": \"#EBF0F8\"}, \"line\": {\"color\": \"white\"}}, \"header\": {\"fill\": {\"color\": \"#C8D4E3\"}, \"line\": {\"color\": \"white\"}}, \"type\": \"table\"}]}, \"layout\": {\"annotationdefaults\": {\"arrowcolor\": \"#2a3f5f\", \"arrowhead\": 0, \"arrowwidth\": 1}, \"coloraxis\": {\"colorbar\": {\"outlinewidth\": 0, \"ticks\": \"\"}}, \"colorscale\": {\"diverging\": [[0, \"#8e0152\"], [0.1, \"#c51b7d\"], [0.2, \"#de77ae\"], [0.3, \"#f1b6da\"], [0.4, \"#fde0ef\"], [0.5, \"#f7f7f7\"], [0.6, \"#e6f5d0\"], [0.7, \"#b8e186\"], [0.8, \"#7fbc41\"], [0.9, \"#4d9221\"], [1, \"#276419\"]], \"sequential\": [[0.0, \"#0d0887\"], [0.1111111111111111, \"#46039f\"], [0.2222222222222222, \"#7201a8\"], [0.3333333333333333, \"#9c179e\"], [0.4444444444444444, \"#bd3786\"], [0.5555555555555556, \"#d8576b\"], [0.6666666666666666, \"#ed7953\"], [0.7777777777777778, \"#fb9f3a\"], [0.8888888888888888, \"#fdca26\"], [1.0, \"#f0f921\"]], \"sequentialminus\": [[0.0, \"#0d0887\"], [0.1111111111111111, \"#46039f\"], [0.2222222222222222, \"#7201a8\"], [0.3333333333333333, \"#9c179e\"], [0.4444444444444444, \"#bd3786\"], [0.5555555555555556, \"#d8576b\"], [0.6666666666666666, \"#ed7953\"], [0.7777777777777778, \"#fb9f3a\"], [0.8888888888888888, \"#fdca26\"], [1.0, \"#f0f921\"]]}, \"colorway\": [\"#636efa\", \"#EF553B\", \"#00cc96\", \"#ab63fa\", \"#FFA15A\", \"#19d3f3\", \"#FF6692\", \"#B6E880\", \"#FF97FF\", \"#FECB52\"], \"font\": {\"color\": \"#2a3f5f\"}, \"geo\": {\"bgcolor\": \"white\", \"lakecolor\": \"white\", \"landcolor\": \"#E5ECF6\", \"showlakes\": true, \"showland\": true, \"subunitcolor\": \"white\"}, \"hoverlabel\": {\"align\": \"left\"}, \"hovermode\": \"closest\", \"mapbox\": {\"style\": \"light\"}, \"paper_bgcolor\": \"white\", \"plot_bgcolor\": \"#E5ECF6\", \"polar\": {\"angularaxis\": {\"gridcolor\": \"white\", \"linecolor\": \"white\", \"ticks\": \"\"}, \"bgcolor\": \"#E5ECF6\", \"radialaxis\": {\"gridcolor\": \"white\", \"linecolor\": \"white\", \"ticks\": \"\"}}, \"scene\": {\"xaxis\": {\"backgroundcolor\": \"#E5ECF6\", \"gridcolor\": \"white\", \"gridwidth\": 2, \"linecolor\": \"white\", \"showbackground\": true, \"ticks\": \"\", \"zerolinecolor\": \"white\"}, \"yaxis\": {\"backgroundcolor\": \"#E5ECF6\", \"gridcolor\": \"white\", \"gridwidth\": 2, \"linecolor\": \"white\", \"showbackground\": true, \"ticks\": \"\", \"zerolinecolor\": \"white\"}, \"zaxis\": {\"backgroundcolor\": \"#E5ECF6\", \"gridcolor\": \"white\", \"gridwidth\": 2, \"linecolor\": \"white\", \"showbackground\": true, \"ticks\": \"\", \"zerolinecolor\": \"white\"}}, \"shapedefaults\": {\"line\": {\"color\": \"#2a3f5f\"}}, \"ternary\": {\"aaxis\": {\"gridcolor\": \"white\", \"linecolor\": \"white\", \"ticks\": \"\"}, \"baxis\": {\"gridcolor\": \"white\", \"linecolor\": \"white\", \"ticks\": \"\"}, \"bgcolor\": \"#E5ECF6\", \"caxis\": {\"gridcolor\": \"white\", \"linecolor\": \"white\", \"ticks\": \"\"}}, \"title\": {\"x\": 0.05}, \"xaxis\": {\"automargin\": true, \"gridcolor\": \"white\", \"linecolor\": \"white\", \"ticks\": \"\", \"title\": {\"standoff\": 15}, \"zerolinecolor\": \"white\", \"zerolinewidth\": 2}, \"yaxis\": {\"automargin\": true, \"gridcolor\": \"white\", \"linecolor\": \"white\", \"ticks\": \"\", \"title\": {\"standoff\": 15}, \"zerolinecolor\": \"white\", \"zerolinewidth\": 2}}}, \"xaxis\": {\"anchor\": \"y\", \"domain\": [0.0, 1.0], \"title\": {\"text\": \"x\"}}, \"yaxis\": {\"anchor\": \"x\", \"domain\": [0.0, 1.0], \"title\": {\"text\": \"y\"}}},\n",
       "                        {\"responsive\": true}\n",
       "                    ).then(function(){\n",
       "                            \n",
       "var gd = document.getElementById('d4c70c80-2ba9-435a-b804-bda109ec48b8');\n",
       "var x = new MutationObserver(function (mutations, observer) {{\n",
       "        var display = window.getComputedStyle(gd).display;\n",
       "        if (!display || display === 'none') {{\n",
       "            console.log([gd, 'removed!']);\n",
       "            Plotly.purge(gd);\n",
       "            observer.disconnect();\n",
       "        }}\n",
       "}});\n",
       "\n",
       "// Listen for the removal of the full notebook cells\n",
       "var notebookContainer = gd.closest('#notebook-container');\n",
       "if (notebookContainer) {{\n",
       "    x.observe(notebookContainer, {childList: true});\n",
       "}}\n",
       "\n",
       "// Listen for the clearing of the current output cell\n",
       "var outputEl = gd.closest('.output');\n",
       "if (outputEl) {{\n",
       "    x.observe(outputEl, {childList: true});\n",
       "}}\n",
       "\n",
       "                        })\n",
       "                };\n",
       "                });\n",
       "            </script>\n",
       "        </div>"
      ]
     },
     "metadata": {
      "tags": []
     },
     "output_type": "display_data"
    }
   ],
   "source": [
    "dm = bat.groupby('dismissal_mode')\n",
    "dm = dm['dismissal_mode'].count()\n",
    "\n",
    "print(dm)\n",
    "px.bar(x = dm.index,y = dm)"
   ]
  },
  {
   "cell_type": "markdown",
   "metadata": {
    "colab_type": "text",
    "id": "i_-gvAvBGuc0"
   },
   "source": [
    "### **Question 8**\n",
    "* Create a dataframe at a player level. Calculate below mentioned metrics :\n",
    "  * #50s\n",
    "  * #100s\n",
    "  * #4s\n",
    "  * #6s\n",
    "  * Average\n",
    "* Assign below points to the players based on the above metrics and calculate the total points earned : \n",
    "  * 1 half century = **5 points**\n",
    "  * 1 century = **10 points**\n",
    "  * 1 four = **2 point**\n",
    "  * 1 six = **4 points**\n",
    "  * Average > 30 = **20 points**\n",
    "  * Average < 30 = **10 points**\n",
    "\n",
    "* Rank the players based on total points earned. Now list down the top 10 batsmen overall across all IPL seasons\n",
    "------------------\n"
   ]
  },
  {
   "cell_type": "code",
   "execution_count": null,
   "metadata": {
    "colab": {},
    "colab_type": "code",
    "id": "QoMd7Y0MH8wr"
   },
   "outputs": [],
   "source": [
    "# write your code here. Feel free to add multiple cells as per your need\n",
    "\n",
    "batsman = pd.DataFrame([\"batsman\",\"#50s\",\"#100s\",\"#4s\",\"#6s\",\"Average\"])"
   ]
  },
  {
   "cell_type": "code",
   "execution_count": null,
   "metadata": {
    "colab": {},
    "colab_type": "code",
    "id": "kfq5Uv7qc0Kr"
   },
   "outputs": [],
   "source": [
    "fifs = defaultdict(lambda :0)\n",
    "cents = defaultdict(lambda :0)\n",
    "fours = defaultdict(lambda :0)\n",
    "sixes = defaultdict(lambda :0)\n",
    "runs = defaultdict(lambda :0)\n",
    "outs = defaultdict(lambda :0)\n",
    "\n",
    "\n",
    "for i,batsman in bat.iterrows():\n",
    "    fifs[batsman[\"batsmen\"]] += (1 if (batsman[\"R\"] >= 50 and batsman[\"R\"] < 100) else 0)\n",
    "    cents[batsman[\"batsmen\"]] += (1 if (batsman[\"R\"] >= 100) else 0)\n",
    "    fours[batsman[\"batsmen\"]] += batsman[\"fours\"]\n",
    "    sixes[batsman[\"batsmen\"]] += batsman[\"sixes\"]\n",
    "    \n",
    "    runs[batsman[\"batsmen\"]] += batsman[\"R\"]\n",
    "    outs[batsman[\"batsmen\"]] += (1 if batsman[\"dismissal_mode\"] != \"not out\" else 0)\n",
    "                                  "
   ]
  },
  {
   "cell_type": "markdown",
   "metadata": {
    "colab_type": "text",
    "id": "wWv68cKDc0Kx"
   },
   "source": [
    "#### Average Calculation :\n",
    "\n",
    "If Total Outs != 0\n",
    "\n",
    "    avg = Total Runs Scored/Total Outs\n",
    "Else\n",
    "\n",
    "    avg = Total Runs"
   ]
  },
  {
   "cell_type": "code",
   "execution_count": null,
   "metadata": {
    "colab": {},
    "colab_type": "code",
    "id": "LoBMnrwNc0Kx"
   },
   "outputs": [],
   "source": [
    "batsman = pd.DataFrame(columns = [\"batsman\",\"#50s\",\"#100s\",\"#4s\",\"#6s\",\"Average\"])\n",
    "\n",
    "\n",
    "for k,v in runs.items():\n",
    "    batsman.loc[len(batsman)] = [k,fifs[k],cents[k],fours[k],sixes[k],runs[k]/outs[k] if (outs[k] > 0) else runs[k]]"
   ]
  },
  {
   "cell_type": "code",
   "execution_count": null,
   "metadata": {
    "colab": {},
    "colab_type": "code",
    "id": "bcRzn1Nzc0K2",
    "outputId": "dbd0a7f4-9d07-41cc-cf98-16f8b7b0d855"
   },
   "outputs": [
    {
     "data": {
      "text/html": [
       "<div>\n",
       "<style scoped>\n",
       "    .dataframe tbody tr th:only-of-type {\n",
       "        vertical-align: middle;\n",
       "    }\n",
       "\n",
       "    .dataframe tbody tr th {\n",
       "        vertical-align: top;\n",
       "    }\n",
       "\n",
       "    .dataframe thead th {\n",
       "        text-align: right;\n",
       "    }\n",
       "</style>\n",
       "<table border=\"1\" class=\"dataframe\">\n",
       "  <thead>\n",
       "    <tr style=\"text-align: right;\">\n",
       "      <th></th>\n",
       "      <th>batsman</th>\n",
       "      <th>#50s</th>\n",
       "      <th>#100s</th>\n",
       "      <th>#4s</th>\n",
       "      <th>#6s</th>\n",
       "      <th>Average</th>\n",
       "    </tr>\n",
       "  </thead>\n",
       "  <tbody>\n",
       "    <tr>\n",
       "      <th>0</th>\n",
       "      <td>ST Jayasuriya</td>\n",
       "      <td>4</td>\n",
       "      <td>1</td>\n",
       "      <td>84</td>\n",
       "      <td>39</td>\n",
       "      <td>27.428571</td>\n",
       "    </tr>\n",
       "    <tr>\n",
       "      <th>1</th>\n",
       "      <td>SR Tendulkar</td>\n",
       "      <td>13</td>\n",
       "      <td>1</td>\n",
       "      <td>295</td>\n",
       "      <td>29</td>\n",
       "      <td>33.826087</td>\n",
       "    </tr>\n",
       "    <tr>\n",
       "      <th>2</th>\n",
       "      <td>S Dhawan</td>\n",
       "      <td>37</td>\n",
       "      <td>0</td>\n",
       "      <td>524</td>\n",
       "      <td>96</td>\n",
       "      <td>33.181159</td>\n",
       "    </tr>\n",
       "    <tr>\n",
       "      <th>3</th>\n",
       "      <td>JP Duminy</td>\n",
       "      <td>14</td>\n",
       "      <td>0</td>\n",
       "      <td>126</td>\n",
       "      <td>79</td>\n",
       "      <td>39.784314</td>\n",
       "    </tr>\n",
       "    <tr>\n",
       "      <th>4</th>\n",
       "      <td>DJ Bravo</td>\n",
       "      <td>5</td>\n",
       "      <td>0</td>\n",
       "      <td>117</td>\n",
       "      <td>61</td>\n",
       "      <td>23.171875</td>\n",
       "    </tr>\n",
       "  </tbody>\n",
       "</table>\n",
       "</div>"
      ],
      "text/plain": [
       "         batsman #50s #100s  #4s #6s    Average\n",
       "0  ST Jayasuriya    4     1   84  39  27.428571\n",
       "1   SR Tendulkar   13     1  295  29  33.826087\n",
       "2       S Dhawan   37     0  524  96  33.181159\n",
       "3      JP Duminy   14     0  126  79  39.784314\n",
       "4       DJ Bravo    5     0  117  61  23.171875"
      ]
     },
     "execution_count": 383,
     "metadata": {
      "tags": []
     },
     "output_type": "execute_result"
    }
   ],
   "source": [
    "batsman.head()"
   ]
  },
  {
   "cell_type": "code",
   "execution_count": null,
   "metadata": {
    "colab": {},
    "colab_type": "code",
    "id": "EBVxda1Wc0K8"
   },
   "outputs": [],
   "source": [
    "batsman[\"points\"] = batsman[\"#50s\"]*5 + batsman[\"#100s\"]*10 + batsman[\"#4s\"]*2 + batsman[\"#6s\"]*4 "
   ]
  },
  {
   "cell_type": "code",
   "execution_count": null,
   "metadata": {
    "colab": {},
    "colab_type": "code",
    "id": "jOhEHTu_c0LB"
   },
   "outputs": [],
   "source": [
    "points = []\n",
    "for i in range(len(batsman)):\n",
    "    points.append(batsman.iloc[i][\"points\"] + (20 if batsman.iloc[i][\"Average\"] > 30 else 10))\n",
    "\n",
    "final_points = pd.Series(points)\n",
    "\n",
    "batsman.drop(\"points\",inplace = True,axis = 1)\n",
    "batsman[\"points\"] = final_points\n"
   ]
  },
  {
   "cell_type": "code",
   "execution_count": null,
   "metadata": {
    "colab": {},
    "colab_type": "code",
    "id": "vhl5eaJ6c0LG",
    "outputId": "434e1935-0d9f-4b3a-e903-d6d93e46cf21"
   },
   "outputs": [
    {
     "data": {
      "text/html": [
       "<div>\n",
       "<style scoped>\n",
       "    .dataframe tbody tr th:only-of-type {\n",
       "        vertical-align: middle;\n",
       "    }\n",
       "\n",
       "    .dataframe tbody tr th {\n",
       "        vertical-align: top;\n",
       "    }\n",
       "\n",
       "    .dataframe thead th {\n",
       "        text-align: right;\n",
       "    }\n",
       "</style>\n",
       "<table border=\"1\" class=\"dataframe\">\n",
       "  <thead>\n",
       "    <tr style=\"text-align: right;\">\n",
       "      <th></th>\n",
       "      <th>batsman</th>\n",
       "      <th>#50s</th>\n",
       "      <th>#100s</th>\n",
       "      <th>#4s</th>\n",
       "      <th>#6s</th>\n",
       "      <th>Average</th>\n",
       "      <th>points</th>\n",
       "    </tr>\n",
       "  </thead>\n",
       "  <tbody>\n",
       "    <tr>\n",
       "      <th>0</th>\n",
       "      <td>ST Jayasuriya</td>\n",
       "      <td>4</td>\n",
       "      <td>1</td>\n",
       "      <td>84</td>\n",
       "      <td>39</td>\n",
       "      <td>27.428571</td>\n",
       "      <td>364</td>\n",
       "    </tr>\n",
       "    <tr>\n",
       "      <th>1</th>\n",
       "      <td>SR Tendulkar</td>\n",
       "      <td>13</td>\n",
       "      <td>1</td>\n",
       "      <td>295</td>\n",
       "      <td>29</td>\n",
       "      <td>33.826087</td>\n",
       "      <td>801</td>\n",
       "    </tr>\n",
       "    <tr>\n",
       "      <th>2</th>\n",
       "      <td>S Dhawan</td>\n",
       "      <td>37</td>\n",
       "      <td>0</td>\n",
       "      <td>524</td>\n",
       "      <td>96</td>\n",
       "      <td>33.181159</td>\n",
       "      <td>1637</td>\n",
       "    </tr>\n",
       "    <tr>\n",
       "      <th>3</th>\n",
       "      <td>JP Duminy</td>\n",
       "      <td>14</td>\n",
       "      <td>0</td>\n",
       "      <td>126</td>\n",
       "      <td>79</td>\n",
       "      <td>39.784314</td>\n",
       "      <td>658</td>\n",
       "    </tr>\n",
       "    <tr>\n",
       "      <th>4</th>\n",
       "      <td>DJ Bravo</td>\n",
       "      <td>5</td>\n",
       "      <td>0</td>\n",
       "      <td>117</td>\n",
       "      <td>61</td>\n",
       "      <td>23.171875</td>\n",
       "      <td>513</td>\n",
       "    </tr>\n",
       "  </tbody>\n",
       "</table>\n",
       "</div>"
      ],
      "text/plain": [
       "         batsman #50s #100s  #4s #6s    Average  points\n",
       "0  ST Jayasuriya    4     1   84  39  27.428571     364\n",
       "1   SR Tendulkar   13     1  295  29  33.826087     801\n",
       "2       S Dhawan   37     0  524  96  33.181159    1637\n",
       "3      JP Duminy   14     0  126  79  39.784314     658\n",
       "4       DJ Bravo    5     0  117  61  23.171875     513"
      ]
     },
     "execution_count": 386,
     "metadata": {
      "tags": []
     },
     "output_type": "execute_result"
    }
   ],
   "source": [
    "batsman.head()"
   ]
  },
  {
   "cell_type": "code",
   "execution_count": null,
   "metadata": {
    "colab": {},
    "colab_type": "code",
    "id": "ZAVLUaEdc0LL"
   },
   "outputs": [],
   "source": [
    "batsman = batsman.sort_values(by = \"points\",ascending=False)"
   ]
  },
  {
   "cell_type": "code",
   "execution_count": null,
   "metadata": {
    "colab": {},
    "colab_type": "code",
    "id": "3NbevH9wc0LO",
    "outputId": "fb17a9a3-5b09-4ae8-8fef-35bd70451d2d"
   },
   "outputs": [
    {
     "data": {
      "text/html": [
       "<div>\n",
       "<style scoped>\n",
       "    .dataframe tbody tr th:only-of-type {\n",
       "        vertical-align: middle;\n",
       "    }\n",
       "\n",
       "    .dataframe tbody tr th {\n",
       "        vertical-align: top;\n",
       "    }\n",
       "\n",
       "    .dataframe thead th {\n",
       "        text-align: right;\n",
       "    }\n",
       "</style>\n",
       "<table border=\"1\" class=\"dataframe\">\n",
       "  <thead>\n",
       "    <tr style=\"text-align: right;\">\n",
       "      <th></th>\n",
       "      <th>batsman</th>\n",
       "      <th>#50s</th>\n",
       "      <th>#100s</th>\n",
       "      <th>#4s</th>\n",
       "      <th>#6s</th>\n",
       "      <th>Average</th>\n",
       "      <th>points</th>\n",
       "    </tr>\n",
       "  </thead>\n",
       "  <tbody>\n",
       "    <tr>\n",
       "      <th>50</th>\n",
       "      <td>CH Gayle</td>\n",
       "      <td>28</td>\n",
       "      <td>6</td>\n",
       "      <td>368</td>\n",
       "      <td>326</td>\n",
       "      <td>41.137615</td>\n",
       "      <td>2260</td>\n",
       "    </tr>\n",
       "    <tr>\n",
       "      <th>11</th>\n",
       "      <td>SK Raina</td>\n",
       "      <td>38</td>\n",
       "      <td>1</td>\n",
       "      <td>493</td>\n",
       "      <td>194</td>\n",
       "      <td>33.341615</td>\n",
       "      <td>1982</td>\n",
       "    </tr>\n",
       "    <tr>\n",
       "      <th>23</th>\n",
       "      <td>V Kohli</td>\n",
       "      <td>36</td>\n",
       "      <td>5</td>\n",
       "      <td>480</td>\n",
       "      <td>190</td>\n",
       "      <td>37.846154</td>\n",
       "      <td>1970</td>\n",
       "    </tr>\n",
       "    <tr>\n",
       "      <th>120</th>\n",
       "      <td>DA Warner</td>\n",
       "      <td>44</td>\n",
       "      <td>4</td>\n",
       "      <td>458</td>\n",
       "      <td>181</td>\n",
       "      <td>43.174312</td>\n",
       "      <td>1920</td>\n",
       "    </tr>\n",
       "    <tr>\n",
       "      <th>63</th>\n",
       "      <td>RG Sharma</td>\n",
       "      <td>36</td>\n",
       "      <td>1</td>\n",
       "      <td>431</td>\n",
       "      <td>194</td>\n",
       "      <td>31.600000</td>\n",
       "      <td>1848</td>\n",
       "    </tr>\n",
       "    <tr>\n",
       "      <th>73</th>\n",
       "      <td>AB de Villiers</td>\n",
       "      <td>33</td>\n",
       "      <td>3</td>\n",
       "      <td>357</td>\n",
       "      <td>212</td>\n",
       "      <td>39.954545</td>\n",
       "      <td>1777</td>\n",
       "    </tr>\n",
       "    <tr>\n",
       "      <th>2</th>\n",
       "      <td>S Dhawan</td>\n",
       "      <td>37</td>\n",
       "      <td>0</td>\n",
       "      <td>524</td>\n",
       "      <td>96</td>\n",
       "      <td>33.181159</td>\n",
       "      <td>1637</td>\n",
       "    </tr>\n",
       "    <tr>\n",
       "      <th>19</th>\n",
       "      <td>RV Uthappa</td>\n",
       "      <td>24</td>\n",
       "      <td>0</td>\n",
       "      <td>435</td>\n",
       "      <td>156</td>\n",
       "      <td>28.830065</td>\n",
       "      <td>1624</td>\n",
       "    </tr>\n",
       "    <tr>\n",
       "      <th>13</th>\n",
       "      <td>MS Dhoni</td>\n",
       "      <td>23</td>\n",
       "      <td>0</td>\n",
       "      <td>297</td>\n",
       "      <td>209</td>\n",
       "      <td>42.209524</td>\n",
       "      <td>1565</td>\n",
       "    </tr>\n",
       "    <tr>\n",
       "      <th>181</th>\n",
       "      <td>SR Watson</td>\n",
       "      <td>19</td>\n",
       "      <td>4</td>\n",
       "      <td>343</td>\n",
       "      <td>177</td>\n",
       "      <td>31.086957</td>\n",
       "      <td>1549</td>\n",
       "    </tr>\n",
       "  </tbody>\n",
       "</table>\n",
       "</div>"
      ],
      "text/plain": [
       "            batsman #50s #100s  #4s  #6s    Average  points\n",
       "50         CH Gayle   28     6  368  326  41.137615    2260\n",
       "11         SK Raina   38     1  493  194  33.341615    1982\n",
       "23          V Kohli   36     5  480  190  37.846154    1970\n",
       "120       DA Warner   44     4  458  181  43.174312    1920\n",
       "63        RG Sharma   36     1  431  194  31.600000    1848\n",
       "73   AB de Villiers   33     3  357  212  39.954545    1777\n",
       "2          S Dhawan   37     0  524   96  33.181159    1637\n",
       "19       RV Uthappa   24     0  435  156  28.830065    1624\n",
       "13         MS Dhoni   23     0  297  209  42.209524    1565\n",
       "181       SR Watson   19     4  343  177  31.086957    1549"
      ]
     },
     "execution_count": 388,
     "metadata": {
      "tags": []
     },
     "output_type": "execute_result"
    }
   ],
   "source": [
    "batsman.head(10)"
   ]
  },
  {
   "cell_type": "code",
   "execution_count": null,
   "metadata": {
    "colab": {},
    "colab_type": "code",
    "id": "7umRXDYVc0LR",
    "outputId": "aae95e20-bb7a-48db-9330-99a2bf73635b"
   },
   "outputs": [
    {
     "data": {
      "application/vnd.plotly.v1+json": {
       "config": {
        "plotlyServerURL": "https://plot.ly"
       },
       "data": [
        {
         "alignmentgroup": "True",
         "hovertemplate": "batsman=%{x}<br>points=%{y}<extra></extra>",
         "legendgroup": "",
         "marker": {
          "color": "#636efa"
         },
         "name": "",
         "offsetgroup": "",
         "orientation": "v",
         "showlegend": false,
         "textposition": "auto",
         "type": "bar",
         "x": [
          "CH Gayle",
          "SK Raina",
          "V Kohli",
          "DA Warner",
          "RG Sharma",
          "AB de Villiers",
          "S Dhawan",
          "RV Uthappa",
          "MS Dhoni",
          "SR Watson"
         ],
         "xaxis": "x",
         "y": [
          2260,
          1982,
          1970,
          1920,
          1848,
          1777,
          1637,
          1624,
          1565,
          1549
         ],
         "yaxis": "y"
        }
       ],
       "layout": {
        "barmode": "relative",
        "legend": {
         "tracegroupgap": 0
        },
        "margin": {
         "t": 60
        },
        "template": {
         "data": {
          "bar": [
           {
            "error_x": {
             "color": "#2a3f5f"
            },
            "error_y": {
             "color": "#2a3f5f"
            },
            "marker": {
             "line": {
              "color": "#E5ECF6",
              "width": 0.5
             }
            },
            "type": "bar"
           }
          ],
          "barpolar": [
           {
            "marker": {
             "line": {
              "color": "#E5ECF6",
              "width": 0.5
             }
            },
            "type": "barpolar"
           }
          ],
          "carpet": [
           {
            "aaxis": {
             "endlinecolor": "#2a3f5f",
             "gridcolor": "white",
             "linecolor": "white",
             "minorgridcolor": "white",
             "startlinecolor": "#2a3f5f"
            },
            "baxis": {
             "endlinecolor": "#2a3f5f",
             "gridcolor": "white",
             "linecolor": "white",
             "minorgridcolor": "white",
             "startlinecolor": "#2a3f5f"
            },
            "type": "carpet"
           }
          ],
          "choropleth": [
           {
            "colorbar": {
             "outlinewidth": 0,
             "ticks": ""
            },
            "type": "choropleth"
           }
          ],
          "contour": [
           {
            "colorbar": {
             "outlinewidth": 0,
             "ticks": ""
            },
            "colorscale": [
             [
              0,
              "#0d0887"
             ],
             [
              0.1111111111111111,
              "#46039f"
             ],
             [
              0.2222222222222222,
              "#7201a8"
             ],
             [
              0.3333333333333333,
              "#9c179e"
             ],
             [
              0.4444444444444444,
              "#bd3786"
             ],
             [
              0.5555555555555556,
              "#d8576b"
             ],
             [
              0.6666666666666666,
              "#ed7953"
             ],
             [
              0.7777777777777778,
              "#fb9f3a"
             ],
             [
              0.8888888888888888,
              "#fdca26"
             ],
             [
              1,
              "#f0f921"
             ]
            ],
            "type": "contour"
           }
          ],
          "contourcarpet": [
           {
            "colorbar": {
             "outlinewidth": 0,
             "ticks": ""
            },
            "type": "contourcarpet"
           }
          ],
          "heatmap": [
           {
            "colorbar": {
             "outlinewidth": 0,
             "ticks": ""
            },
            "colorscale": [
             [
              0,
              "#0d0887"
             ],
             [
              0.1111111111111111,
              "#46039f"
             ],
             [
              0.2222222222222222,
              "#7201a8"
             ],
             [
              0.3333333333333333,
              "#9c179e"
             ],
             [
              0.4444444444444444,
              "#bd3786"
             ],
             [
              0.5555555555555556,
              "#d8576b"
             ],
             [
              0.6666666666666666,
              "#ed7953"
             ],
             [
              0.7777777777777778,
              "#fb9f3a"
             ],
             [
              0.8888888888888888,
              "#fdca26"
             ],
             [
              1,
              "#f0f921"
             ]
            ],
            "type": "heatmap"
           }
          ],
          "heatmapgl": [
           {
            "colorbar": {
             "outlinewidth": 0,
             "ticks": ""
            },
            "colorscale": [
             [
              0,
              "#0d0887"
             ],
             [
              0.1111111111111111,
              "#46039f"
             ],
             [
              0.2222222222222222,
              "#7201a8"
             ],
             [
              0.3333333333333333,
              "#9c179e"
             ],
             [
              0.4444444444444444,
              "#bd3786"
             ],
             [
              0.5555555555555556,
              "#d8576b"
             ],
             [
              0.6666666666666666,
              "#ed7953"
             ],
             [
              0.7777777777777778,
              "#fb9f3a"
             ],
             [
              0.8888888888888888,
              "#fdca26"
             ],
             [
              1,
              "#f0f921"
             ]
            ],
            "type": "heatmapgl"
           }
          ],
          "histogram": [
           {
            "marker": {
             "colorbar": {
              "outlinewidth": 0,
              "ticks": ""
             }
            },
            "type": "histogram"
           }
          ],
          "histogram2d": [
           {
            "colorbar": {
             "outlinewidth": 0,
             "ticks": ""
            },
            "colorscale": [
             [
              0,
              "#0d0887"
             ],
             [
              0.1111111111111111,
              "#46039f"
             ],
             [
              0.2222222222222222,
              "#7201a8"
             ],
             [
              0.3333333333333333,
              "#9c179e"
             ],
             [
              0.4444444444444444,
              "#bd3786"
             ],
             [
              0.5555555555555556,
              "#d8576b"
             ],
             [
              0.6666666666666666,
              "#ed7953"
             ],
             [
              0.7777777777777778,
              "#fb9f3a"
             ],
             [
              0.8888888888888888,
              "#fdca26"
             ],
             [
              1,
              "#f0f921"
             ]
            ],
            "type": "histogram2d"
           }
          ],
          "histogram2dcontour": [
           {
            "colorbar": {
             "outlinewidth": 0,
             "ticks": ""
            },
            "colorscale": [
             [
              0,
              "#0d0887"
             ],
             [
              0.1111111111111111,
              "#46039f"
             ],
             [
              0.2222222222222222,
              "#7201a8"
             ],
             [
              0.3333333333333333,
              "#9c179e"
             ],
             [
              0.4444444444444444,
              "#bd3786"
             ],
             [
              0.5555555555555556,
              "#d8576b"
             ],
             [
              0.6666666666666666,
              "#ed7953"
             ],
             [
              0.7777777777777778,
              "#fb9f3a"
             ],
             [
              0.8888888888888888,
              "#fdca26"
             ],
             [
              1,
              "#f0f921"
             ]
            ],
            "type": "histogram2dcontour"
           }
          ],
          "mesh3d": [
           {
            "colorbar": {
             "outlinewidth": 0,
             "ticks": ""
            },
            "type": "mesh3d"
           }
          ],
          "parcoords": [
           {
            "line": {
             "colorbar": {
              "outlinewidth": 0,
              "ticks": ""
             }
            },
            "type": "parcoords"
           }
          ],
          "pie": [
           {
            "automargin": true,
            "type": "pie"
           }
          ],
          "scatter": [
           {
            "marker": {
             "colorbar": {
              "outlinewidth": 0,
              "ticks": ""
             }
            },
            "type": "scatter"
           }
          ],
          "scatter3d": [
           {
            "line": {
             "colorbar": {
              "outlinewidth": 0,
              "ticks": ""
             }
            },
            "marker": {
             "colorbar": {
              "outlinewidth": 0,
              "ticks": ""
             }
            },
            "type": "scatter3d"
           }
          ],
          "scattercarpet": [
           {
            "marker": {
             "colorbar": {
              "outlinewidth": 0,
              "ticks": ""
             }
            },
            "type": "scattercarpet"
           }
          ],
          "scattergeo": [
           {
            "marker": {
             "colorbar": {
              "outlinewidth": 0,
              "ticks": ""
             }
            },
            "type": "scattergeo"
           }
          ],
          "scattergl": [
           {
            "marker": {
             "colorbar": {
              "outlinewidth": 0,
              "ticks": ""
             }
            },
            "type": "scattergl"
           }
          ],
          "scattermapbox": [
           {
            "marker": {
             "colorbar": {
              "outlinewidth": 0,
              "ticks": ""
             }
            },
            "type": "scattermapbox"
           }
          ],
          "scatterpolar": [
           {
            "marker": {
             "colorbar": {
              "outlinewidth": 0,
              "ticks": ""
             }
            },
            "type": "scatterpolar"
           }
          ],
          "scatterpolargl": [
           {
            "marker": {
             "colorbar": {
              "outlinewidth": 0,
              "ticks": ""
             }
            },
            "type": "scatterpolargl"
           }
          ],
          "scatterternary": [
           {
            "marker": {
             "colorbar": {
              "outlinewidth": 0,
              "ticks": ""
             }
            },
            "type": "scatterternary"
           }
          ],
          "surface": [
           {
            "colorbar": {
             "outlinewidth": 0,
             "ticks": ""
            },
            "colorscale": [
             [
              0,
              "#0d0887"
             ],
             [
              0.1111111111111111,
              "#46039f"
             ],
             [
              0.2222222222222222,
              "#7201a8"
             ],
             [
              0.3333333333333333,
              "#9c179e"
             ],
             [
              0.4444444444444444,
              "#bd3786"
             ],
             [
              0.5555555555555556,
              "#d8576b"
             ],
             [
              0.6666666666666666,
              "#ed7953"
             ],
             [
              0.7777777777777778,
              "#fb9f3a"
             ],
             [
              0.8888888888888888,
              "#fdca26"
             ],
             [
              1,
              "#f0f921"
             ]
            ],
            "type": "surface"
           }
          ],
          "table": [
           {
            "cells": {
             "fill": {
              "color": "#EBF0F8"
             },
             "line": {
              "color": "white"
             }
            },
            "header": {
             "fill": {
              "color": "#C8D4E3"
             },
             "line": {
              "color": "white"
             }
            },
            "type": "table"
           }
          ]
         },
         "layout": {
          "annotationdefaults": {
           "arrowcolor": "#2a3f5f",
           "arrowhead": 0,
           "arrowwidth": 1
          },
          "coloraxis": {
           "colorbar": {
            "outlinewidth": 0,
            "ticks": ""
           }
          },
          "colorscale": {
           "diverging": [
            [
             0,
             "#8e0152"
            ],
            [
             0.1,
             "#c51b7d"
            ],
            [
             0.2,
             "#de77ae"
            ],
            [
             0.3,
             "#f1b6da"
            ],
            [
             0.4,
             "#fde0ef"
            ],
            [
             0.5,
             "#f7f7f7"
            ],
            [
             0.6,
             "#e6f5d0"
            ],
            [
             0.7,
             "#b8e186"
            ],
            [
             0.8,
             "#7fbc41"
            ],
            [
             0.9,
             "#4d9221"
            ],
            [
             1,
             "#276419"
            ]
           ],
           "sequential": [
            [
             0,
             "#0d0887"
            ],
            [
             0.1111111111111111,
             "#46039f"
            ],
            [
             0.2222222222222222,
             "#7201a8"
            ],
            [
             0.3333333333333333,
             "#9c179e"
            ],
            [
             0.4444444444444444,
             "#bd3786"
            ],
            [
             0.5555555555555556,
             "#d8576b"
            ],
            [
             0.6666666666666666,
             "#ed7953"
            ],
            [
             0.7777777777777778,
             "#fb9f3a"
            ],
            [
             0.8888888888888888,
             "#fdca26"
            ],
            [
             1,
             "#f0f921"
            ]
           ],
           "sequentialminus": [
            [
             0,
             "#0d0887"
            ],
            [
             0.1111111111111111,
             "#46039f"
            ],
            [
             0.2222222222222222,
             "#7201a8"
            ],
            [
             0.3333333333333333,
             "#9c179e"
            ],
            [
             0.4444444444444444,
             "#bd3786"
            ],
            [
             0.5555555555555556,
             "#d8576b"
            ],
            [
             0.6666666666666666,
             "#ed7953"
            ],
            [
             0.7777777777777778,
             "#fb9f3a"
            ],
            [
             0.8888888888888888,
             "#fdca26"
            ],
            [
             1,
             "#f0f921"
            ]
           ]
          },
          "colorway": [
           "#636efa",
           "#EF553B",
           "#00cc96",
           "#ab63fa",
           "#FFA15A",
           "#19d3f3",
           "#FF6692",
           "#B6E880",
           "#FF97FF",
           "#FECB52"
          ],
          "font": {
           "color": "#2a3f5f"
          },
          "geo": {
           "bgcolor": "white",
           "lakecolor": "white",
           "landcolor": "#E5ECF6",
           "showlakes": true,
           "showland": true,
           "subunitcolor": "white"
          },
          "hoverlabel": {
           "align": "left"
          },
          "hovermode": "closest",
          "mapbox": {
           "style": "light"
          },
          "paper_bgcolor": "white",
          "plot_bgcolor": "#E5ECF6",
          "polar": {
           "angularaxis": {
            "gridcolor": "white",
            "linecolor": "white",
            "ticks": ""
           },
           "bgcolor": "#E5ECF6",
           "radialaxis": {
            "gridcolor": "white",
            "linecolor": "white",
            "ticks": ""
           }
          },
          "scene": {
           "xaxis": {
            "backgroundcolor": "#E5ECF6",
            "gridcolor": "white",
            "gridwidth": 2,
            "linecolor": "white",
            "showbackground": true,
            "ticks": "",
            "zerolinecolor": "white"
           },
           "yaxis": {
            "backgroundcolor": "#E5ECF6",
            "gridcolor": "white",
            "gridwidth": 2,
            "linecolor": "white",
            "showbackground": true,
            "ticks": "",
            "zerolinecolor": "white"
           },
           "zaxis": {
            "backgroundcolor": "#E5ECF6",
            "gridcolor": "white",
            "gridwidth": 2,
            "linecolor": "white",
            "showbackground": true,
            "ticks": "",
            "zerolinecolor": "white"
           }
          },
          "shapedefaults": {
           "line": {
            "color": "#2a3f5f"
           }
          },
          "ternary": {
           "aaxis": {
            "gridcolor": "white",
            "linecolor": "white",
            "ticks": ""
           },
           "baxis": {
            "gridcolor": "white",
            "linecolor": "white",
            "ticks": ""
           },
           "bgcolor": "#E5ECF6",
           "caxis": {
            "gridcolor": "white",
            "linecolor": "white",
            "ticks": ""
           }
          },
          "title": {
           "x": 0.05
          },
          "xaxis": {
           "automargin": true,
           "gridcolor": "white",
           "linecolor": "white",
           "ticks": "",
           "title": {
            "standoff": 15
           },
           "zerolinecolor": "white",
           "zerolinewidth": 2
          },
          "yaxis": {
           "automargin": true,
           "gridcolor": "white",
           "linecolor": "white",
           "ticks": "",
           "title": {
            "standoff": 15
           },
           "zerolinecolor": "white",
           "zerolinewidth": 2
          }
         }
        },
        "xaxis": {
         "anchor": "y",
         "domain": [
          0,
          1
         ],
         "title": {
          "text": "batsman"
         }
        },
        "yaxis": {
         "anchor": "x",
         "domain": [
          0,
          1
         ],
         "title": {
          "text": "points"
         }
        }
       }
      },
      "text/html": [
       "<div>\n",
       "        \n",
       "        \n",
       "            <div id=\"d57c6a6c-6c22-4789-a792-927be77c4511\" class=\"plotly-graph-div\" style=\"height:525px; width:100%;\"></div>\n",
       "            <script type=\"text/javascript\">\n",
       "                require([\"plotly\"], function(Plotly) {\n",
       "                    window.PLOTLYENV=window.PLOTLYENV || {};\n",
       "                    \n",
       "                if (document.getElementById(\"d57c6a6c-6c22-4789-a792-927be77c4511\")) {\n",
       "                    Plotly.newPlot(\n",
       "                        'd57c6a6c-6c22-4789-a792-927be77c4511',\n",
       "                        [{\"alignmentgroup\": \"True\", \"hovertemplate\": \"batsman=%{x}<br>points=%{y}<extra></extra>\", \"legendgroup\": \"\", \"marker\": {\"color\": \"#636efa\"}, \"name\": \"\", \"offsetgroup\": \"\", \"orientation\": \"v\", \"showlegend\": false, \"textposition\": \"auto\", \"type\": \"bar\", \"x\": [\"CH Gayle\", \"SK Raina\", \"V Kohli\", \"DA Warner\", \"RG Sharma\", \"AB de Villiers\", \"S Dhawan\", \"RV Uthappa\", \"MS Dhoni\", \"SR Watson\"], \"xaxis\": \"x\", \"y\": [2260, 1982, 1970, 1920, 1848, 1777, 1637, 1624, 1565, 1549], \"yaxis\": \"y\"}],\n",
       "                        {\"barmode\": \"relative\", \"legend\": {\"tracegroupgap\": 0}, \"margin\": {\"t\": 60}, \"template\": {\"data\": {\"bar\": [{\"error_x\": {\"color\": \"#2a3f5f\"}, \"error_y\": {\"color\": \"#2a3f5f\"}, \"marker\": {\"line\": {\"color\": \"#E5ECF6\", \"width\": 0.5}}, \"type\": \"bar\"}], \"barpolar\": [{\"marker\": {\"line\": {\"color\": \"#E5ECF6\", \"width\": 0.5}}, \"type\": \"barpolar\"}], \"carpet\": [{\"aaxis\": {\"endlinecolor\": \"#2a3f5f\", \"gridcolor\": \"white\", \"linecolor\": \"white\", \"minorgridcolor\": \"white\", \"startlinecolor\": \"#2a3f5f\"}, \"baxis\": {\"endlinecolor\": \"#2a3f5f\", \"gridcolor\": \"white\", \"linecolor\": \"white\", \"minorgridcolor\": \"white\", \"startlinecolor\": \"#2a3f5f\"}, \"type\": \"carpet\"}], \"choropleth\": [{\"colorbar\": {\"outlinewidth\": 0, \"ticks\": \"\"}, \"type\": \"choropleth\"}], \"contour\": [{\"colorbar\": {\"outlinewidth\": 0, \"ticks\": \"\"}, \"colorscale\": [[0.0, \"#0d0887\"], [0.1111111111111111, \"#46039f\"], [0.2222222222222222, \"#7201a8\"], [0.3333333333333333, \"#9c179e\"], [0.4444444444444444, \"#bd3786\"], [0.5555555555555556, \"#d8576b\"], [0.6666666666666666, \"#ed7953\"], [0.7777777777777778, \"#fb9f3a\"], [0.8888888888888888, \"#fdca26\"], [1.0, \"#f0f921\"]], \"type\": \"contour\"}], \"contourcarpet\": [{\"colorbar\": {\"outlinewidth\": 0, \"ticks\": \"\"}, \"type\": \"contourcarpet\"}], \"heatmap\": [{\"colorbar\": {\"outlinewidth\": 0, \"ticks\": \"\"}, \"colorscale\": [[0.0, \"#0d0887\"], [0.1111111111111111, \"#46039f\"], [0.2222222222222222, \"#7201a8\"], [0.3333333333333333, \"#9c179e\"], [0.4444444444444444, \"#bd3786\"], [0.5555555555555556, \"#d8576b\"], [0.6666666666666666, \"#ed7953\"], [0.7777777777777778, \"#fb9f3a\"], [0.8888888888888888, \"#fdca26\"], [1.0, \"#f0f921\"]], \"type\": \"heatmap\"}], \"heatmapgl\": [{\"colorbar\": {\"outlinewidth\": 0, \"ticks\": \"\"}, \"colorscale\": [[0.0, \"#0d0887\"], [0.1111111111111111, \"#46039f\"], [0.2222222222222222, \"#7201a8\"], [0.3333333333333333, \"#9c179e\"], [0.4444444444444444, \"#bd3786\"], [0.5555555555555556, \"#d8576b\"], [0.6666666666666666, \"#ed7953\"], [0.7777777777777778, \"#fb9f3a\"], [0.8888888888888888, \"#fdca26\"], [1.0, \"#f0f921\"]], \"type\": \"heatmapgl\"}], \"histogram\": [{\"marker\": {\"colorbar\": {\"outlinewidth\": 0, \"ticks\": \"\"}}, \"type\": \"histogram\"}], \"histogram2d\": [{\"colorbar\": {\"outlinewidth\": 0, \"ticks\": \"\"}, \"colorscale\": [[0.0, \"#0d0887\"], [0.1111111111111111, \"#46039f\"], [0.2222222222222222, \"#7201a8\"], [0.3333333333333333, \"#9c179e\"], [0.4444444444444444, \"#bd3786\"], [0.5555555555555556, \"#d8576b\"], [0.6666666666666666, \"#ed7953\"], [0.7777777777777778, \"#fb9f3a\"], [0.8888888888888888, \"#fdca26\"], [1.0, \"#f0f921\"]], \"type\": \"histogram2d\"}], \"histogram2dcontour\": [{\"colorbar\": {\"outlinewidth\": 0, \"ticks\": \"\"}, \"colorscale\": [[0.0, \"#0d0887\"], [0.1111111111111111, \"#46039f\"], [0.2222222222222222, \"#7201a8\"], [0.3333333333333333, \"#9c179e\"], [0.4444444444444444, \"#bd3786\"], [0.5555555555555556, \"#d8576b\"], [0.6666666666666666, \"#ed7953\"], [0.7777777777777778, \"#fb9f3a\"], [0.8888888888888888, \"#fdca26\"], [1.0, \"#f0f921\"]], \"type\": \"histogram2dcontour\"}], \"mesh3d\": [{\"colorbar\": {\"outlinewidth\": 0, \"ticks\": \"\"}, \"type\": \"mesh3d\"}], \"parcoords\": [{\"line\": {\"colorbar\": {\"outlinewidth\": 0, \"ticks\": \"\"}}, \"type\": \"parcoords\"}], \"pie\": [{\"automargin\": true, \"type\": \"pie\"}], \"scatter\": [{\"marker\": {\"colorbar\": {\"outlinewidth\": 0, \"ticks\": \"\"}}, \"type\": \"scatter\"}], \"scatter3d\": [{\"line\": {\"colorbar\": {\"outlinewidth\": 0, \"ticks\": \"\"}}, \"marker\": {\"colorbar\": {\"outlinewidth\": 0, \"ticks\": \"\"}}, \"type\": \"scatter3d\"}], \"scattercarpet\": [{\"marker\": {\"colorbar\": {\"outlinewidth\": 0, \"ticks\": \"\"}}, \"type\": \"scattercarpet\"}], \"scattergeo\": [{\"marker\": {\"colorbar\": {\"outlinewidth\": 0, \"ticks\": \"\"}}, \"type\": \"scattergeo\"}], \"scattergl\": [{\"marker\": {\"colorbar\": {\"outlinewidth\": 0, \"ticks\": \"\"}}, \"type\": \"scattergl\"}], \"scattermapbox\": [{\"marker\": {\"colorbar\": {\"outlinewidth\": 0, \"ticks\": \"\"}}, \"type\": \"scattermapbox\"}], \"scatterpolar\": [{\"marker\": {\"colorbar\": {\"outlinewidth\": 0, \"ticks\": \"\"}}, \"type\": \"scatterpolar\"}], \"scatterpolargl\": [{\"marker\": {\"colorbar\": {\"outlinewidth\": 0, \"ticks\": \"\"}}, \"type\": \"scatterpolargl\"}], \"scatterternary\": [{\"marker\": {\"colorbar\": {\"outlinewidth\": 0, \"ticks\": \"\"}}, \"type\": \"scatterternary\"}], \"surface\": [{\"colorbar\": {\"outlinewidth\": 0, \"ticks\": \"\"}, \"colorscale\": [[0.0, \"#0d0887\"], [0.1111111111111111, \"#46039f\"], [0.2222222222222222, \"#7201a8\"], [0.3333333333333333, \"#9c179e\"], [0.4444444444444444, \"#bd3786\"], [0.5555555555555556, \"#d8576b\"], [0.6666666666666666, \"#ed7953\"], [0.7777777777777778, \"#fb9f3a\"], [0.8888888888888888, \"#fdca26\"], [1.0, \"#f0f921\"]], \"type\": \"surface\"}], \"table\": [{\"cells\": {\"fill\": {\"color\": \"#EBF0F8\"}, \"line\": {\"color\": \"white\"}}, \"header\": {\"fill\": {\"color\": \"#C8D4E3\"}, \"line\": {\"color\": \"white\"}}, \"type\": \"table\"}]}, \"layout\": {\"annotationdefaults\": {\"arrowcolor\": \"#2a3f5f\", \"arrowhead\": 0, \"arrowwidth\": 1}, \"coloraxis\": {\"colorbar\": {\"outlinewidth\": 0, \"ticks\": \"\"}}, \"colorscale\": {\"diverging\": [[0, \"#8e0152\"], [0.1, \"#c51b7d\"], [0.2, \"#de77ae\"], [0.3, \"#f1b6da\"], [0.4, \"#fde0ef\"], [0.5, \"#f7f7f7\"], [0.6, \"#e6f5d0\"], [0.7, \"#b8e186\"], [0.8, \"#7fbc41\"], [0.9, \"#4d9221\"], [1, \"#276419\"]], \"sequential\": [[0.0, \"#0d0887\"], [0.1111111111111111, \"#46039f\"], [0.2222222222222222, \"#7201a8\"], [0.3333333333333333, \"#9c179e\"], [0.4444444444444444, \"#bd3786\"], [0.5555555555555556, \"#d8576b\"], [0.6666666666666666, \"#ed7953\"], [0.7777777777777778, \"#fb9f3a\"], [0.8888888888888888, \"#fdca26\"], [1.0, \"#f0f921\"]], \"sequentialminus\": [[0.0, \"#0d0887\"], [0.1111111111111111, \"#46039f\"], [0.2222222222222222, \"#7201a8\"], [0.3333333333333333, \"#9c179e\"], [0.4444444444444444, \"#bd3786\"], [0.5555555555555556, \"#d8576b\"], [0.6666666666666666, \"#ed7953\"], [0.7777777777777778, \"#fb9f3a\"], [0.8888888888888888, \"#fdca26\"], [1.0, \"#f0f921\"]]}, \"colorway\": [\"#636efa\", \"#EF553B\", \"#00cc96\", \"#ab63fa\", \"#FFA15A\", \"#19d3f3\", \"#FF6692\", \"#B6E880\", \"#FF97FF\", \"#FECB52\"], \"font\": {\"color\": \"#2a3f5f\"}, \"geo\": {\"bgcolor\": \"white\", \"lakecolor\": \"white\", \"landcolor\": \"#E5ECF6\", \"showlakes\": true, \"showland\": true, \"subunitcolor\": \"white\"}, \"hoverlabel\": {\"align\": \"left\"}, \"hovermode\": \"closest\", \"mapbox\": {\"style\": \"light\"}, \"paper_bgcolor\": \"white\", \"plot_bgcolor\": \"#E5ECF6\", \"polar\": {\"angularaxis\": {\"gridcolor\": \"white\", \"linecolor\": \"white\", \"ticks\": \"\"}, \"bgcolor\": \"#E5ECF6\", \"radialaxis\": {\"gridcolor\": \"white\", \"linecolor\": \"white\", \"ticks\": \"\"}}, \"scene\": {\"xaxis\": {\"backgroundcolor\": \"#E5ECF6\", \"gridcolor\": \"white\", \"gridwidth\": 2, \"linecolor\": \"white\", \"showbackground\": true, \"ticks\": \"\", \"zerolinecolor\": \"white\"}, \"yaxis\": {\"backgroundcolor\": \"#E5ECF6\", \"gridcolor\": \"white\", \"gridwidth\": 2, \"linecolor\": \"white\", \"showbackground\": true, \"ticks\": \"\", \"zerolinecolor\": \"white\"}, \"zaxis\": {\"backgroundcolor\": \"#E5ECF6\", \"gridcolor\": \"white\", \"gridwidth\": 2, \"linecolor\": \"white\", \"showbackground\": true, \"ticks\": \"\", \"zerolinecolor\": \"white\"}}, \"shapedefaults\": {\"line\": {\"color\": \"#2a3f5f\"}}, \"ternary\": {\"aaxis\": {\"gridcolor\": \"white\", \"linecolor\": \"white\", \"ticks\": \"\"}, \"baxis\": {\"gridcolor\": \"white\", \"linecolor\": \"white\", \"ticks\": \"\"}, \"bgcolor\": \"#E5ECF6\", \"caxis\": {\"gridcolor\": \"white\", \"linecolor\": \"white\", \"ticks\": \"\"}}, \"title\": {\"x\": 0.05}, \"xaxis\": {\"automargin\": true, \"gridcolor\": \"white\", \"linecolor\": \"white\", \"ticks\": \"\", \"title\": {\"standoff\": 15}, \"zerolinecolor\": \"white\", \"zerolinewidth\": 2}, \"yaxis\": {\"automargin\": true, \"gridcolor\": \"white\", \"linecolor\": \"white\", \"ticks\": \"\", \"title\": {\"standoff\": 15}, \"zerolinecolor\": \"white\", \"zerolinewidth\": 2}}}, \"xaxis\": {\"anchor\": \"y\", \"domain\": [0.0, 1.0], \"title\": {\"text\": \"batsman\"}}, \"yaxis\": {\"anchor\": \"x\", \"domain\": [0.0, 1.0], \"title\": {\"text\": \"points\"}}},\n",
       "                        {\"responsive\": true}\n",
       "                    ).then(function(){\n",
       "                            \n",
       "var gd = document.getElementById('d57c6a6c-6c22-4789-a792-927be77c4511');\n",
       "var x = new MutationObserver(function (mutations, observer) {{\n",
       "        var display = window.getComputedStyle(gd).display;\n",
       "        if (!display || display === 'none') {{\n",
       "            console.log([gd, 'removed!']);\n",
       "            Plotly.purge(gd);\n",
       "            observer.disconnect();\n",
       "        }}\n",
       "}});\n",
       "\n",
       "// Listen for the removal of the full notebook cells\n",
       "var notebookContainer = gd.closest('#notebook-container');\n",
       "if (notebookContainer) {{\n",
       "    x.observe(notebookContainer, {childList: true});\n",
       "}}\n",
       "\n",
       "// Listen for the clearing of the current output cell\n",
       "var outputEl = gd.closest('.output');\n",
       "if (outputEl) {{\n",
       "    x.observe(outputEl, {childList: true});\n",
       "}}\n",
       "\n",
       "                        })\n",
       "                };\n",
       "                });\n",
       "            </script>\n",
       "        </div>"
      ]
     },
     "metadata": {
      "tags": []
     },
     "output_type": "display_data"
    }
   ],
   "source": [
    "px.bar(batsman[:10],x = \"batsman\",y = \"points\")"
   ]
  },
  {
   "cell_type": "markdown",
   "metadata": {
    "colab_type": "text",
    "id": "x8hPQwhAKV1I"
   },
   "source": [
    "### **Question 9**\n",
    "* Look for a column called **Special_role** to denote if a player is captain or not. \n",
    "* **Filter** the dataframe based on if a player is a captain.\n",
    "* Pick all the innings by the captains (For **IPL 2017**) and plot a **box and whiskers plot** of **%run_contribution** per captain\n",
    "  * Which captain do you think has played **captain's knock** most of the times? (purely going by % contribution to scorecard for now)\n",
    "------------------\n"
   ]
  },
  {
   "cell_type": "code",
   "execution_count": 247,
   "metadata": {
    "colab": {},
    "colab_type": "code",
    "id": "f7W-XPVqc0LY"
   },
   "outputs": [
    {
     "data": {
      "text/plain": [
       "(150460, 18)"
      ]
     },
     "execution_count": 247,
     "metadata": {},
     "output_type": "execute_result"
    }
   ],
   "source": [
    "balls = pd.read_csv(\"ipl_deliveries.csv\")\n",
    "balls.shape"
   ]
  },
  {
   "cell_type": "code",
   "execution_count": 248,
   "metadata": {
    "colab": {},
    "colab_type": "code",
    "id": "dusplqFec0Ld",
    "outputId": "831bbc73-b48e-45f1-e98f-026d9f68dc2c"
   },
   "outputs": [
    {
     "data": {
      "text/html": [
       "<div>\n",
       "<style scoped>\n",
       "    .dataframe tbody tr th:only-of-type {\n",
       "        vertical-align: middle;\n",
       "    }\n",
       "\n",
       "    .dataframe tbody tr th {\n",
       "        vertical-align: top;\n",
       "    }\n",
       "\n",
       "    .dataframe thead th {\n",
       "        text-align: right;\n",
       "    }\n",
       "</style>\n",
       "<table border=\"1\" class=\"dataframe\">\n",
       "  <thead>\n",
       "    <tr style=\"text-align: right;\">\n",
       "      <th></th>\n",
       "      <th>Match_id</th>\n",
       "      <th>City</th>\n",
       "      <th>Innings</th>\n",
       "      <th>Winner</th>\n",
       "      <th>Team</th>\n",
       "      <th>Over</th>\n",
       "      <th>Delivery</th>\n",
       "      <th>Batsman</th>\n",
       "      <th>Bowler</th>\n",
       "      <th>non_striker</th>\n",
       "      <th>runs_batsman</th>\n",
       "      <th>runs_extras</th>\n",
       "      <th>extras_type</th>\n",
       "      <th>Runs_total</th>\n",
       "      <th>player_out</th>\n",
       "      <th>mode_of_dismissal</th>\n",
       "      <th>fielders_involved</th>\n",
       "      <th>file_name</th>\n",
       "    </tr>\n",
       "  </thead>\n",
       "  <tbody>\n",
       "    <tr>\n",
       "      <th>0</th>\n",
       "      <td>2016043001</td>\n",
       "      <td>Hyderabad</td>\n",
       "      <td>1</td>\n",
       "      <td>Sunrisers Hyderabad</td>\n",
       "      <td>Sunrisers Hyderabad</td>\n",
       "      <td>1</td>\n",
       "      <td>0.1</td>\n",
       "      <td>DA Warner</td>\n",
       "      <td>KW Richardson</td>\n",
       "      <td>S Dhawan</td>\n",
       "      <td>0</td>\n",
       "      <td>0</td>\n",
       "      <td>NaN</td>\n",
       "      <td>0</td>\n",
       "      <td>NaN</td>\n",
       "      <td>NaN</td>\n",
       "      <td>NaN</td>\n",
       "      <td>980953.yaml</td>\n",
       "    </tr>\n",
       "    <tr>\n",
       "      <th>1</th>\n",
       "      <td>2016043001</td>\n",
       "      <td>Hyderabad</td>\n",
       "      <td>1</td>\n",
       "      <td>Sunrisers Hyderabad</td>\n",
       "      <td>Sunrisers Hyderabad</td>\n",
       "      <td>1</td>\n",
       "      <td>0.2</td>\n",
       "      <td>DA Warner</td>\n",
       "      <td>KW Richardson</td>\n",
       "      <td>S Dhawan</td>\n",
       "      <td>4</td>\n",
       "      <td>0</td>\n",
       "      <td>NaN</td>\n",
       "      <td>4</td>\n",
       "      <td>NaN</td>\n",
       "      <td>NaN</td>\n",
       "      <td>NaN</td>\n",
       "      <td>980953.yaml</td>\n",
       "    </tr>\n",
       "    <tr>\n",
       "      <th>2</th>\n",
       "      <td>2016043001</td>\n",
       "      <td>Hyderabad</td>\n",
       "      <td>1</td>\n",
       "      <td>Sunrisers Hyderabad</td>\n",
       "      <td>Sunrisers Hyderabad</td>\n",
       "      <td>1</td>\n",
       "      <td>0.3</td>\n",
       "      <td>DA Warner</td>\n",
       "      <td>KW Richardson</td>\n",
       "      <td>S Dhawan</td>\n",
       "      <td>1</td>\n",
       "      <td>0</td>\n",
       "      <td>NaN</td>\n",
       "      <td>1</td>\n",
       "      <td>NaN</td>\n",
       "      <td>NaN</td>\n",
       "      <td>NaN</td>\n",
       "      <td>980953.yaml</td>\n",
       "    </tr>\n",
       "    <tr>\n",
       "      <th>3</th>\n",
       "      <td>2016043001</td>\n",
       "      <td>Hyderabad</td>\n",
       "      <td>1</td>\n",
       "      <td>Sunrisers Hyderabad</td>\n",
       "      <td>Sunrisers Hyderabad</td>\n",
       "      <td>1</td>\n",
       "      <td>0.4</td>\n",
       "      <td>S Dhawan</td>\n",
       "      <td>KW Richardson</td>\n",
       "      <td>DA Warner</td>\n",
       "      <td>0</td>\n",
       "      <td>0</td>\n",
       "      <td>NaN</td>\n",
       "      <td>0</td>\n",
       "      <td>NaN</td>\n",
       "      <td>NaN</td>\n",
       "      <td>NaN</td>\n",
       "      <td>980953.yaml</td>\n",
       "    </tr>\n",
       "    <tr>\n",
       "      <th>4</th>\n",
       "      <td>2016043001</td>\n",
       "      <td>Hyderabad</td>\n",
       "      <td>1</td>\n",
       "      <td>Sunrisers Hyderabad</td>\n",
       "      <td>Sunrisers Hyderabad</td>\n",
       "      <td>1</td>\n",
       "      <td>0.5</td>\n",
       "      <td>S Dhawan</td>\n",
       "      <td>KW Richardson</td>\n",
       "      <td>DA Warner</td>\n",
       "      <td>0</td>\n",
       "      <td>0</td>\n",
       "      <td>NaN</td>\n",
       "      <td>0</td>\n",
       "      <td>NaN</td>\n",
       "      <td>NaN</td>\n",
       "      <td>NaN</td>\n",
       "      <td>980953.yaml</td>\n",
       "    </tr>\n",
       "  </tbody>\n",
       "</table>\n",
       "</div>"
      ],
      "text/plain": [
       "     Match_id       City  Innings               Winner                 Team  \\\n",
       "0  2016043001  Hyderabad        1  Sunrisers Hyderabad  Sunrisers Hyderabad   \n",
       "1  2016043001  Hyderabad        1  Sunrisers Hyderabad  Sunrisers Hyderabad   \n",
       "2  2016043001  Hyderabad        1  Sunrisers Hyderabad  Sunrisers Hyderabad   \n",
       "3  2016043001  Hyderabad        1  Sunrisers Hyderabad  Sunrisers Hyderabad   \n",
       "4  2016043001  Hyderabad        1  Sunrisers Hyderabad  Sunrisers Hyderabad   \n",
       "\n",
       "   Over  Delivery    Batsman         Bowler non_striker  runs_batsman  \\\n",
       "0     1       0.1  DA Warner  KW Richardson    S Dhawan             0   \n",
       "1     1       0.2  DA Warner  KW Richardson    S Dhawan             4   \n",
       "2     1       0.3  DA Warner  KW Richardson    S Dhawan             1   \n",
       "3     1       0.4   S Dhawan  KW Richardson   DA Warner             0   \n",
       "4     1       0.5   S Dhawan  KW Richardson   DA Warner             0   \n",
       "\n",
       "   runs_extras extras_type  Runs_total player_out mode_of_dismissal  \\\n",
       "0            0         NaN           0        NaN               NaN   \n",
       "1            0         NaN           4        NaN               NaN   \n",
       "2            0         NaN           1        NaN               NaN   \n",
       "3            0         NaN           0        NaN               NaN   \n",
       "4            0         NaN           0        NaN               NaN   \n",
       "\n",
       "  fielders_involved    file_name  \n",
       "0               NaN  980953.yaml  \n",
       "1               NaN  980953.yaml  \n",
       "2               NaN  980953.yaml  \n",
       "3               NaN  980953.yaml  \n",
       "4               NaN  980953.yaml  "
      ]
     },
     "execution_count": 248,
     "metadata": {},
     "output_type": "execute_result"
    }
   ],
   "source": [
    "balls.head()"
   ]
  },
  {
   "cell_type": "code",
   "execution_count": 249,
   "metadata": {},
   "outputs": [
    {
     "data": {
      "text/html": [
       "<div>\n",
       "<style scoped>\n",
       "    .dataframe tbody tr th:only-of-type {\n",
       "        vertical-align: middle;\n",
       "    }\n",
       "\n",
       "    .dataframe tbody tr th {\n",
       "        vertical-align: top;\n",
       "    }\n",
       "\n",
       "    .dataframe thead th {\n",
       "        text-align: right;\n",
       "    }\n",
       "</style>\n",
       "<table border=\"1\" class=\"dataframe\">\n",
       "  <thead>\n",
       "    <tr style=\"text-align: right;\">\n",
       "      <th></th>\n",
       "      <th>match_no</th>\n",
       "      <th>team_1</th>\n",
       "      <th>team_2</th>\n",
       "      <th>batsmen</th>\n",
       "      <th>wicket_status</th>\n",
       "      <th>R</th>\n",
       "      <th>B</th>\n",
       "      <th>M</th>\n",
       "      <th>fours</th>\n",
       "      <th>sixes</th>\n",
       "      <th>SR</th>\n",
       "      <th>special_role</th>\n",
       "      <th>match_date</th>\n",
       "      <th>match_key</th>\n",
       "      <th>boundary_contribution</th>\n",
       "    </tr>\n",
       "  </thead>\n",
       "  <tbody>\n",
       "    <tr>\n",
       "      <th>0</th>\n",
       "      <td>1</td>\n",
       "      <td>Mumbai Indians</td>\n",
       "      <td>Chennai Super Kings</td>\n",
       "      <td>ST Jayasuriya</td>\n",
       "      <td>c Hayden b Thushara</td>\n",
       "      <td>26</td>\n",
       "      <td>20</td>\n",
       "      <td>0</td>\n",
       "      <td>5</td>\n",
       "      <td>0</td>\n",
       "      <td>130.00</td>\n",
       "      <td>normal player</td>\n",
       "      <td>18-04-2009</td>\n",
       "      <td>2009041801</td>\n",
       "      <td>76.923077</td>\n",
       "    </tr>\n",
       "    <tr>\n",
       "      <th>1</th>\n",
       "      <td>1</td>\n",
       "      <td>Mumbai Indians</td>\n",
       "      <td>Chennai Super Kings</td>\n",
       "      <td>SR Tendulkar</td>\n",
       "      <td>not out</td>\n",
       "      <td>59</td>\n",
       "      <td>49</td>\n",
       "      <td>0</td>\n",
       "      <td>7</td>\n",
       "      <td>0</td>\n",
       "      <td>120.40</td>\n",
       "      <td>captain</td>\n",
       "      <td>18-04-2009</td>\n",
       "      <td>2009041801</td>\n",
       "      <td>47.457627</td>\n",
       "    </tr>\n",
       "    <tr>\n",
       "      <th>2</th>\n",
       "      <td>1</td>\n",
       "      <td>Mumbai Indians</td>\n",
       "      <td>Chennai Super Kings</td>\n",
       "      <td>S Dhawan</td>\n",
       "      <td>c Dhoni b Gony</td>\n",
       "      <td>22</td>\n",
       "      <td>21</td>\n",
       "      <td>0</td>\n",
       "      <td>2</td>\n",
       "      <td>0</td>\n",
       "      <td>104.76</td>\n",
       "      <td>normal player</td>\n",
       "      <td>18-04-2009</td>\n",
       "      <td>2009041801</td>\n",
       "      <td>36.363636</td>\n",
       "    </tr>\n",
       "    <tr>\n",
       "      <th>3</th>\n",
       "      <td>1</td>\n",
       "      <td>Mumbai Indians</td>\n",
       "      <td>Chennai Super Kings</td>\n",
       "      <td>JP Duminy</td>\n",
       "      <td>c &amp; b Gony</td>\n",
       "      <td>9</td>\n",
       "      <td>7</td>\n",
       "      <td>0</td>\n",
       "      <td>1</td>\n",
       "      <td>0</td>\n",
       "      <td>128.57</td>\n",
       "      <td>normal player</td>\n",
       "      <td>18-04-2009</td>\n",
       "      <td>2009041801</td>\n",
       "      <td>44.444444</td>\n",
       "    </tr>\n",
       "    <tr>\n",
       "      <th>4</th>\n",
       "      <td>1</td>\n",
       "      <td>Mumbai Indians</td>\n",
       "      <td>Chennai Super Kings</td>\n",
       "      <td>DJ Bravo</td>\n",
       "      <td>c Hayden b Joginder Sharma</td>\n",
       "      <td>5</td>\n",
       "      <td>4</td>\n",
       "      <td>0</td>\n",
       "      <td>1</td>\n",
       "      <td>0</td>\n",
       "      <td>125.00</td>\n",
       "      <td>normal player</td>\n",
       "      <td>18-04-2009</td>\n",
       "      <td>2009041801</td>\n",
       "      <td>80.000000</td>\n",
       "    </tr>\n",
       "  </tbody>\n",
       "</table>\n",
       "</div>"
      ],
      "text/plain": [
       "  match_no          team_1               team_2        batsmen  \\\n",
       "0        1  Mumbai Indians  Chennai Super Kings  ST Jayasuriya   \n",
       "1        1  Mumbai Indians  Chennai Super Kings   SR Tendulkar   \n",
       "2        1  Mumbai Indians  Chennai Super Kings       S Dhawan   \n",
       "3        1  Mumbai Indians  Chennai Super Kings      JP Duminy   \n",
       "4        1  Mumbai Indians  Chennai Super Kings       DJ Bravo   \n",
       "\n",
       "                wicket_status   R   B  M  fours  sixes      SR   special_role  \\\n",
       "0         c Hayden b Thushara  26  20  0      5      0  130.00  normal player   \n",
       "1                     not out  59  49  0      7      0  120.40        captain   \n",
       "2              c Dhoni b Gony  22  21  0      2      0  104.76  normal player   \n",
       "3                  c & b Gony   9   7  0      1      0  128.57  normal player   \n",
       "4  c Hayden b Joginder Sharma   5   4  0      1      0  125.00  normal player   \n",
       "\n",
       "   match_date   match_key  boundary_contribution  \n",
       "0  18-04-2009  2009041801              76.923077  \n",
       "1  18-04-2009  2009041801              47.457627  \n",
       "2  18-04-2009  2009041801              36.363636  \n",
       "3  18-04-2009  2009041801              44.444444  \n",
       "4  18-04-2009  2009041801              80.000000  "
      ]
     },
     "execution_count": 249,
     "metadata": {},
     "output_type": "execute_result"
    }
   ],
   "source": [
    "bat.head()"
   ]
  },
  {
   "cell_type": "code",
   "execution_count": 250,
   "metadata": {},
   "outputs": [],
   "source": [
    "balls=balls[(balls['Match_id']<2018000000) & (balls['Match_id']>2017000000 )]"
   ]
  },
  {
   "cell_type": "code",
   "execution_count": 251,
   "metadata": {},
   "outputs": [
    {
     "data": {
      "text/plain": [
       "(143,)"
      ]
     },
     "execution_count": 251,
     "metadata": {},
     "output_type": "execute_result"
    }
   ],
   "source": [
    "balls.Batsman.unique().shape"
   ]
  },
  {
   "cell_type": "code",
   "execution_count": 252,
   "metadata": {},
   "outputs": [
    {
     "data": {
      "text/plain": [
       "(13862, 18)"
      ]
     },
     "execution_count": 252,
     "metadata": {},
     "output_type": "execute_result"
    }
   ],
   "source": [
    "balls.shape"
   ]
  },
  {
   "cell_type": "code",
   "execution_count": 257,
   "metadata": {},
   "outputs": [
    {
     "data": {
      "text/plain": [
       "(10,)"
      ]
     },
     "execution_count": 257,
     "metadata": {},
     "output_type": "execute_result"
    }
   ],
   "source": [
    "balls[balls['Batsman']=='V Kohli']['Match_id'].unique().shape"
   ]
  },
  {
   "cell_type": "code",
   "execution_count": 258,
   "metadata": {},
   "outputs": [],
   "source": [
    "mapping=balls[['Batsman','Team']].groupby(['Team','Batsman']).count().reset_index()"
   ]
  },
  {
   "cell_type": "code",
   "execution_count": 259,
   "metadata": {},
   "outputs": [
    {
     "data": {
      "text/html": [
       "<div>\n",
       "<style scoped>\n",
       "    .dataframe tbody tr th:only-of-type {\n",
       "        vertical-align: middle;\n",
       "    }\n",
       "\n",
       "    .dataframe tbody tr th {\n",
       "        vertical-align: top;\n",
       "    }\n",
       "\n",
       "    .dataframe thead th {\n",
       "        text-align: right;\n",
       "    }\n",
       "</style>\n",
       "<table border=\"1\" class=\"dataframe\">\n",
       "  <thead>\n",
       "    <tr style=\"text-align: right;\">\n",
       "      <th></th>\n",
       "      <th>Team</th>\n",
       "      <th>Batsman</th>\n",
       "    </tr>\n",
       "  </thead>\n",
       "  <tbody>\n",
       "    <tr>\n",
       "      <th>0</th>\n",
       "      <td>Delhi Daredevils</td>\n",
       "      <td>A Mishra</td>\n",
       "    </tr>\n",
       "    <tr>\n",
       "      <th>1</th>\n",
       "      <td>Delhi Daredevils</td>\n",
       "      <td>AD Mathews</td>\n",
       "    </tr>\n",
       "    <tr>\n",
       "      <th>2</th>\n",
       "      <td>Delhi Daredevils</td>\n",
       "      <td>AP Tare</td>\n",
       "    </tr>\n",
       "    <tr>\n",
       "      <th>3</th>\n",
       "      <td>Delhi Daredevils</td>\n",
       "      <td>AR Bawne</td>\n",
       "    </tr>\n",
       "    <tr>\n",
       "      <th>4</th>\n",
       "      <td>Delhi Daredevils</td>\n",
       "      <td>CH Morris</td>\n",
       "    </tr>\n",
       "    <tr>\n",
       "      <th>...</th>\n",
       "      <td>...</td>\n",
       "      <td>...</td>\n",
       "    </tr>\n",
       "    <tr>\n",
       "      <th>138</th>\n",
       "      <td>Sunrisers Hyderabad</td>\n",
       "      <td>Rashid Khan</td>\n",
       "    </tr>\n",
       "    <tr>\n",
       "      <th>139</th>\n",
       "      <td>Sunrisers Hyderabad</td>\n",
       "      <td>S Dhawan</td>\n",
       "    </tr>\n",
       "    <tr>\n",
       "      <th>140</th>\n",
       "      <td>Sunrisers Hyderabad</td>\n",
       "      <td>S Kaul</td>\n",
       "    </tr>\n",
       "    <tr>\n",
       "      <th>141</th>\n",
       "      <td>Sunrisers Hyderabad</td>\n",
       "      <td>V Shankar</td>\n",
       "    </tr>\n",
       "    <tr>\n",
       "      <th>142</th>\n",
       "      <td>Sunrisers Hyderabad</td>\n",
       "      <td>Yuvraj Singh</td>\n",
       "    </tr>\n",
       "  </tbody>\n",
       "</table>\n",
       "<p>143 rows × 2 columns</p>\n",
       "</div>"
      ],
      "text/plain": [
       "                    Team       Batsman\n",
       "0       Delhi Daredevils      A Mishra\n",
       "1       Delhi Daredevils    AD Mathews\n",
       "2       Delhi Daredevils       AP Tare\n",
       "3       Delhi Daredevils      AR Bawne\n",
       "4       Delhi Daredevils     CH Morris\n",
       "..                   ...           ...\n",
       "138  Sunrisers Hyderabad   Rashid Khan\n",
       "139  Sunrisers Hyderabad      S Dhawan\n",
       "140  Sunrisers Hyderabad        S Kaul\n",
       "141  Sunrisers Hyderabad     V Shankar\n",
       "142  Sunrisers Hyderabad  Yuvraj Singh\n",
       "\n",
       "[143 rows x 2 columns]"
      ]
     },
     "execution_count": 259,
     "metadata": {},
     "output_type": "execute_result"
    }
   ],
   "source": [
    "mapping"
   ]
  },
  {
   "cell_type": "code",
   "execution_count": 260,
   "metadata": {},
   "outputs": [],
   "source": [
    "A=dict()"
   ]
  },
  {
   "cell_type": "code",
   "execution_count": 261,
   "metadata": {},
   "outputs": [],
   "source": [
    "for index,row in mapping.iterrows():\n",
    "    A[row['Batsman']]=row['Team']"
   ]
  },
  {
   "cell_type": "code",
   "execution_count": 262,
   "metadata": {},
   "outputs": [
    {
     "data": {
      "text/plain": [
       "'Kolkata Knight Riders'"
      ]
     },
     "execution_count": 262,
     "metadata": {},
     "output_type": "execute_result"
    }
   ],
   "source": [
    "A['G Gambhir']"
   ]
  },
  {
   "cell_type": "code",
   "execution_count": 263,
   "metadata": {},
   "outputs": [],
   "source": [
    "b=bat[bat['match_date'].str[6:]=='2017']"
   ]
  },
  {
   "cell_type": "code",
   "execution_count": 264,
   "metadata": {},
   "outputs": [
    {
     "data": {
      "text/plain": [
       "(914, 15)"
      ]
     },
     "execution_count": 264,
     "metadata": {},
     "output_type": "execute_result"
    }
   ],
   "source": [
    "b.shape"
   ]
  },
  {
   "cell_type": "code",
   "execution_count": 265,
   "metadata": {},
   "outputs": [
    {
     "data": {
      "text/html": [
       "<div>\n",
       "<style scoped>\n",
       "    .dataframe tbody tr th:only-of-type {\n",
       "        vertical-align: middle;\n",
       "    }\n",
       "\n",
       "    .dataframe tbody tr th {\n",
       "        vertical-align: top;\n",
       "    }\n",
       "\n",
       "    .dataframe thead th {\n",
       "        text-align: right;\n",
       "    }\n",
       "</style>\n",
       "<table border=\"1\" class=\"dataframe\">\n",
       "  <thead>\n",
       "    <tr style=\"text-align: right;\">\n",
       "      <th></th>\n",
       "      <th>Team</th>\n",
       "      <th>Batsman</th>\n",
       "    </tr>\n",
       "  </thead>\n",
       "  <tbody>\n",
       "    <tr>\n",
       "      <th>0</th>\n",
       "      <td>Delhi Daredevils</td>\n",
       "      <td>A Mishra</td>\n",
       "    </tr>\n",
       "    <tr>\n",
       "      <th>1</th>\n",
       "      <td>Delhi Daredevils</td>\n",
       "      <td>AD Mathews</td>\n",
       "    </tr>\n",
       "    <tr>\n",
       "      <th>2</th>\n",
       "      <td>Delhi Daredevils</td>\n",
       "      <td>AP Tare</td>\n",
       "    </tr>\n",
       "    <tr>\n",
       "      <th>3</th>\n",
       "      <td>Delhi Daredevils</td>\n",
       "      <td>AR Bawne</td>\n",
       "    </tr>\n",
       "    <tr>\n",
       "      <th>4</th>\n",
       "      <td>Delhi Daredevils</td>\n",
       "      <td>CH Morris</td>\n",
       "    </tr>\n",
       "    <tr>\n",
       "      <th>...</th>\n",
       "      <td>...</td>\n",
       "      <td>...</td>\n",
       "    </tr>\n",
       "    <tr>\n",
       "      <th>138</th>\n",
       "      <td>Sunrisers Hyderabad</td>\n",
       "      <td>Rashid Khan</td>\n",
       "    </tr>\n",
       "    <tr>\n",
       "      <th>139</th>\n",
       "      <td>Sunrisers Hyderabad</td>\n",
       "      <td>S Dhawan</td>\n",
       "    </tr>\n",
       "    <tr>\n",
       "      <th>140</th>\n",
       "      <td>Sunrisers Hyderabad</td>\n",
       "      <td>S Kaul</td>\n",
       "    </tr>\n",
       "    <tr>\n",
       "      <th>141</th>\n",
       "      <td>Sunrisers Hyderabad</td>\n",
       "      <td>V Shankar</td>\n",
       "    </tr>\n",
       "    <tr>\n",
       "      <th>142</th>\n",
       "      <td>Sunrisers Hyderabad</td>\n",
       "      <td>Yuvraj Singh</td>\n",
       "    </tr>\n",
       "  </tbody>\n",
       "</table>\n",
       "<p>143 rows × 2 columns</p>\n",
       "</div>"
      ],
      "text/plain": [
       "                    Team       Batsman\n",
       "0       Delhi Daredevils      A Mishra\n",
       "1       Delhi Daredevils    AD Mathews\n",
       "2       Delhi Daredevils       AP Tare\n",
       "3       Delhi Daredevils      AR Bawne\n",
       "4       Delhi Daredevils     CH Morris\n",
       "..                   ...           ...\n",
       "138  Sunrisers Hyderabad   Rashid Khan\n",
       "139  Sunrisers Hyderabad      S Dhawan\n",
       "140  Sunrisers Hyderabad        S Kaul\n",
       "141  Sunrisers Hyderabad     V Shankar\n",
       "142  Sunrisers Hyderabad  Yuvraj Singh\n",
       "\n",
       "[143 rows x 2 columns]"
      ]
     },
     "execution_count": 265,
     "metadata": {},
     "output_type": "execute_result"
    }
   ],
   "source": [
    "mapping"
   ]
  },
  {
   "cell_type": "code",
   "execution_count": 266,
   "metadata": {},
   "outputs": [],
   "source": [
    "mapping.rename(columns = {'Batsman':'batsmen'}, inplace = True) "
   ]
  },
  {
   "cell_type": "code",
   "execution_count": 267,
   "metadata": {},
   "outputs": [],
   "source": [
    "s=pd.merge(b, mapping, on='batsmen')"
   ]
  },
  {
   "cell_type": "code",
   "execution_count": 268,
   "metadata": {},
   "outputs": [
    {
     "data": {
      "text/plain": [
       "(143,)"
      ]
     },
     "execution_count": 268,
     "metadata": {},
     "output_type": "execute_result"
    }
   ],
   "source": [
    "s.batsmen.unique().shape"
   ]
  },
  {
   "cell_type": "code",
   "execution_count": 269,
   "metadata": {},
   "outputs": [],
   "source": [
    "a=b.batsmen.unique()"
   ]
  },
  {
   "cell_type": "code",
   "execution_count": 270,
   "metadata": {},
   "outputs": [
    {
     "name": "stdout",
     "output_type": "stream",
     "text": [
      "A Nehra\n"
     ]
    }
   ],
   "source": [
    "for i in a:\n",
    "    if(i not in A):\n",
    "        print(i)"
   ]
  },
  {
   "cell_type": "code",
   "execution_count": 271,
   "metadata": {},
   "outputs": [
    {
     "data": {
      "text/html": [
       "<div>\n",
       "<style scoped>\n",
       "    .dataframe tbody tr th:only-of-type {\n",
       "        vertical-align: middle;\n",
       "    }\n",
       "\n",
       "    .dataframe tbody tr th {\n",
       "        vertical-align: top;\n",
       "    }\n",
       "\n",
       "    .dataframe thead th {\n",
       "        text-align: right;\n",
       "    }\n",
       "</style>\n",
       "<table border=\"1\" class=\"dataframe\">\n",
       "  <thead>\n",
       "    <tr style=\"text-align: right;\">\n",
       "      <th></th>\n",
       "      <th>match_no</th>\n",
       "      <th>team_1</th>\n",
       "      <th>team_2</th>\n",
       "      <th>batsmen</th>\n",
       "      <th>wicket_status</th>\n",
       "      <th>R</th>\n",
       "      <th>B</th>\n",
       "      <th>M</th>\n",
       "      <th>fours</th>\n",
       "      <th>sixes</th>\n",
       "      <th>SR</th>\n",
       "      <th>special_role</th>\n",
       "      <th>match_date</th>\n",
       "      <th>match_key</th>\n",
       "      <th>boundary_contribution</th>\n",
       "    </tr>\n",
       "  </thead>\n",
       "  <tbody>\n",
       "    <tr>\n",
       "      <th>7100</th>\n",
       "      <td>10th match (N)</td>\n",
       "      <td>Sunrisers Hyderabad</td>\n",
       "      <td>Mumbai Indians</td>\n",
       "      <td>A Nehra</td>\n",
       "      <td>not out</td>\n",
       "      <td>0</td>\n",
       "      <td>0</td>\n",
       "      <td>1</td>\n",
       "      <td>0</td>\n",
       "      <td>0</td>\n",
       "      <td>0.0</td>\n",
       "      <td>normal player</td>\n",
       "      <td>12-04-2017</td>\n",
       "      <td>2017041201</td>\n",
       "      <td>NaN</td>\n",
       "    </tr>\n",
       "    <tr>\n",
       "      <th>7629</th>\n",
       "      <td>44th match (D/N)</td>\n",
       "      <td>Rising Pune Supergiant</td>\n",
       "      <td>Sunrisers Hyderabad</td>\n",
       "      <td>A Nehra</td>\n",
       "      <td>not out</td>\n",
       "      <td>0</td>\n",
       "      <td>0</td>\n",
       "      <td>1</td>\n",
       "      <td>0</td>\n",
       "      <td>0</td>\n",
       "      <td>0.0</td>\n",
       "      <td>normal player</td>\n",
       "      <td>06-05-2017</td>\n",
       "      <td>2017050601</td>\n",
       "      <td>NaN</td>\n",
       "    </tr>\n",
       "  </tbody>\n",
       "</table>\n",
       "</div>"
      ],
      "text/plain": [
       "              match_no                  team_1               team_2  batsmen  \\\n",
       "7100    10th match (N)     Sunrisers Hyderabad       Mumbai Indians  A Nehra   \n",
       "7629  44th match (D/N)  Rising Pune Supergiant  Sunrisers Hyderabad  A Nehra   \n",
       "\n",
       "     wicket_status  R  B  M  fours  sixes   SR   special_role  match_date  \\\n",
       "7100       not out  0  0  1      0      0  0.0  normal player  12-04-2017   \n",
       "7629       not out  0  0  1      0      0  0.0  normal player  06-05-2017   \n",
       "\n",
       "       match_key  boundary_contribution  \n",
       "7100  2017041201                    NaN  \n",
       "7629  2017050601                    NaN  "
      ]
     },
     "execution_count": 271,
     "metadata": {},
     "output_type": "execute_result"
    }
   ],
   "source": [
    "b[b['batsmen']=='A Nehra']"
   ]
  },
  {
   "cell_type": "code",
   "execution_count": 272,
   "metadata": {},
   "outputs": [
    {
     "data": {
      "text/html": [
       "<div>\n",
       "<style scoped>\n",
       "    .dataframe tbody tr th:only-of-type {\n",
       "        vertical-align: middle;\n",
       "    }\n",
       "\n",
       "    .dataframe tbody tr th {\n",
       "        vertical-align: top;\n",
       "    }\n",
       "\n",
       "    .dataframe thead th {\n",
       "        text-align: right;\n",
       "    }\n",
       "</style>\n",
       "<table border=\"1\" class=\"dataframe\">\n",
       "  <thead>\n",
       "    <tr style=\"text-align: right;\">\n",
       "      <th></th>\n",
       "      <th>Team</th>\n",
       "      <th>R</th>\n",
       "    </tr>\n",
       "  </thead>\n",
       "  <tbody>\n",
       "    <tr>\n",
       "      <th>0</th>\n",
       "      <td>Delhi Daredevils</td>\n",
       "      <td>2131</td>\n",
       "    </tr>\n",
       "    <tr>\n",
       "      <th>1</th>\n",
       "      <td>Gujarat Lions</td>\n",
       "      <td>2309</td>\n",
       "    </tr>\n",
       "    <tr>\n",
       "      <th>2</th>\n",
       "      <td>Kings XI Punjab</td>\n",
       "      <td>2099</td>\n",
       "    </tr>\n",
       "    <tr>\n",
       "      <th>3</th>\n",
       "      <td>Kolkata Knight Riders</td>\n",
       "      <td>2354</td>\n",
       "    </tr>\n",
       "    <tr>\n",
       "      <th>4</th>\n",
       "      <td>Mumbai Indians</td>\n",
       "      <td>2622</td>\n",
       "    </tr>\n",
       "    <tr>\n",
       "      <th>5</th>\n",
       "      <td>Rising Pune Supergiant</td>\n",
       "      <td>2370</td>\n",
       "    </tr>\n",
       "    <tr>\n",
       "      <th>6</th>\n",
       "      <td>Royal Challengers Bangalore</td>\n",
       "      <td>1760</td>\n",
       "    </tr>\n",
       "    <tr>\n",
       "      <th>7</th>\n",
       "      <td>Sunrisers Hyderabad</td>\n",
       "      <td>2262</td>\n",
       "    </tr>\n",
       "  </tbody>\n",
       "</table>\n",
       "</div>"
      ],
      "text/plain": [
       "                          Team     R\n",
       "0             Delhi Daredevils  2131\n",
       "1                Gujarat Lions  2309\n",
       "2              Kings XI Punjab  2099\n",
       "3        Kolkata Knight Riders  2354\n",
       "4               Mumbai Indians  2622\n",
       "5       Rising Pune Supergiant  2370\n",
       "6  Royal Challengers Bangalore  1760\n",
       "7          Sunrisers Hyderabad  2262"
      ]
     },
     "execution_count": 272,
     "metadata": {},
     "output_type": "execute_result"
    }
   ],
   "source": [
    "tot_runs=s[['R','batsmen','Team']].groupby('Team').agg('sum').reset_index()\n",
    "tot_runs"
   ]
  },
  {
   "cell_type": "code",
   "execution_count": 273,
   "metadata": {},
   "outputs": [
    {
     "data": {
      "text/html": [
       "<div>\n",
       "<style scoped>\n",
       "    .dataframe tbody tr th:only-of-type {\n",
       "        vertical-align: middle;\n",
       "    }\n",
       "\n",
       "    .dataframe tbody tr th {\n",
       "        vertical-align: top;\n",
       "    }\n",
       "\n",
       "    .dataframe thead th {\n",
       "        text-align: right;\n",
       "    }\n",
       "</style>\n",
       "<table border=\"1\" class=\"dataframe\">\n",
       "  <thead>\n",
       "    <tr style=\"text-align: right;\">\n",
       "      <th></th>\n",
       "      <th>match_no</th>\n",
       "      <th>team_1</th>\n",
       "      <th>team_2</th>\n",
       "      <th>batsmen</th>\n",
       "      <th>wicket_status</th>\n",
       "      <th>R</th>\n",
       "      <th>B</th>\n",
       "      <th>M</th>\n",
       "      <th>fours</th>\n",
       "      <th>sixes</th>\n",
       "      <th>SR</th>\n",
       "      <th>special_role</th>\n",
       "      <th>match_date</th>\n",
       "      <th>match_key</th>\n",
       "      <th>boundary_contribution</th>\n",
       "      <th>Team</th>\n",
       "    </tr>\n",
       "  </thead>\n",
       "  <tbody>\n",
       "    <tr>\n",
       "      <th>0</th>\n",
       "      <td>1</td>\n",
       "      <td>Sunrisers Hyderabad</td>\n",
       "      <td>Royal Challengers Bangalore</td>\n",
       "      <td>DA Warner</td>\n",
       "      <td>c Mandeep Singh b Choudhary</td>\n",
       "      <td>14</td>\n",
       "      <td>8</td>\n",
       "      <td>10</td>\n",
       "      <td>2</td>\n",
       "      <td>1</td>\n",
       "      <td>175.00</td>\n",
       "      <td>captain</td>\n",
       "      <td>05-04-2017</td>\n",
       "      <td>2017040501</td>\n",
       "      <td>100.000000</td>\n",
       "      <td>Sunrisers Hyderabad</td>\n",
       "    </tr>\n",
       "    <tr>\n",
       "      <th>1</th>\n",
       "      <td>6th match (D/N)</td>\n",
       "      <td>Gujarat Lions</td>\n",
       "      <td>Sunrisers Hyderabad</td>\n",
       "      <td>DA Warner</td>\n",
       "      <td>not out</td>\n",
       "      <td>76</td>\n",
       "      <td>45</td>\n",
       "      <td>70</td>\n",
       "      <td>6</td>\n",
       "      <td>4</td>\n",
       "      <td>168.88</td>\n",
       "      <td>captain</td>\n",
       "      <td>09-04-2017</td>\n",
       "      <td>2017040901</td>\n",
       "      <td>63.157895</td>\n",
       "      <td>Sunrisers Hyderabad</td>\n",
       "    </tr>\n",
       "    <tr>\n",
       "      <th>2</th>\n",
       "      <td>10th match (N)</td>\n",
       "      <td>Sunrisers Hyderabad</td>\n",
       "      <td>Mumbai Indians</td>\n",
       "      <td>DA Warner</td>\n",
       "      <td>c †Patel b Harbhajan Singh</td>\n",
       "      <td>49</td>\n",
       "      <td>34</td>\n",
       "      <td>53</td>\n",
       "      <td>7</td>\n",
       "      <td>2</td>\n",
       "      <td>144.11</td>\n",
       "      <td>captain</td>\n",
       "      <td>12-04-2017</td>\n",
       "      <td>2017041201</td>\n",
       "      <td>81.632653</td>\n",
       "      <td>Sunrisers Hyderabad</td>\n",
       "    </tr>\n",
       "    <tr>\n",
       "      <th>3</th>\n",
       "      <td>14th match (D/N)</td>\n",
       "      <td>Kolkata Knight Riders</td>\n",
       "      <td>Sunrisers Hyderabad</td>\n",
       "      <td>DA Warner</td>\n",
       "      <td>c Woakes b Kuldeep Yadav</td>\n",
       "      <td>26</td>\n",
       "      <td>30</td>\n",
       "      <td>42</td>\n",
       "      <td>4</td>\n",
       "      <td>0</td>\n",
       "      <td>86.66</td>\n",
       "      <td>captain</td>\n",
       "      <td>15-04-2017</td>\n",
       "      <td>2017041501</td>\n",
       "      <td>61.538462</td>\n",
       "      <td>Sunrisers Hyderabad</td>\n",
       "    </tr>\n",
       "    <tr>\n",
       "      <th>4</th>\n",
       "      <td>19th match (N)</td>\n",
       "      <td>Sunrisers Hyderabad</td>\n",
       "      <td>Kings XI Punjab</td>\n",
       "      <td>DA Warner</td>\n",
       "      <td>not out</td>\n",
       "      <td>70</td>\n",
       "      <td>54</td>\n",
       "      <td>98</td>\n",
       "      <td>7</td>\n",
       "      <td>2</td>\n",
       "      <td>129.62</td>\n",
       "      <td>captain</td>\n",
       "      <td>17-04-2017</td>\n",
       "      <td>2017041702</td>\n",
       "      <td>57.142857</td>\n",
       "      <td>Sunrisers Hyderabad</td>\n",
       "    </tr>\n",
       "    <tr>\n",
       "      <th>...</th>\n",
       "      <td>...</td>\n",
       "      <td>...</td>\n",
       "      <td>...</td>\n",
       "      <td>...</td>\n",
       "      <td>...</td>\n",
       "      <td>...</td>\n",
       "      <td>...</td>\n",
       "      <td>...</td>\n",
       "      <td>...</td>\n",
       "      <td>...</td>\n",
       "      <td>...</td>\n",
       "      <td>...</td>\n",
       "      <td>...</td>\n",
       "      <td>...</td>\n",
       "      <td>...</td>\n",
       "      <td>...</td>\n",
       "    </tr>\n",
       "    <tr>\n",
       "      <th>729</th>\n",
       "      <td>34th match (D/N)</td>\n",
       "      <td>Rising Pune Supergiant</td>\n",
       "      <td>Royal Challengers Bangalore</td>\n",
       "      <td>V Kohli</td>\n",
       "      <td>c sub (MA Agarwal) b Christian</td>\n",
       "      <td>55</td>\n",
       "      <td>48</td>\n",
       "      <td>87</td>\n",
       "      <td>4</td>\n",
       "      <td>1</td>\n",
       "      <td>114.58</td>\n",
       "      <td>captain</td>\n",
       "      <td>29-04-2017</td>\n",
       "      <td>2017042901</td>\n",
       "      <td>40.000000</td>\n",
       "      <td>Royal Challengers Bangalore</td>\n",
       "    </tr>\n",
       "    <tr>\n",
       "      <th>730</th>\n",
       "      <td>38th match (D/N)</td>\n",
       "      <td>Royal Challengers Bangalore</td>\n",
       "      <td>Mumbai Indians</td>\n",
       "      <td>V Kohli</td>\n",
       "      <td>c RG Sharma b McClenaghan</td>\n",
       "      <td>20</td>\n",
       "      <td>14</td>\n",
       "      <td>24</td>\n",
       "      <td>0</td>\n",
       "      <td>2</td>\n",
       "      <td>142.85</td>\n",
       "      <td>captain</td>\n",
       "      <td>01-05-2017</td>\n",
       "      <td>2017050101</td>\n",
       "      <td>60.000000</td>\n",
       "      <td>Royal Challengers Bangalore</td>\n",
       "    </tr>\n",
       "    <tr>\n",
       "      <th>731</th>\n",
       "      <td>43rd match (N)</td>\n",
       "      <td>Kings XI Punjab</td>\n",
       "      <td>Royal Challengers Bangalore</td>\n",
       "      <td>V Kohli</td>\n",
       "      <td>b Sandeep Sharma</td>\n",
       "      <td>6</td>\n",
       "      <td>6</td>\n",
       "      <td>8</td>\n",
       "      <td>1</td>\n",
       "      <td>0</td>\n",
       "      <td>100.00</td>\n",
       "      <td>captain</td>\n",
       "      <td>05-05-2017</td>\n",
       "      <td>2017050501</td>\n",
       "      <td>66.666667</td>\n",
       "      <td>Royal Challengers Bangalore</td>\n",
       "    </tr>\n",
       "    <tr>\n",
       "      <th>732</th>\n",
       "      <td>46th match (D/N)</td>\n",
       "      <td>Royal Challengers Bangalore</td>\n",
       "      <td>Kolkata Knight Riders</td>\n",
       "      <td>V Kohli</td>\n",
       "      <td>lbw b Yadav</td>\n",
       "      <td>5</td>\n",
       "      <td>9</td>\n",
       "      <td>11</td>\n",
       "      <td>0</td>\n",
       "      <td>0</td>\n",
       "      <td>55.55</td>\n",
       "      <td>captain</td>\n",
       "      <td>07-05-2017</td>\n",
       "      <td>2017050701</td>\n",
       "      <td>0.000000</td>\n",
       "      <td>Royal Challengers Bangalore</td>\n",
       "    </tr>\n",
       "    <tr>\n",
       "      <th>733</th>\n",
       "      <td>56th match (N)</td>\n",
       "      <td>Royal Challengers Bangalore</td>\n",
       "      <td>Delhi Daredevils</td>\n",
       "      <td>V Kohli</td>\n",
       "      <td>c Nadeem b Khan</td>\n",
       "      <td>58</td>\n",
       "      <td>45</td>\n",
       "      <td>57</td>\n",
       "      <td>3</td>\n",
       "      <td>3</td>\n",
       "      <td>128.88</td>\n",
       "      <td>captain</td>\n",
       "      <td>14-05-2017</td>\n",
       "      <td>2017051402</td>\n",
       "      <td>51.724138</td>\n",
       "      <td>Royal Challengers Bangalore</td>\n",
       "    </tr>\n",
       "  </tbody>\n",
       "</table>\n",
       "<p>108 rows × 16 columns</p>\n",
       "</div>"
      ],
      "text/plain": [
       "             match_no                       team_1  \\\n",
       "0                   1          Sunrisers Hyderabad   \n",
       "1     6th match (D/N)                Gujarat Lions   \n",
       "2      10th match (N)          Sunrisers Hyderabad   \n",
       "3    14th match (D/N)        Kolkata Knight Riders   \n",
       "4      19th match (N)          Sunrisers Hyderabad   \n",
       "..                ...                          ...   \n",
       "729  34th match (D/N)       Rising Pune Supergiant   \n",
       "730  38th match (D/N)  Royal Challengers Bangalore   \n",
       "731    43rd match (N)              Kings XI Punjab   \n",
       "732  46th match (D/N)  Royal Challengers Bangalore   \n",
       "733    56th match (N)  Royal Challengers Bangalore   \n",
       "\n",
       "                          team_2    batsmen                   wicket_status  \\\n",
       "0    Royal Challengers Bangalore  DA Warner     c Mandeep Singh b Choudhary   \n",
       "1            Sunrisers Hyderabad  DA Warner                         not out   \n",
       "2                 Mumbai Indians  DA Warner      c †Patel b Harbhajan Singh   \n",
       "3            Sunrisers Hyderabad  DA Warner        c Woakes b Kuldeep Yadav   \n",
       "4                Kings XI Punjab  DA Warner                         not out   \n",
       "..                           ...        ...                             ...   \n",
       "729  Royal Challengers Bangalore    V Kohli  c sub (MA Agarwal) b Christian   \n",
       "730               Mumbai Indians    V Kohli       c RG Sharma b McClenaghan   \n",
       "731  Royal Challengers Bangalore    V Kohli                b Sandeep Sharma   \n",
       "732        Kolkata Knight Riders    V Kohli                     lbw b Yadav   \n",
       "733             Delhi Daredevils    V Kohli                 c Nadeem b Khan   \n",
       "\n",
       "      R   B   M  fours  sixes      SR special_role  match_date   match_key  \\\n",
       "0    14   8  10      2      1  175.00      captain  05-04-2017  2017040501   \n",
       "1    76  45  70      6      4  168.88      captain  09-04-2017  2017040901   \n",
       "2    49  34  53      7      2  144.11      captain  12-04-2017  2017041201   \n",
       "3    26  30  42      4      0   86.66      captain  15-04-2017  2017041501   \n",
       "4    70  54  98      7      2  129.62      captain  17-04-2017  2017041702   \n",
       "..   ..  ..  ..    ...    ...     ...          ...         ...         ...   \n",
       "729  55  48  87      4      1  114.58      captain  29-04-2017  2017042901   \n",
       "730  20  14  24      0      2  142.85      captain  01-05-2017  2017050101   \n",
       "731   6   6   8      1      0  100.00      captain  05-05-2017  2017050501   \n",
       "732   5   9  11      0      0   55.55      captain  07-05-2017  2017050701   \n",
       "733  58  45  57      3      3  128.88      captain  14-05-2017  2017051402   \n",
       "\n",
       "     boundary_contribution                         Team  \n",
       "0               100.000000          Sunrisers Hyderabad  \n",
       "1                63.157895          Sunrisers Hyderabad  \n",
       "2                81.632653          Sunrisers Hyderabad  \n",
       "3                61.538462          Sunrisers Hyderabad  \n",
       "4                57.142857          Sunrisers Hyderabad  \n",
       "..                     ...                          ...  \n",
       "729              40.000000  Royal Challengers Bangalore  \n",
       "730              60.000000  Royal Challengers Bangalore  \n",
       "731              66.666667  Royal Challengers Bangalore  \n",
       "732               0.000000  Royal Challengers Bangalore  \n",
       "733              51.724138  Royal Challengers Bangalore  \n",
       "\n",
       "[108 rows x 16 columns]"
      ]
     },
     "execution_count": 273,
     "metadata": {},
     "output_type": "execute_result"
    }
   ],
   "source": [
    "caps=s[s['special_role']=='captain']\n",
    "caps"
   ]
  },
  {
   "cell_type": "code",
   "execution_count": 274,
   "metadata": {},
   "outputs": [
    {
     "data": {
      "text/plain": [
       "(10, 16)"
      ]
     },
     "execution_count": 274,
     "metadata": {},
     "output_type": "execute_result"
    }
   ],
   "source": [
    "caps[caps['batsmen']=='V Kohli'].shape"
   ]
  },
  {
   "cell_type": "code",
   "execution_count": 275,
   "metadata": {},
   "outputs": [
    {
     "data": {
      "text/html": [
       "<div>\n",
       "<style scoped>\n",
       "    .dataframe tbody tr th:only-of-type {\n",
       "        vertical-align: middle;\n",
       "    }\n",
       "\n",
       "    .dataframe tbody tr th {\n",
       "        vertical-align: top;\n",
       "    }\n",
       "\n",
       "    .dataframe thead th {\n",
       "        text-align: right;\n",
       "    }\n",
       "</style>\n",
       "<table border=\"1\" class=\"dataframe\">\n",
       "  <thead>\n",
       "    <tr style=\"text-align: right;\">\n",
       "      <th></th>\n",
       "      <th>match_no</th>\n",
       "      <th>team_1</th>\n",
       "      <th>team_2</th>\n",
       "      <th>batsmen</th>\n",
       "      <th>wicket_status</th>\n",
       "      <th>R</th>\n",
       "      <th>B</th>\n",
       "      <th>M</th>\n",
       "      <th>fours</th>\n",
       "      <th>sixes</th>\n",
       "      <th>SR</th>\n",
       "      <th>special_role</th>\n",
       "      <th>match_date</th>\n",
       "      <th>match_key</th>\n",
       "      <th>boundary_contribution</th>\n",
       "      <th>Team</th>\n",
       "    </tr>\n",
       "  </thead>\n",
       "  <tbody>\n",
       "    <tr>\n",
       "      <th>0</th>\n",
       "      <td>1</td>\n",
       "      <td>Sunrisers Hyderabad</td>\n",
       "      <td>Royal Challengers Bangalore</td>\n",
       "      <td>DA Warner</td>\n",
       "      <td>c Mandeep Singh b Choudhary</td>\n",
       "      <td>14</td>\n",
       "      <td>8</td>\n",
       "      <td>10</td>\n",
       "      <td>2</td>\n",
       "      <td>1</td>\n",
       "      <td>175.00</td>\n",
       "      <td>captain</td>\n",
       "      <td>05-04-2017</td>\n",
       "      <td>2017040501</td>\n",
       "      <td>100.000000</td>\n",
       "      <td>Sunrisers Hyderabad</td>\n",
       "    </tr>\n",
       "    <tr>\n",
       "      <th>1</th>\n",
       "      <td>6th match (D/N)</td>\n",
       "      <td>Gujarat Lions</td>\n",
       "      <td>Sunrisers Hyderabad</td>\n",
       "      <td>DA Warner</td>\n",
       "      <td>not out</td>\n",
       "      <td>76</td>\n",
       "      <td>45</td>\n",
       "      <td>70</td>\n",
       "      <td>6</td>\n",
       "      <td>4</td>\n",
       "      <td>168.88</td>\n",
       "      <td>captain</td>\n",
       "      <td>09-04-2017</td>\n",
       "      <td>2017040901</td>\n",
       "      <td>63.157895</td>\n",
       "      <td>Sunrisers Hyderabad</td>\n",
       "    </tr>\n",
       "    <tr>\n",
       "      <th>2</th>\n",
       "      <td>10th match (N)</td>\n",
       "      <td>Sunrisers Hyderabad</td>\n",
       "      <td>Mumbai Indians</td>\n",
       "      <td>DA Warner</td>\n",
       "      <td>c †Patel b Harbhajan Singh</td>\n",
       "      <td>49</td>\n",
       "      <td>34</td>\n",
       "      <td>53</td>\n",
       "      <td>7</td>\n",
       "      <td>2</td>\n",
       "      <td>144.11</td>\n",
       "      <td>captain</td>\n",
       "      <td>12-04-2017</td>\n",
       "      <td>2017041201</td>\n",
       "      <td>81.632653</td>\n",
       "      <td>Sunrisers Hyderabad</td>\n",
       "    </tr>\n",
       "    <tr>\n",
       "      <th>3</th>\n",
       "      <td>14th match (D/N)</td>\n",
       "      <td>Kolkata Knight Riders</td>\n",
       "      <td>Sunrisers Hyderabad</td>\n",
       "      <td>DA Warner</td>\n",
       "      <td>c Woakes b Kuldeep Yadav</td>\n",
       "      <td>26</td>\n",
       "      <td>30</td>\n",
       "      <td>42</td>\n",
       "      <td>4</td>\n",
       "      <td>0</td>\n",
       "      <td>86.66</td>\n",
       "      <td>captain</td>\n",
       "      <td>15-04-2017</td>\n",
       "      <td>2017041501</td>\n",
       "      <td>61.538462</td>\n",
       "      <td>Sunrisers Hyderabad</td>\n",
       "    </tr>\n",
       "    <tr>\n",
       "      <th>4</th>\n",
       "      <td>19th match (N)</td>\n",
       "      <td>Sunrisers Hyderabad</td>\n",
       "      <td>Kings XI Punjab</td>\n",
       "      <td>DA Warner</td>\n",
       "      <td>not out</td>\n",
       "      <td>70</td>\n",
       "      <td>54</td>\n",
       "      <td>98</td>\n",
       "      <td>7</td>\n",
       "      <td>2</td>\n",
       "      <td>129.62</td>\n",
       "      <td>captain</td>\n",
       "      <td>17-04-2017</td>\n",
       "      <td>2017041702</td>\n",
       "      <td>57.142857</td>\n",
       "      <td>Sunrisers Hyderabad</td>\n",
       "    </tr>\n",
       "  </tbody>\n",
       "</table>\n",
       "</div>"
      ],
      "text/plain": [
       "           match_no                 team_1                       team_2  \\\n",
       "0                 1    Sunrisers Hyderabad  Royal Challengers Bangalore   \n",
       "1   6th match (D/N)          Gujarat Lions          Sunrisers Hyderabad   \n",
       "2    10th match (N)    Sunrisers Hyderabad               Mumbai Indians   \n",
       "3  14th match (D/N)  Kolkata Knight Riders          Sunrisers Hyderabad   \n",
       "4    19th match (N)    Sunrisers Hyderabad              Kings XI Punjab   \n",
       "\n",
       "     batsmen                wicket_status   R   B   M  fours  sixes      SR  \\\n",
       "0  DA Warner  c Mandeep Singh b Choudhary  14   8  10      2      1  175.00   \n",
       "1  DA Warner                      not out  76  45  70      6      4  168.88   \n",
       "2  DA Warner   c †Patel b Harbhajan Singh  49  34  53      7      2  144.11   \n",
       "3  DA Warner     c Woakes b Kuldeep Yadav  26  30  42      4      0   86.66   \n",
       "4  DA Warner                      not out  70  54  98      7      2  129.62   \n",
       "\n",
       "  special_role  match_date   match_key  boundary_contribution  \\\n",
       "0      captain  05-04-2017  2017040501             100.000000   \n",
       "1      captain  09-04-2017  2017040901              63.157895   \n",
       "2      captain  12-04-2017  2017041201              81.632653   \n",
       "3      captain  15-04-2017  2017041501              61.538462   \n",
       "4      captain  17-04-2017  2017041702              57.142857   \n",
       "\n",
       "                  Team  \n",
       "0  Sunrisers Hyderabad  \n",
       "1  Sunrisers Hyderabad  \n",
       "2  Sunrisers Hyderabad  \n",
       "3  Sunrisers Hyderabad  \n",
       "4  Sunrisers Hyderabad  "
      ]
     },
     "execution_count": 275,
     "metadata": {},
     "output_type": "execute_result"
    }
   ],
   "source": [
    "caps.head()"
   ]
  },
  {
   "cell_type": "code",
   "execution_count": 277,
   "metadata": {},
   "outputs": [
    {
     "data": {
      "text/html": [
       "<div>\n",
       "<style scoped>\n",
       "    .dataframe tbody tr th:only-of-type {\n",
       "        vertical-align: middle;\n",
       "    }\n",
       "\n",
       "    .dataframe tbody tr th {\n",
       "        vertical-align: top;\n",
       "    }\n",
       "\n",
       "    .dataframe thead th {\n",
       "        text-align: right;\n",
       "    }\n",
       "</style>\n",
       "<table border=\"1\" class=\"dataframe\">\n",
       "  <thead>\n",
       "    <tr style=\"text-align: right;\">\n",
       "      <th></th>\n",
       "      <th>batsmen</th>\n",
       "      <th>Team</th>\n",
       "      <th>R</th>\n",
       "    </tr>\n",
       "  </thead>\n",
       "  <tbody>\n",
       "    <tr>\n",
       "      <th>0</th>\n",
       "      <td>AM Rahane</td>\n",
       "      <td>Rising Pune Supergiant</td>\n",
       "      <td>10</td>\n",
       "    </tr>\n",
       "    <tr>\n",
       "      <th>1</th>\n",
       "      <td>DA Warner</td>\n",
       "      <td>Sunrisers Hyderabad</td>\n",
       "      <td>641</td>\n",
       "    </tr>\n",
       "    <tr>\n",
       "      <th>2</th>\n",
       "      <td>G Gambhir</td>\n",
       "      <td>Kolkata Knight Riders</td>\n",
       "      <td>498</td>\n",
       "    </tr>\n",
       "    <tr>\n",
       "      <th>3</th>\n",
       "      <td>GJ Maxwell</td>\n",
       "      <td>Kings XI Punjab</td>\n",
       "      <td>310</td>\n",
       "    </tr>\n",
       "    <tr>\n",
       "      <th>4</th>\n",
       "      <td>KK Nair</td>\n",
       "      <td>Delhi Daredevils</td>\n",
       "      <td>62</td>\n",
       "    </tr>\n",
       "    <tr>\n",
       "      <th>5</th>\n",
       "      <td>RG Sharma</td>\n",
       "      <td>Mumbai Indians</td>\n",
       "      <td>333</td>\n",
       "    </tr>\n",
       "    <tr>\n",
       "      <th>6</th>\n",
       "      <td>SK Raina</td>\n",
       "      <td>Gujarat Lions</td>\n",
       "      <td>442</td>\n",
       "    </tr>\n",
       "    <tr>\n",
       "      <th>7</th>\n",
       "      <td>SPD Smith</td>\n",
       "      <td>Rising Pune Supergiant</td>\n",
       "      <td>472</td>\n",
       "    </tr>\n",
       "    <tr>\n",
       "      <th>8</th>\n",
       "      <td>SR Watson</td>\n",
       "      <td>Royal Challengers Bangalore</td>\n",
       "      <td>47</td>\n",
       "    </tr>\n",
       "    <tr>\n",
       "      <th>9</th>\n",
       "      <td>V Kohli</td>\n",
       "      <td>Royal Challengers Bangalore</td>\n",
       "      <td>308</td>\n",
       "    </tr>\n",
       "    <tr>\n",
       "      <th>10</th>\n",
       "      <td>Z Khan</td>\n",
       "      <td>Delhi Daredevils</td>\n",
       "      <td>4</td>\n",
       "    </tr>\n",
       "  </tbody>\n",
       "</table>\n",
       "</div>"
      ],
      "text/plain": [
       "       batsmen                         Team    R\n",
       "0    AM Rahane       Rising Pune Supergiant   10\n",
       "1    DA Warner          Sunrisers Hyderabad  641\n",
       "2    G Gambhir        Kolkata Knight Riders  498\n",
       "3   GJ Maxwell              Kings XI Punjab  310\n",
       "4      KK Nair             Delhi Daredevils   62\n",
       "5    RG Sharma               Mumbai Indians  333\n",
       "6     SK Raina                Gujarat Lions  442\n",
       "7    SPD Smith       Rising Pune Supergiant  472\n",
       "8    SR Watson  Royal Challengers Bangalore   47\n",
       "9      V Kohli  Royal Challengers Bangalore  308\n",
       "10      Z Khan             Delhi Daredevils    4"
      ]
     },
     "execution_count": 277,
     "metadata": {},
     "output_type": "execute_result"
    }
   ],
   "source": [
    "cap_runs=caps[['R','batsmen','Team']].groupby(['batsmen','Team'\"\"]).agg('sum').reset_index()\n",
    "cap_runs"
   ]
  },
  {
   "cell_type": "code",
   "execution_count": 182,
   "metadata": {},
   "outputs": [
    {
     "data": {
      "text/html": [
       "<div>\n",
       "<style scoped>\n",
       "    .dataframe tbody tr th:only-of-type {\n",
       "        vertical-align: middle;\n",
       "    }\n",
       "\n",
       "    .dataframe tbody tr th {\n",
       "        vertical-align: top;\n",
       "    }\n",
       "\n",
       "    .dataframe thead th {\n",
       "        text-align: right;\n",
       "    }\n",
       "</style>\n",
       "<table border=\"1\" class=\"dataframe\">\n",
       "  <thead>\n",
       "    <tr style=\"text-align: right;\">\n",
       "      <th></th>\n",
       "      <th>batsmen</th>\n",
       "      <th>Team</th>\n",
       "      <th>R_x</th>\n",
       "      <th>R_y</th>\n",
       "    </tr>\n",
       "  </thead>\n",
       "  <tbody>\n",
       "    <tr>\n",
       "      <th>0</th>\n",
       "      <td>AM Rahane</td>\n",
       "      <td>Rising Pune Supergiant</td>\n",
       "      <td>10</td>\n",
       "      <td>2370</td>\n",
       "    </tr>\n",
       "    <tr>\n",
       "      <th>1</th>\n",
       "      <td>SPD Smith</td>\n",
       "      <td>Rising Pune Supergiant</td>\n",
       "      <td>472</td>\n",
       "      <td>2370</td>\n",
       "    </tr>\n",
       "    <tr>\n",
       "      <th>2</th>\n",
       "      <td>DA Warner</td>\n",
       "      <td>Sunrisers Hyderabad</td>\n",
       "      <td>641</td>\n",
       "      <td>2262</td>\n",
       "    </tr>\n",
       "    <tr>\n",
       "      <th>3</th>\n",
       "      <td>G Gambhir</td>\n",
       "      <td>Kolkata Knight Riders</td>\n",
       "      <td>498</td>\n",
       "      <td>2354</td>\n",
       "    </tr>\n",
       "    <tr>\n",
       "      <th>4</th>\n",
       "      <td>GJ Maxwell</td>\n",
       "      <td>Kings XI Punjab</td>\n",
       "      <td>310</td>\n",
       "      <td>2099</td>\n",
       "    </tr>\n",
       "    <tr>\n",
       "      <th>5</th>\n",
       "      <td>KK Nair</td>\n",
       "      <td>Delhi Daredevils</td>\n",
       "      <td>62</td>\n",
       "      <td>2131</td>\n",
       "    </tr>\n",
       "    <tr>\n",
       "      <th>6</th>\n",
       "      <td>Z Khan</td>\n",
       "      <td>Delhi Daredevils</td>\n",
       "      <td>4</td>\n",
       "      <td>2131</td>\n",
       "    </tr>\n",
       "    <tr>\n",
       "      <th>7</th>\n",
       "      <td>RG Sharma</td>\n",
       "      <td>Mumbai Indians</td>\n",
       "      <td>333</td>\n",
       "      <td>2622</td>\n",
       "    </tr>\n",
       "    <tr>\n",
       "      <th>8</th>\n",
       "      <td>SK Raina</td>\n",
       "      <td>Gujarat Lions</td>\n",
       "      <td>442</td>\n",
       "      <td>2309</td>\n",
       "    </tr>\n",
       "    <tr>\n",
       "      <th>9</th>\n",
       "      <td>SR Watson</td>\n",
       "      <td>Royal Challengers Bangalore</td>\n",
       "      <td>47</td>\n",
       "      <td>1760</td>\n",
       "    </tr>\n",
       "    <tr>\n",
       "      <th>10</th>\n",
       "      <td>V Kohli</td>\n",
       "      <td>Royal Challengers Bangalore</td>\n",
       "      <td>308</td>\n",
       "      <td>1760</td>\n",
       "    </tr>\n",
       "  </tbody>\n",
       "</table>\n",
       "</div>"
      ],
      "text/plain": [
       "       batsmen                         Team  R_x   R_y\n",
       "0    AM Rahane       Rising Pune Supergiant   10  2370\n",
       "1    SPD Smith       Rising Pune Supergiant  472  2370\n",
       "2    DA Warner          Sunrisers Hyderabad  641  2262\n",
       "3    G Gambhir        Kolkata Knight Riders  498  2354\n",
       "4   GJ Maxwell              Kings XI Punjab  310  2099\n",
       "5      KK Nair             Delhi Daredevils   62  2131\n",
       "6       Z Khan             Delhi Daredevils    4  2131\n",
       "7    RG Sharma               Mumbai Indians  333  2622\n",
       "8     SK Raina                Gujarat Lions  442  2309\n",
       "9    SR Watson  Royal Challengers Bangalore   47  1760\n",
       "10     V Kohli  Royal Challengers Bangalore  308  1760"
      ]
     },
     "execution_count": 182,
     "metadata": {},
     "output_type": "execute_result"
    }
   ],
   "source": [
    "final=pd.merge(cap_runs, tot_runs, on='Team')\n",
    "final"
   ]
  },
  {
   "cell_type": "code",
   "execution_count": 183,
   "metadata": {},
   "outputs": [
    {
     "data": {
      "text/html": [
       "<div>\n",
       "<style scoped>\n",
       "    .dataframe tbody tr th:only-of-type {\n",
       "        vertical-align: middle;\n",
       "    }\n",
       "\n",
       "    .dataframe tbody tr th {\n",
       "        vertical-align: top;\n",
       "    }\n",
       "\n",
       "    .dataframe thead th {\n",
       "        text-align: right;\n",
       "    }\n",
       "</style>\n",
       "<table border=\"1\" class=\"dataframe\">\n",
       "  <thead>\n",
       "    <tr style=\"text-align: right;\">\n",
       "      <th></th>\n",
       "      <th>batsmen</th>\n",
       "      <th>Team</th>\n",
       "      <th>R_x</th>\n",
       "      <th>R_y</th>\n",
       "      <th>perc</th>\n",
       "    </tr>\n",
       "  </thead>\n",
       "  <tbody>\n",
       "    <tr>\n",
       "      <th>2</th>\n",
       "      <td>DA Warner</td>\n",
       "      <td>Sunrisers Hyderabad</td>\n",
       "      <td>641</td>\n",
       "      <td>2262</td>\n",
       "      <td>28.337754</td>\n",
       "    </tr>\n",
       "    <tr>\n",
       "      <th>3</th>\n",
       "      <td>G Gambhir</td>\n",
       "      <td>Kolkata Knight Riders</td>\n",
       "      <td>498</td>\n",
       "      <td>2354</td>\n",
       "      <td>21.155480</td>\n",
       "    </tr>\n",
       "    <tr>\n",
       "      <th>1</th>\n",
       "      <td>SPD Smith</td>\n",
       "      <td>Rising Pune Supergiant</td>\n",
       "      <td>472</td>\n",
       "      <td>2370</td>\n",
       "      <td>19.915612</td>\n",
       "    </tr>\n",
       "    <tr>\n",
       "      <th>8</th>\n",
       "      <td>SK Raina</td>\n",
       "      <td>Gujarat Lions</td>\n",
       "      <td>442</td>\n",
       "      <td>2309</td>\n",
       "      <td>19.142486</td>\n",
       "    </tr>\n",
       "    <tr>\n",
       "      <th>10</th>\n",
       "      <td>V Kohli</td>\n",
       "      <td>Royal Challengers Bangalore</td>\n",
       "      <td>308</td>\n",
       "      <td>1760</td>\n",
       "      <td>17.500000</td>\n",
       "    </tr>\n",
       "    <tr>\n",
       "      <th>4</th>\n",
       "      <td>GJ Maxwell</td>\n",
       "      <td>Kings XI Punjab</td>\n",
       "      <td>310</td>\n",
       "      <td>2099</td>\n",
       "      <td>14.768938</td>\n",
       "    </tr>\n",
       "    <tr>\n",
       "      <th>7</th>\n",
       "      <td>RG Sharma</td>\n",
       "      <td>Mumbai Indians</td>\n",
       "      <td>333</td>\n",
       "      <td>2622</td>\n",
       "      <td>12.700229</td>\n",
       "    </tr>\n",
       "    <tr>\n",
       "      <th>5</th>\n",
       "      <td>KK Nair</td>\n",
       "      <td>Delhi Daredevils</td>\n",
       "      <td>62</td>\n",
       "      <td>2131</td>\n",
       "      <td>2.909432</td>\n",
       "    </tr>\n",
       "    <tr>\n",
       "      <th>9</th>\n",
       "      <td>SR Watson</td>\n",
       "      <td>Royal Challengers Bangalore</td>\n",
       "      <td>47</td>\n",
       "      <td>1760</td>\n",
       "      <td>2.670455</td>\n",
       "    </tr>\n",
       "    <tr>\n",
       "      <th>0</th>\n",
       "      <td>AM Rahane</td>\n",
       "      <td>Rising Pune Supergiant</td>\n",
       "      <td>10</td>\n",
       "      <td>2370</td>\n",
       "      <td>0.421941</td>\n",
       "    </tr>\n",
       "    <tr>\n",
       "      <th>6</th>\n",
       "      <td>Z Khan</td>\n",
       "      <td>Delhi Daredevils</td>\n",
       "      <td>4</td>\n",
       "      <td>2131</td>\n",
       "      <td>0.187705</td>\n",
       "    </tr>\n",
       "  </tbody>\n",
       "</table>\n",
       "</div>"
      ],
      "text/plain": [
       "       batsmen                         Team  R_x   R_y       perc\n",
       "2    DA Warner          Sunrisers Hyderabad  641  2262  28.337754\n",
       "3    G Gambhir        Kolkata Knight Riders  498  2354  21.155480\n",
       "1    SPD Smith       Rising Pune Supergiant  472  2370  19.915612\n",
       "8     SK Raina                Gujarat Lions  442  2309  19.142486\n",
       "10     V Kohli  Royal Challengers Bangalore  308  1760  17.500000\n",
       "4   GJ Maxwell              Kings XI Punjab  310  2099  14.768938\n",
       "7    RG Sharma               Mumbai Indians  333  2622  12.700229\n",
       "5      KK Nair             Delhi Daredevils   62  2131   2.909432\n",
       "9    SR Watson  Royal Challengers Bangalore   47  1760   2.670455\n",
       "0    AM Rahane       Rising Pune Supergiant   10  2370   0.421941\n",
       "6       Z Khan             Delhi Daredevils    4  2131   0.187705"
      ]
     },
     "execution_count": 183,
     "metadata": {},
     "output_type": "execute_result"
    }
   ],
   "source": [
    "final['perc']=final['R_x']*100/final['R_y']\n",
    "final.sort_values(by=['perc'],ascending=False)"
   ]
  },
  {
   "cell_type": "code",
   "execution_count": 288,
   "metadata": {},
   "outputs": [
    {
     "data": {
      "text/html": [
       "<div>\n",
       "<style scoped>\n",
       "    .dataframe tbody tr th:only-of-type {\n",
       "        vertical-align: middle;\n",
       "    }\n",
       "\n",
       "    .dataframe tbody tr th {\n",
       "        vertical-align: top;\n",
       "    }\n",
       "\n",
       "    .dataframe thead th {\n",
       "        text-align: right;\n",
       "    }\n",
       "</style>\n",
       "<table border=\"1\" class=\"dataframe\">\n",
       "  <thead>\n",
       "    <tr style=\"text-align: right;\">\n",
       "      <th></th>\n",
       "      <th>Team</th>\n",
       "      <th>match_key</th>\n",
       "      <th>R</th>\n",
       "    </tr>\n",
       "  </thead>\n",
       "  <tbody>\n",
       "    <tr>\n",
       "      <th>0</th>\n",
       "      <td>Delhi Daredevils</td>\n",
       "      <td>2017040802</td>\n",
       "      <td>137</td>\n",
       "    </tr>\n",
       "    <tr>\n",
       "      <th>1</th>\n",
       "      <td>Delhi Daredevils</td>\n",
       "      <td>2017041101</td>\n",
       "      <td>197</td>\n",
       "    </tr>\n",
       "    <tr>\n",
       "      <th>2</th>\n",
       "      <td>Delhi Daredevils</td>\n",
       "      <td>2017041502</td>\n",
       "      <td>178</td>\n",
       "    </tr>\n",
       "    <tr>\n",
       "      <th>3</th>\n",
       "      <td>Delhi Daredevils</td>\n",
       "      <td>2017041701</td>\n",
       "      <td>165</td>\n",
       "    </tr>\n",
       "    <tr>\n",
       "      <th>4</th>\n",
       "      <td>Delhi Daredevils</td>\n",
       "      <td>2017041901</td>\n",
       "      <td>169</td>\n",
       "    </tr>\n",
       "    <tr>\n",
       "      <th>...</th>\n",
       "      <td>...</td>\n",
       "      <td>...</td>\n",
       "      <td>...</td>\n",
       "    </tr>\n",
       "    <tr>\n",
       "      <th>113</th>\n",
       "      <td>Sunrisers Hyderabad</td>\n",
       "      <td>2017050201</td>\n",
       "      <td>177</td>\n",
       "    </tr>\n",
       "    <tr>\n",
       "      <th>114</th>\n",
       "      <td>Sunrisers Hyderabad</td>\n",
       "      <td>2017050601</td>\n",
       "      <td>134</td>\n",
       "    </tr>\n",
       "    <tr>\n",
       "      <th>115</th>\n",
       "      <td>Sunrisers Hyderabad</td>\n",
       "      <td>2017050801</td>\n",
       "      <td>136</td>\n",
       "    </tr>\n",
       "    <tr>\n",
       "      <th>116</th>\n",
       "      <td>Sunrisers Hyderabad</td>\n",
       "      <td>2017051301</td>\n",
       "      <td>154</td>\n",
       "    </tr>\n",
       "    <tr>\n",
       "      <th>117</th>\n",
       "      <td>Sunrisers Hyderabad</td>\n",
       "      <td>2017051701</td>\n",
       "      <td>121</td>\n",
       "    </tr>\n",
       "  </tbody>\n",
       "</table>\n",
       "<p>118 rows × 3 columns</p>\n",
       "</div>"
      ],
      "text/plain": [
       "                    Team   match_key    R\n",
       "0       Delhi Daredevils  2017040802  137\n",
       "1       Delhi Daredevils  2017041101  197\n",
       "2       Delhi Daredevils  2017041502  178\n",
       "3       Delhi Daredevils  2017041701  165\n",
       "4       Delhi Daredevils  2017041901  169\n",
       "..                   ...         ...  ...\n",
       "113  Sunrisers Hyderabad  2017050201  177\n",
       "114  Sunrisers Hyderabad  2017050601  134\n",
       "115  Sunrisers Hyderabad  2017050801  136\n",
       "116  Sunrisers Hyderabad  2017051301  154\n",
       "117  Sunrisers Hyderabad  2017051701  121\n",
       "\n",
       "[118 rows x 3 columns]"
      ]
     },
     "execution_count": 288,
     "metadata": {},
     "output_type": "execute_result"
    }
   ],
   "source": [
    "runs=s[['R','batsmen','Team','match_key']].groupby(['Team','match_key']).agg('sum').reset_index()\n",
    "runs"
   ]
  },
  {
   "cell_type": "code",
   "execution_count": 290,
   "metadata": {},
   "outputs": [
    {
     "data": {
      "text/html": [
       "<div>\n",
       "<style scoped>\n",
       "    .dataframe tbody tr th:only-of-type {\n",
       "        vertical-align: middle;\n",
       "    }\n",
       "\n",
       "    .dataframe tbody tr th {\n",
       "        vertical-align: top;\n",
       "    }\n",
       "\n",
       "    .dataframe thead th {\n",
       "        text-align: right;\n",
       "    }\n",
       "</style>\n",
       "<table border=\"1\" class=\"dataframe\">\n",
       "  <thead>\n",
       "    <tr style=\"text-align: right;\">\n",
       "      <th></th>\n",
       "      <th>Team</th>\n",
       "      <th>match_key</th>\n",
       "      <th>batsmen</th>\n",
       "      <th>R</th>\n",
       "    </tr>\n",
       "  </thead>\n",
       "  <tbody>\n",
       "    <tr>\n",
       "      <th>0</th>\n",
       "      <td>Delhi Daredevils</td>\n",
       "      <td>2017040802</td>\n",
       "      <td>Z Khan</td>\n",
       "      <td>1</td>\n",
       "    </tr>\n",
       "    <tr>\n",
       "      <th>1</th>\n",
       "      <td>Delhi Daredevils</td>\n",
       "      <td>2017043001</td>\n",
       "      <td>KK Nair</td>\n",
       "      <td>11</td>\n",
       "    </tr>\n",
       "    <tr>\n",
       "      <th>2</th>\n",
       "      <td>Delhi Daredevils</td>\n",
       "      <td>2017050201</td>\n",
       "      <td>KK Nair</td>\n",
       "      <td>39</td>\n",
       "    </tr>\n",
       "    <tr>\n",
       "      <th>3</th>\n",
       "      <td>Delhi Daredevils</td>\n",
       "      <td>2017050401</td>\n",
       "      <td>KK Nair</td>\n",
       "      <td>12</td>\n",
       "    </tr>\n",
       "    <tr>\n",
       "      <th>4</th>\n",
       "      <td>Delhi Daredevils</td>\n",
       "      <td>2017050602</td>\n",
       "      <td>Z Khan</td>\n",
       "      <td>2</td>\n",
       "    </tr>\n",
       "    <tr>\n",
       "      <th>...</th>\n",
       "      <td>...</td>\n",
       "      <td>...</td>\n",
       "      <td>...</td>\n",
       "      <td>...</td>\n",
       "    </tr>\n",
       "    <tr>\n",
       "      <th>103</th>\n",
       "      <td>Sunrisers Hyderabad</td>\n",
       "      <td>2017050201</td>\n",
       "      <td>DA Warner</td>\n",
       "      <td>30</td>\n",
       "    </tr>\n",
       "    <tr>\n",
       "      <th>104</th>\n",
       "      <td>Sunrisers Hyderabad</td>\n",
       "      <td>2017050601</td>\n",
       "      <td>DA Warner</td>\n",
       "      <td>40</td>\n",
       "    </tr>\n",
       "    <tr>\n",
       "      <th>105</th>\n",
       "      <td>Sunrisers Hyderabad</td>\n",
       "      <td>2017050801</td>\n",
       "      <td>DA Warner</td>\n",
       "      <td>6</td>\n",
       "    </tr>\n",
       "    <tr>\n",
       "      <th>106</th>\n",
       "      <td>Sunrisers Hyderabad</td>\n",
       "      <td>2017051301</td>\n",
       "      <td>DA Warner</td>\n",
       "      <td>69</td>\n",
       "    </tr>\n",
       "    <tr>\n",
       "      <th>107</th>\n",
       "      <td>Sunrisers Hyderabad</td>\n",
       "      <td>2017051701</td>\n",
       "      <td>DA Warner</td>\n",
       "      <td>37</td>\n",
       "    </tr>\n",
       "  </tbody>\n",
       "</table>\n",
       "<p>108 rows × 4 columns</p>\n",
       "</div>"
      ],
      "text/plain": [
       "                    Team   match_key    batsmen   R\n",
       "0       Delhi Daredevils  2017040802     Z Khan   1\n",
       "1       Delhi Daredevils  2017043001    KK Nair  11\n",
       "2       Delhi Daredevils  2017050201    KK Nair  39\n",
       "3       Delhi Daredevils  2017050401    KK Nair  12\n",
       "4       Delhi Daredevils  2017050602     Z Khan   2\n",
       "..                   ...         ...        ...  ..\n",
       "103  Sunrisers Hyderabad  2017050201  DA Warner  30\n",
       "104  Sunrisers Hyderabad  2017050601  DA Warner  40\n",
       "105  Sunrisers Hyderabad  2017050801  DA Warner   6\n",
       "106  Sunrisers Hyderabad  2017051301  DA Warner  69\n",
       "107  Sunrisers Hyderabad  2017051701  DA Warner  37\n",
       "\n",
       "[108 rows x 4 columns]"
      ]
     },
     "execution_count": 290,
     "metadata": {},
     "output_type": "execute_result"
    }
   ],
   "source": [
    "c_runs=caps[['R','batsmen','Team','match_key']].groupby(['Team','match_key','batsmen']).agg('sum').reset_index()\n",
    "c_runs"
   ]
  },
  {
   "cell_type": "code",
   "execution_count": 294,
   "metadata": {},
   "outputs": [
    {
     "data": {
      "text/html": [
       "<div>\n",
       "<style scoped>\n",
       "    .dataframe tbody tr th:only-of-type {\n",
       "        vertical-align: middle;\n",
       "    }\n",
       "\n",
       "    .dataframe tbody tr th {\n",
       "        vertical-align: top;\n",
       "    }\n",
       "\n",
       "    .dataframe thead th {\n",
       "        text-align: right;\n",
       "    }\n",
       "</style>\n",
       "<table border=\"1\" class=\"dataframe\">\n",
       "  <thead>\n",
       "    <tr style=\"text-align: right;\">\n",
       "      <th></th>\n",
       "      <th>Team</th>\n",
       "      <th>match_key</th>\n",
       "      <th>batsmen</th>\n",
       "      <th>R_x</th>\n",
       "      <th>R_y</th>\n",
       "      <th>perc</th>\n",
       "    </tr>\n",
       "  </thead>\n",
       "  <tbody>\n",
       "    <tr>\n",
       "      <th>0</th>\n",
       "      <td>Delhi Daredevils</td>\n",
       "      <td>2017040802</td>\n",
       "      <td>Z Khan</td>\n",
       "      <td>1</td>\n",
       "      <td>137</td>\n",
       "      <td>0.729927</td>\n",
       "    </tr>\n",
       "    <tr>\n",
       "      <th>1</th>\n",
       "      <td>Delhi Daredevils</td>\n",
       "      <td>2017043001</td>\n",
       "      <td>KK Nair</td>\n",
       "      <td>11</td>\n",
       "      <td>62</td>\n",
       "      <td>17.741935</td>\n",
       "    </tr>\n",
       "    <tr>\n",
       "      <th>2</th>\n",
       "      <td>Delhi Daredevils</td>\n",
       "      <td>2017050201</td>\n",
       "      <td>KK Nair</td>\n",
       "      <td>39</td>\n",
       "      <td>186</td>\n",
       "      <td>20.967742</td>\n",
       "    </tr>\n",
       "    <tr>\n",
       "      <th>3</th>\n",
       "      <td>Delhi Daredevils</td>\n",
       "      <td>2017050401</td>\n",
       "      <td>KK Nair</td>\n",
       "      <td>12</td>\n",
       "      <td>202</td>\n",
       "      <td>5.940594</td>\n",
       "    </tr>\n",
       "    <tr>\n",
       "      <th>4</th>\n",
       "      <td>Delhi Daredevils</td>\n",
       "      <td>2017050602</td>\n",
       "      <td>Z Khan</td>\n",
       "      <td>2</td>\n",
       "      <td>63</td>\n",
       "      <td>3.174603</td>\n",
       "    </tr>\n",
       "    <tr>\n",
       "      <th>...</th>\n",
       "      <td>...</td>\n",
       "      <td>...</td>\n",
       "      <td>...</td>\n",
       "      <td>...</td>\n",
       "      <td>...</td>\n",
       "      <td>...</td>\n",
       "    </tr>\n",
       "    <tr>\n",
       "      <th>103</th>\n",
       "      <td>Sunrisers Hyderabad</td>\n",
       "      <td>2017050201</td>\n",
       "      <td>DA Warner</td>\n",
       "      <td>30</td>\n",
       "      <td>177</td>\n",
       "      <td>16.949153</td>\n",
       "    </tr>\n",
       "    <tr>\n",
       "      <th>104</th>\n",
       "      <td>Sunrisers Hyderabad</td>\n",
       "      <td>2017050601</td>\n",
       "      <td>DA Warner</td>\n",
       "      <td>40</td>\n",
       "      <td>134</td>\n",
       "      <td>29.850746</td>\n",
       "    </tr>\n",
       "    <tr>\n",
       "      <th>105</th>\n",
       "      <td>Sunrisers Hyderabad</td>\n",
       "      <td>2017050801</td>\n",
       "      <td>DA Warner</td>\n",
       "      <td>6</td>\n",
       "      <td>136</td>\n",
       "      <td>4.411765</td>\n",
       "    </tr>\n",
       "    <tr>\n",
       "      <th>106</th>\n",
       "      <td>Sunrisers Hyderabad</td>\n",
       "      <td>2017051301</td>\n",
       "      <td>DA Warner</td>\n",
       "      <td>69</td>\n",
       "      <td>154</td>\n",
       "      <td>44.805195</td>\n",
       "    </tr>\n",
       "    <tr>\n",
       "      <th>107</th>\n",
       "      <td>Sunrisers Hyderabad</td>\n",
       "      <td>2017051701</td>\n",
       "      <td>DA Warner</td>\n",
       "      <td>37</td>\n",
       "      <td>121</td>\n",
       "      <td>30.578512</td>\n",
       "    </tr>\n",
       "  </tbody>\n",
       "</table>\n",
       "<p>108 rows × 6 columns</p>\n",
       "</div>"
      ],
      "text/plain": [
       "                    Team   match_key    batsmen  R_x  R_y       perc\n",
       "0       Delhi Daredevils  2017040802     Z Khan    1  137   0.729927\n",
       "1       Delhi Daredevils  2017043001    KK Nair   11   62  17.741935\n",
       "2       Delhi Daredevils  2017050201    KK Nair   39  186  20.967742\n",
       "3       Delhi Daredevils  2017050401    KK Nair   12  202   5.940594\n",
       "4       Delhi Daredevils  2017050602     Z Khan    2   63   3.174603\n",
       "..                   ...         ...        ...  ...  ...        ...\n",
       "103  Sunrisers Hyderabad  2017050201  DA Warner   30  177  16.949153\n",
       "104  Sunrisers Hyderabad  2017050601  DA Warner   40  134  29.850746\n",
       "105  Sunrisers Hyderabad  2017050801  DA Warner    6  136   4.411765\n",
       "106  Sunrisers Hyderabad  2017051301  DA Warner   69  154  44.805195\n",
       "107  Sunrisers Hyderabad  2017051701  DA Warner   37  121  30.578512\n",
       "\n",
       "[108 rows x 6 columns]"
      ]
     },
     "execution_count": 294,
     "metadata": {},
     "output_type": "execute_result"
    }
   ],
   "source": [
    "f=pd.merge(c_runs, runs, on=['Team','match_key'])\n",
    "f['perc']=f['R_x']*100/f['R_y']\n",
    "f"
   ]
  },
  {
   "cell_type": "code",
   "execution_count": null,
   "metadata": {},
   "outputs": [],
   "source": []
  },
  {
   "cell_type": "markdown",
   "metadata": {
    "colab_type": "text",
    "id": "cW8mRjJbhFar"
   },
   "source": [
    "### **Question 10**\n",
    "* Is IPL more in favor of batsmen?\n",
    "* Let's consider two metrics **total_runs** made in per innings and the **run_rate** of the innings\n",
    "* Create a **histogram** of **total_runs** by innings. What kind of a **distribution** your discover?\n",
    "* **Repeat** the above step for **run_rate** per innings too\n",
    "* Is the distribution **left skewed** or **right skewed**?\n",
    "* Discuss your insights\n",
    "\n",
    "------------------"
   ]
  },
  {
   "cell_type": "code",
   "execution_count": 321,
   "metadata": {
    "colab": {},
    "colab_type": "code",
    "id": "dnr1m1yRc0MF",
    "outputId": "8362ecb2-4e44-4ec2-ebe6-267b8d8706ad",
    "scrolled": true
   },
   "outputs": [
    {
     "data": {
      "text/html": [
       "<div>\n",
       "<style scoped>\n",
       "    .dataframe tbody tr th:only-of-type {\n",
       "        vertical-align: middle;\n",
       "    }\n",
       "\n",
       "    .dataframe tbody tr th {\n",
       "        vertical-align: top;\n",
       "    }\n",
       "\n",
       "    .dataframe thead th {\n",
       "        text-align: right;\n",
       "    }\n",
       "</style>\n",
       "<table border=\"1\" class=\"dataframe\">\n",
       "  <thead>\n",
       "    <tr style=\"text-align: right;\">\n",
       "      <th></th>\n",
       "      <th>Match_id</th>\n",
       "      <th>City</th>\n",
       "      <th>Innings</th>\n",
       "      <th>Winner</th>\n",
       "      <th>Team</th>\n",
       "      <th>Over</th>\n",
       "      <th>Delivery</th>\n",
       "      <th>Batsman</th>\n",
       "      <th>Bowler</th>\n",
       "      <th>non_striker</th>\n",
       "      <th>runs_batsman</th>\n",
       "      <th>runs_extras</th>\n",
       "      <th>extras_type</th>\n",
       "      <th>Runs_total</th>\n",
       "      <th>player_out</th>\n",
       "      <th>mode_of_dismissal</th>\n",
       "      <th>fielders_involved</th>\n",
       "      <th>file_name</th>\n",
       "    </tr>\n",
       "  </thead>\n",
       "  <tbody>\n",
       "    <tr>\n",
       "      <th>0</th>\n",
       "      <td>2016043001</td>\n",
       "      <td>Hyderabad</td>\n",
       "      <td>1</td>\n",
       "      <td>Sunrisers Hyderabad</td>\n",
       "      <td>Sunrisers Hyderabad</td>\n",
       "      <td>1</td>\n",
       "      <td>0.1</td>\n",
       "      <td>DA Warner</td>\n",
       "      <td>KW Richardson</td>\n",
       "      <td>S Dhawan</td>\n",
       "      <td>0</td>\n",
       "      <td>0</td>\n",
       "      <td>NaN</td>\n",
       "      <td>0</td>\n",
       "      <td>NaN</td>\n",
       "      <td>NaN</td>\n",
       "      <td>NaN</td>\n",
       "      <td>980953.yaml</td>\n",
       "    </tr>\n",
       "    <tr>\n",
       "      <th>1</th>\n",
       "      <td>2016043001</td>\n",
       "      <td>Hyderabad</td>\n",
       "      <td>1</td>\n",
       "      <td>Sunrisers Hyderabad</td>\n",
       "      <td>Sunrisers Hyderabad</td>\n",
       "      <td>1</td>\n",
       "      <td>0.2</td>\n",
       "      <td>DA Warner</td>\n",
       "      <td>KW Richardson</td>\n",
       "      <td>S Dhawan</td>\n",
       "      <td>4</td>\n",
       "      <td>0</td>\n",
       "      <td>NaN</td>\n",
       "      <td>4</td>\n",
       "      <td>NaN</td>\n",
       "      <td>NaN</td>\n",
       "      <td>NaN</td>\n",
       "      <td>980953.yaml</td>\n",
       "    </tr>\n",
       "    <tr>\n",
       "      <th>2</th>\n",
       "      <td>2016043001</td>\n",
       "      <td>Hyderabad</td>\n",
       "      <td>1</td>\n",
       "      <td>Sunrisers Hyderabad</td>\n",
       "      <td>Sunrisers Hyderabad</td>\n",
       "      <td>1</td>\n",
       "      <td>0.3</td>\n",
       "      <td>DA Warner</td>\n",
       "      <td>KW Richardson</td>\n",
       "      <td>S Dhawan</td>\n",
       "      <td>1</td>\n",
       "      <td>0</td>\n",
       "      <td>NaN</td>\n",
       "      <td>1</td>\n",
       "      <td>NaN</td>\n",
       "      <td>NaN</td>\n",
       "      <td>NaN</td>\n",
       "      <td>980953.yaml</td>\n",
       "    </tr>\n",
       "    <tr>\n",
       "      <th>3</th>\n",
       "      <td>2016043001</td>\n",
       "      <td>Hyderabad</td>\n",
       "      <td>1</td>\n",
       "      <td>Sunrisers Hyderabad</td>\n",
       "      <td>Sunrisers Hyderabad</td>\n",
       "      <td>1</td>\n",
       "      <td>0.4</td>\n",
       "      <td>S Dhawan</td>\n",
       "      <td>KW Richardson</td>\n",
       "      <td>DA Warner</td>\n",
       "      <td>0</td>\n",
       "      <td>0</td>\n",
       "      <td>NaN</td>\n",
       "      <td>0</td>\n",
       "      <td>NaN</td>\n",
       "      <td>NaN</td>\n",
       "      <td>NaN</td>\n",
       "      <td>980953.yaml</td>\n",
       "    </tr>\n",
       "    <tr>\n",
       "      <th>4</th>\n",
       "      <td>2016043001</td>\n",
       "      <td>Hyderabad</td>\n",
       "      <td>1</td>\n",
       "      <td>Sunrisers Hyderabad</td>\n",
       "      <td>Sunrisers Hyderabad</td>\n",
       "      <td>1</td>\n",
       "      <td>0.5</td>\n",
       "      <td>S Dhawan</td>\n",
       "      <td>KW Richardson</td>\n",
       "      <td>DA Warner</td>\n",
       "      <td>0</td>\n",
       "      <td>0</td>\n",
       "      <td>NaN</td>\n",
       "      <td>0</td>\n",
       "      <td>NaN</td>\n",
       "      <td>NaN</td>\n",
       "      <td>NaN</td>\n",
       "      <td>980953.yaml</td>\n",
       "    </tr>\n",
       "  </tbody>\n",
       "</table>\n",
       "</div>"
      ],
      "text/plain": [
       "     Match_id       City  Innings               Winner                 Team  \\\n",
       "0  2016043001  Hyderabad        1  Sunrisers Hyderabad  Sunrisers Hyderabad   \n",
       "1  2016043001  Hyderabad        1  Sunrisers Hyderabad  Sunrisers Hyderabad   \n",
       "2  2016043001  Hyderabad        1  Sunrisers Hyderabad  Sunrisers Hyderabad   \n",
       "3  2016043001  Hyderabad        1  Sunrisers Hyderabad  Sunrisers Hyderabad   \n",
       "4  2016043001  Hyderabad        1  Sunrisers Hyderabad  Sunrisers Hyderabad   \n",
       "\n",
       "   Over  Delivery    Batsman         Bowler non_striker  runs_batsman  \\\n",
       "0     1       0.1  DA Warner  KW Richardson    S Dhawan             0   \n",
       "1     1       0.2  DA Warner  KW Richardson    S Dhawan             4   \n",
       "2     1       0.3  DA Warner  KW Richardson    S Dhawan             1   \n",
       "3     1       0.4   S Dhawan  KW Richardson   DA Warner             0   \n",
       "4     1       0.5   S Dhawan  KW Richardson   DA Warner             0   \n",
       "\n",
       "   runs_extras extras_type  Runs_total player_out mode_of_dismissal  \\\n",
       "0            0         NaN           0        NaN               NaN   \n",
       "1            0         NaN           4        NaN               NaN   \n",
       "2            0         NaN           1        NaN               NaN   \n",
       "3            0         NaN           0        NaN               NaN   \n",
       "4            0         NaN           0        NaN               NaN   \n",
       "\n",
       "  fielders_involved    file_name  \n",
       "0               NaN  980953.yaml  \n",
       "1               NaN  980953.yaml  \n",
       "2               NaN  980953.yaml  \n",
       "3               NaN  980953.yaml  \n",
       "4               NaN  980953.yaml  "
      ]
     },
     "execution_count": 321,
     "metadata": {},
     "output_type": "execute_result"
    }
   ],
   "source": [
    "balls = pd.read_csv(\"ipl_deliveries.csv\")\n",
    "balls.head()"
   ]
  },
  {
   "cell_type": "code",
   "execution_count": 330,
   "metadata": {},
   "outputs": [
    {
     "data": {
      "text/plain": [
       "array([1, 2], dtype=int64)"
      ]
     },
     "execution_count": 330,
     "metadata": {},
     "output_type": "execute_result"
    }
   ],
   "source": [
    "balls[balls['Match_id']==2017040801].Innings.unique()"
   ]
  },
  {
   "cell_type": "code",
   "execution_count": 340,
   "metadata": {},
   "outputs": [
    {
     "data": {
      "text/html": [
       "<div>\n",
       "<style scoped>\n",
       "    .dataframe tbody tr th:only-of-type {\n",
       "        vertical-align: middle;\n",
       "    }\n",
       "\n",
       "    .dataframe tbody tr th {\n",
       "        vertical-align: top;\n",
       "    }\n",
       "\n",
       "    .dataframe thead tr th {\n",
       "        text-align: left;\n",
       "    }\n",
       "</style>\n",
       "<table border=\"1\" class=\"dataframe\">\n",
       "  <thead>\n",
       "    <tr>\n",
       "      <th></th>\n",
       "      <th>Match_id</th>\n",
       "      <th>Innings</th>\n",
       "      <th>Team</th>\n",
       "      <th colspan=\"2\" halign=\"left\">Runs_total</th>\n",
       "    </tr>\n",
       "    <tr>\n",
       "      <th></th>\n",
       "      <th></th>\n",
       "      <th></th>\n",
       "      <th></th>\n",
       "      <th>sum</th>\n",
       "      <th>count</th>\n",
       "    </tr>\n",
       "  </thead>\n",
       "  <tbody>\n",
       "    <tr>\n",
       "      <th>0</th>\n",
       "      <td>2008041801</td>\n",
       "      <td>1</td>\n",
       "      <td>Kolkata Knight Riders</td>\n",
       "      <td>222</td>\n",
       "      <td>124</td>\n",
       "    </tr>\n",
       "    <tr>\n",
       "      <th>1</th>\n",
       "      <td>2008041801</td>\n",
       "      <td>2</td>\n",
       "      <td>Royal Challengers Bangalore</td>\n",
       "      <td>82</td>\n",
       "      <td>101</td>\n",
       "    </tr>\n",
       "    <tr>\n",
       "      <th>2</th>\n",
       "      <td>2008041901</td>\n",
       "      <td>1</td>\n",
       "      <td>Chennai Super Kings</td>\n",
       "      <td>240</td>\n",
       "      <td>124</td>\n",
       "    </tr>\n",
       "    <tr>\n",
       "      <th>3</th>\n",
       "      <td>2008041901</td>\n",
       "      <td>2</td>\n",
       "      <td>Kings XI Punjab</td>\n",
       "      <td>207</td>\n",
       "      <td>124</td>\n",
       "    </tr>\n",
       "    <tr>\n",
       "      <th>4</th>\n",
       "      <td>2008041902</td>\n",
       "      <td>1</td>\n",
       "      <td>Rajasthan Royals</td>\n",
       "      <td>129</td>\n",
       "      <td>122</td>\n",
       "    </tr>\n",
       "    <tr>\n",
       "      <th>...</th>\n",
       "      <td>...</td>\n",
       "      <td>...</td>\n",
       "      <td>...</td>\n",
       "      <td>...</td>\n",
       "      <td>...</td>\n",
       "    </tr>\n",
       "    <tr>\n",
       "      <th>1272</th>\n",
       "      <td>2017051701</td>\n",
       "      <td>2</td>\n",
       "      <td>Kolkata Knight Riders</td>\n",
       "      <td>48</td>\n",
       "      <td>35</td>\n",
       "    </tr>\n",
       "    <tr>\n",
       "      <th>1273</th>\n",
       "      <td>2017051901</td>\n",
       "      <td>1</td>\n",
       "      <td>Kolkata Knight Riders</td>\n",
       "      <td>107</td>\n",
       "      <td>116</td>\n",
       "    </tr>\n",
       "    <tr>\n",
       "      <th>1274</th>\n",
       "      <td>2017051901</td>\n",
       "      <td>2</td>\n",
       "      <td>Mumbai Indians</td>\n",
       "      <td>111</td>\n",
       "      <td>91</td>\n",
       "    </tr>\n",
       "    <tr>\n",
       "      <th>1275</th>\n",
       "      <td>2017052101</td>\n",
       "      <td>1</td>\n",
       "      <td>Mumbai Indians</td>\n",
       "      <td>129</td>\n",
       "      <td>125</td>\n",
       "    </tr>\n",
       "    <tr>\n",
       "      <th>1276</th>\n",
       "      <td>2017052101</td>\n",
       "      <td>2</td>\n",
       "      <td>Rising Pune Supergiant</td>\n",
       "      <td>128</td>\n",
       "      <td>123</td>\n",
       "    </tr>\n",
       "  </tbody>\n",
       "</table>\n",
       "<p>1277 rows × 5 columns</p>\n",
       "</div>"
      ],
      "text/plain": [
       "        Match_id Innings                         Team Runs_total      \n",
       "                                                             sum count\n",
       "0     2008041801       1        Kolkata Knight Riders        222   124\n",
       "1     2008041801       2  Royal Challengers Bangalore         82   101\n",
       "2     2008041901       1          Chennai Super Kings        240   124\n",
       "3     2008041901       2              Kings XI Punjab        207   124\n",
       "4     2008041902       1             Rajasthan Royals        129   122\n",
       "...          ...     ...                          ...        ...   ...\n",
       "1272  2017051701       2        Kolkata Knight Riders         48    35\n",
       "1273  2017051901       1        Kolkata Knight Riders        107   116\n",
       "1274  2017051901       2               Mumbai Indians        111    91\n",
       "1275  2017052101       1               Mumbai Indians        129   125\n",
       "1276  2017052101       2       Rising Pune Supergiant        128   123\n",
       "\n",
       "[1277 rows x 5 columns]"
      ]
     },
     "execution_count": 340,
     "metadata": {},
     "output_type": "execute_result"
    }
   ],
   "source": [
    "runs=balls[['Match_id','Innings','Runs_total','Team']].groupby(['Match_id','Innings','Team']).agg(['sum','count']).reset_index()\n",
    "runs.shape\n",
    "runs"
   ]
  },
  {
   "cell_type": "code",
   "execution_count": 341,
   "metadata": {},
   "outputs": [
    {
     "data": {
      "text/html": [
       "<div>\n",
       "<style scoped>\n",
       "    .dataframe tbody tr th:only-of-type {\n",
       "        vertical-align: middle;\n",
       "    }\n",
       "\n",
       "    .dataframe tbody tr th {\n",
       "        vertical-align: top;\n",
       "    }\n",
       "\n",
       "    .dataframe thead th {\n",
       "        text-align: right;\n",
       "    }\n",
       "</style>\n",
       "<table border=\"1\" class=\"dataframe\">\n",
       "  <thead>\n",
       "    <tr style=\"text-align: right;\">\n",
       "      <th></th>\n",
       "      <th>sum</th>\n",
       "      <th>count</th>\n",
       "    </tr>\n",
       "  </thead>\n",
       "  <tbody>\n",
       "    <tr>\n",
       "      <th>count</th>\n",
       "      <td>1277.000000</td>\n",
       "      <td>1277.000000</td>\n",
       "    </tr>\n",
       "    <tr>\n",
       "      <th>mean</th>\n",
       "      <td>152.164448</td>\n",
       "      <td>117.823023</td>\n",
       "    </tr>\n",
       "    <tr>\n",
       "      <th>std</th>\n",
       "      <td>32.821254</td>\n",
       "      <td>15.967885</td>\n",
       "    </tr>\n",
       "    <tr>\n",
       "      <th>min</th>\n",
       "      <td>2.000000</td>\n",
       "      <td>4.000000</td>\n",
       "    </tr>\n",
       "    <tr>\n",
       "      <th>25%</th>\n",
       "      <td>134.000000</td>\n",
       "      <td>119.000000</td>\n",
       "    </tr>\n",
       "    <tr>\n",
       "      <th>50%</th>\n",
       "      <td>154.000000</td>\n",
       "      <td>123.000000</td>\n",
       "    </tr>\n",
       "    <tr>\n",
       "      <th>75%</th>\n",
       "      <td>173.000000</td>\n",
       "      <td>125.000000</td>\n",
       "    </tr>\n",
       "    <tr>\n",
       "      <th>max</th>\n",
       "      <td>263.000000</td>\n",
       "      <td>137.000000</td>\n",
       "    </tr>\n",
       "  </tbody>\n",
       "</table>\n",
       "</div>"
      ],
      "text/plain": [
       "               sum        count\n",
       "count  1277.000000  1277.000000\n",
       "mean    152.164448   117.823023\n",
       "std      32.821254    15.967885\n",
       "min       2.000000     4.000000\n",
       "25%     134.000000   119.000000\n",
       "50%     154.000000   123.000000\n",
       "75%     173.000000   125.000000\n",
       "max     263.000000   137.000000"
      ]
     },
     "execution_count": 341,
     "metadata": {},
     "output_type": "execute_result"
    }
   ],
   "source": [
    "runs['Runs_total'].describe()"
   ]
  },
  {
   "cell_type": "code",
   "execution_count": 342,
   "metadata": {},
   "outputs": [
    {
     "data": {
      "image/png": "[encoded data removed]",
      "text/plain": [
       "<Figure size 432x288 with 2 Axes>"
      ]
     },
     "metadata": {
      "needs_background": "light"
     },
     "output_type": "display_data"
    }
   ],
   "source": [
    "hist=runs.hist(column='Runs_total',bins=25)"
   ]
  },
  {
   "cell_type": "code",
   "execution_count": 343,
   "metadata": {},
   "outputs": [
    {
     "data": {
      "text/html": [
       "<div>\n",
       "<style scoped>\n",
       "    .dataframe tbody tr th:only-of-type {\n",
       "        vertical-align: middle;\n",
       "    }\n",
       "\n",
       "    .dataframe tbody tr th {\n",
       "        vertical-align: top;\n",
       "    }\n",
       "\n",
       "    .dataframe thead tr th {\n",
       "        text-align: left;\n",
       "    }\n",
       "</style>\n",
       "<table border=\"1\" class=\"dataframe\">\n",
       "  <thead>\n",
       "    <tr>\n",
       "      <th></th>\n",
       "      <th>Match_id</th>\n",
       "      <th>Innings</th>\n",
       "      <th>Team</th>\n",
       "      <th colspan=\"2\" halign=\"left\">Runs_total</th>\n",
       "      <th>ovs</th>\n",
       "      <th>rr</th>\n",
       "    </tr>\n",
       "    <tr>\n",
       "      <th></th>\n",
       "      <th></th>\n",
       "      <th></th>\n",
       "      <th></th>\n",
       "      <th>sum</th>\n",
       "      <th>count</th>\n",
       "      <th></th>\n",
       "      <th></th>\n",
       "    </tr>\n",
       "  </thead>\n",
       "  <tbody>\n",
       "    <tr>\n",
       "      <th>0</th>\n",
       "      <td>2008041801</td>\n",
       "      <td>1</td>\n",
       "      <td>Kolkata Knight Riders</td>\n",
       "      <td>222</td>\n",
       "      <td>124</td>\n",
       "      <td>20.666667</td>\n",
       "      <td>10.741935</td>\n",
       "    </tr>\n",
       "    <tr>\n",
       "      <th>1</th>\n",
       "      <td>2008041801</td>\n",
       "      <td>2</td>\n",
       "      <td>Royal Challengers Bangalore</td>\n",
       "      <td>82</td>\n",
       "      <td>101</td>\n",
       "      <td>16.833333</td>\n",
       "      <td>4.871287</td>\n",
       "    </tr>\n",
       "    <tr>\n",
       "      <th>2</th>\n",
       "      <td>2008041901</td>\n",
       "      <td>1</td>\n",
       "      <td>Chennai Super Kings</td>\n",
       "      <td>240</td>\n",
       "      <td>124</td>\n",
       "      <td>20.666667</td>\n",
       "      <td>11.612903</td>\n",
       "    </tr>\n",
       "    <tr>\n",
       "      <th>3</th>\n",
       "      <td>2008041901</td>\n",
       "      <td>2</td>\n",
       "      <td>Kings XI Punjab</td>\n",
       "      <td>207</td>\n",
       "      <td>124</td>\n",
       "      <td>20.666667</td>\n",
       "      <td>10.016129</td>\n",
       "    </tr>\n",
       "    <tr>\n",
       "      <th>4</th>\n",
       "      <td>2008041902</td>\n",
       "      <td>1</td>\n",
       "      <td>Rajasthan Royals</td>\n",
       "      <td>129</td>\n",
       "      <td>122</td>\n",
       "      <td>20.333333</td>\n",
       "      <td>6.344262</td>\n",
       "    </tr>\n",
       "  </tbody>\n",
       "</table>\n",
       "</div>"
      ],
      "text/plain": [
       "     Match_id Innings                         Team Runs_total        \\\n",
       "                                                          sum count   \n",
       "0  2008041801       1        Kolkata Knight Riders        222   124   \n",
       "1  2008041801       2  Royal Challengers Bangalore         82   101   \n",
       "2  2008041901       1          Chennai Super Kings        240   124   \n",
       "3  2008041901       2              Kings XI Punjab        207   124   \n",
       "4  2008041902       1             Rajasthan Royals        129   122   \n",
       "\n",
       "         ovs         rr  \n",
       "                         \n",
       "0  20.666667  10.741935  \n",
       "1  16.833333   4.871287  \n",
       "2  20.666667  11.612903  \n",
       "3  20.666667  10.016129  \n",
       "4  20.333333   6.344262  "
      ]
     },
     "execution_count": 343,
     "metadata": {},
     "output_type": "execute_result"
    }
   ],
   "source": [
    "runs['ovs']=runs[('Runs_total',   'count')]/6\n",
    "runs['ovs'].head()\n",
    "runs['rr']=runs[('Runs_total',   'sum')]/runs['ovs']\n",
    "runs.head()"
   ]
  },
  {
   "cell_type": "code",
   "execution_count": 344,
   "metadata": {},
   "outputs": [
    {
     "data": {
      "image/png": "[encoded data removed]",
      "text/plain": [
       "<Figure size 432x288 with 1 Axes>"
      ]
     },
     "metadata": {
      "needs_background": "light"
     },
     "output_type": "display_data"
    }
   ],
   "source": [
    "hist=runs.hist(column='rr',bins=30)"
   ]
  },
  {
   "cell_type": "markdown",
   "metadata": {
    "colab_type": "text",
    "id": "B8d-7qfbn94P"
   },
   "source": [
    "### **Question 11**\n",
    "* **Filter** the histogram (created in **Question 10**) for an **IPL season**. Ex. IPL 2016\n",
    "* Also, filter the histogram for a **team** within a **season**. Ex. for CSK within IPL 2016\n",
    "* **Describe** your observations. Think along the following **questions** : \n",
    "  * What is the meaning of **skewness**?\n",
    "  * Is there an **observable difference** between the **rate of runs** scored for some teams over others?\n",
    "    * Choose appropriate **visualization** to understand **run_rate** of teams (**Hint :** Violin charts)\n",
    "    * Which teams are strong at making **large quantity** of runs?\n",
    "    * Which teams are strong at making runs at a **quicker rate**? (Consider run a ball the **base line** for **under** or **over** indexing teams)\n",
    "\n",
    "* **Note :** *A metric is said to be under-indexed when it's value is less than the baseline value. Similarly it is said to be over-indexed when it's value is more than the baseline value*\n",
    "\n",
    "-------------------------\n",
    "    "
   ]
  },
  {
   "cell_type": "code",
   "execution_count": 345,
   "metadata": {},
   "outputs": [
    {
     "data": {
      "text/html": [
       "<div>\n",
       "<style scoped>\n",
       "    .dataframe tbody tr th:only-of-type {\n",
       "        vertical-align: middle;\n",
       "    }\n",
       "\n",
       "    .dataframe tbody tr th {\n",
       "        vertical-align: top;\n",
       "    }\n",
       "\n",
       "    .dataframe thead tr th {\n",
       "        text-align: left;\n",
       "    }\n",
       "</style>\n",
       "<table border=\"1\" class=\"dataframe\">\n",
       "  <thead>\n",
       "    <tr>\n",
       "      <th></th>\n",
       "      <th>Match_id</th>\n",
       "      <th>Innings</th>\n",
       "      <th>Team</th>\n",
       "      <th colspan=\"2\" halign=\"left\">Runs_total</th>\n",
       "      <th>ovs</th>\n",
       "      <th>rr</th>\n",
       "    </tr>\n",
       "    <tr>\n",
       "      <th></th>\n",
       "      <th></th>\n",
       "      <th></th>\n",
       "      <th></th>\n",
       "      <th>sum</th>\n",
       "      <th>count</th>\n",
       "      <th></th>\n",
       "      <th></th>\n",
       "    </tr>\n",
       "  </thead>\n",
       "  <tbody>\n",
       "    <tr>\n",
       "      <th>0</th>\n",
       "      <td>2008041801</td>\n",
       "      <td>1</td>\n",
       "      <td>Kolkata Knight Riders</td>\n",
       "      <td>222</td>\n",
       "      <td>124</td>\n",
       "      <td>20.666667</td>\n",
       "      <td>10.741935</td>\n",
       "    </tr>\n",
       "    <tr>\n",
       "      <th>1</th>\n",
       "      <td>2008041801</td>\n",
       "      <td>2</td>\n",
       "      <td>Royal Challengers Bangalore</td>\n",
       "      <td>82</td>\n",
       "      <td>101</td>\n",
       "      <td>16.833333</td>\n",
       "      <td>4.871287</td>\n",
       "    </tr>\n",
       "    <tr>\n",
       "      <th>2</th>\n",
       "      <td>2008041901</td>\n",
       "      <td>1</td>\n",
       "      <td>Chennai Super Kings</td>\n",
       "      <td>240</td>\n",
       "      <td>124</td>\n",
       "      <td>20.666667</td>\n",
       "      <td>11.612903</td>\n",
       "    </tr>\n",
       "    <tr>\n",
       "      <th>3</th>\n",
       "      <td>2008041901</td>\n",
       "      <td>2</td>\n",
       "      <td>Kings XI Punjab</td>\n",
       "      <td>207</td>\n",
       "      <td>124</td>\n",
       "      <td>20.666667</td>\n",
       "      <td>10.016129</td>\n",
       "    </tr>\n",
       "    <tr>\n",
       "      <th>4</th>\n",
       "      <td>2008041902</td>\n",
       "      <td>1</td>\n",
       "      <td>Rajasthan Royals</td>\n",
       "      <td>129</td>\n",
       "      <td>122</td>\n",
       "      <td>20.333333</td>\n",
       "      <td>6.344262</td>\n",
       "    </tr>\n",
       "  </tbody>\n",
       "</table>\n",
       "</div>"
      ],
      "text/plain": [
       "     Match_id Innings                         Team Runs_total        \\\n",
       "                                                          sum count   \n",
       "0  2008041801       1        Kolkata Knight Riders        222   124   \n",
       "1  2008041801       2  Royal Challengers Bangalore         82   101   \n",
       "2  2008041901       1          Chennai Super Kings        240   124   \n",
       "3  2008041901       2              Kings XI Punjab        207   124   \n",
       "4  2008041902       1             Rajasthan Royals        129   122   \n",
       "\n",
       "         ovs         rr  \n",
       "                         \n",
       "0  20.666667  10.741935  \n",
       "1  16.833333   4.871287  \n",
       "2  20.666667  11.612903  \n",
       "3  20.666667  10.016129  \n",
       "4  20.333333   6.344262  "
      ]
     },
     "execution_count": 345,
     "metadata": {},
     "output_type": "execute_result"
    }
   ],
   "source": [
    "runs['Match_id']=runs['Match_id'].astype(str) \n",
    "runs.head()"
   ]
  },
  {
   "cell_type": "code",
   "execution_count": 346,
   "metadata": {},
   "outputs": [
    {
     "data": {
      "text/html": [
       "<div>\n",
       "<style scoped>\n",
       "    .dataframe tbody tr th:only-of-type {\n",
       "        vertical-align: middle;\n",
       "    }\n",
       "\n",
       "    .dataframe tbody tr th {\n",
       "        vertical-align: top;\n",
       "    }\n",
       "\n",
       "    .dataframe thead tr th {\n",
       "        text-align: left;\n",
       "    }\n",
       "</style>\n",
       "<table border=\"1\" class=\"dataframe\">\n",
       "  <thead>\n",
       "    <tr>\n",
       "      <th></th>\n",
       "      <th>Match_id</th>\n",
       "      <th>Innings</th>\n",
       "      <th>Team</th>\n",
       "      <th colspan=\"2\" halign=\"left\">Runs_total</th>\n",
       "      <th>ovs</th>\n",
       "      <th>rr</th>\n",
       "    </tr>\n",
       "    <tr>\n",
       "      <th></th>\n",
       "      <th></th>\n",
       "      <th></th>\n",
       "      <th></th>\n",
       "      <th>sum</th>\n",
       "      <th>count</th>\n",
       "      <th></th>\n",
       "      <th></th>\n",
       "    </tr>\n",
       "  </thead>\n",
       "  <tbody>\n",
       "    <tr>\n",
       "      <th>1038</th>\n",
       "      <td>2016040901</td>\n",
       "      <td>1</td>\n",
       "      <td>Mumbai Indians</td>\n",
       "      <td>121</td>\n",
       "      <td>126</td>\n",
       "      <td>21.000000</td>\n",
       "      <td>5.761905</td>\n",
       "    </tr>\n",
       "    <tr>\n",
       "      <th>1039</th>\n",
       "      <td>2016040901</td>\n",
       "      <td>2</td>\n",
       "      <td>Rising Pune Supergiants</td>\n",
       "      <td>126</td>\n",
       "      <td>92</td>\n",
       "      <td>15.333333</td>\n",
       "      <td>8.217391</td>\n",
       "    </tr>\n",
       "    <tr>\n",
       "      <th>1040</th>\n",
       "      <td>2016041001</td>\n",
       "      <td>1</td>\n",
       "      <td>Delhi Daredevils</td>\n",
       "      <td>98</td>\n",
       "      <td>110</td>\n",
       "      <td>18.333333</td>\n",
       "      <td>5.345455</td>\n",
       "    </tr>\n",
       "    <tr>\n",
       "      <th>1041</th>\n",
       "      <td>2016041001</td>\n",
       "      <td>2</td>\n",
       "      <td>Kolkata Knight Riders</td>\n",
       "      <td>99</td>\n",
       "      <td>90</td>\n",
       "      <td>15.000000</td>\n",
       "      <td>6.600000</td>\n",
       "    </tr>\n",
       "    <tr>\n",
       "      <th>1042</th>\n",
       "      <td>2016041101</td>\n",
       "      <td>1</td>\n",
       "      <td>Kings XI Punjab</td>\n",
       "      <td>161</td>\n",
       "      <td>124</td>\n",
       "      <td>20.666667</td>\n",
       "      <td>7.790323</td>\n",
       "    </tr>\n",
       "    <tr>\n",
       "      <th>...</th>\n",
       "      <td>...</td>\n",
       "      <td>...</td>\n",
       "      <td>...</td>\n",
       "      <td>...</td>\n",
       "      <td>...</td>\n",
       "      <td>...</td>\n",
       "      <td>...</td>\n",
       "    </tr>\n",
       "    <tr>\n",
       "      <th>1153</th>\n",
       "      <td>2016052501</td>\n",
       "      <td>2</td>\n",
       "      <td>Kolkata Knight Riders</td>\n",
       "      <td>140</td>\n",
       "      <td>120</td>\n",
       "      <td>20.000000</td>\n",
       "      <td>7.000000</td>\n",
       "    </tr>\n",
       "    <tr>\n",
       "      <th>1154</th>\n",
       "      <td>2016052701</td>\n",
       "      <td>1</td>\n",
       "      <td>Gujarat Lions</td>\n",
       "      <td>162</td>\n",
       "      <td>125</td>\n",
       "      <td>20.833333</td>\n",
       "      <td>7.776000</td>\n",
       "    </tr>\n",
       "    <tr>\n",
       "      <th>1155</th>\n",
       "      <td>2016052701</td>\n",
       "      <td>2</td>\n",
       "      <td>Sunrisers Hyderabad</td>\n",
       "      <td>163</td>\n",
       "      <td>117</td>\n",
       "      <td>19.500000</td>\n",
       "      <td>8.358974</td>\n",
       "    </tr>\n",
       "    <tr>\n",
       "      <th>1156</th>\n",
       "      <td>2016052901</td>\n",
       "      <td>1</td>\n",
       "      <td>Sunrisers Hyderabad</td>\n",
       "      <td>208</td>\n",
       "      <td>126</td>\n",
       "      <td>21.000000</td>\n",
       "      <td>9.904762</td>\n",
       "    </tr>\n",
       "    <tr>\n",
       "      <th>1157</th>\n",
       "      <td>2016052901</td>\n",
       "      <td>2</td>\n",
       "      <td>Royal Challengers Bangalore</td>\n",
       "      <td>200</td>\n",
       "      <td>124</td>\n",
       "      <td>20.666667</td>\n",
       "      <td>9.677419</td>\n",
       "    </tr>\n",
       "  </tbody>\n",
       "</table>\n",
       "<p>120 rows × 7 columns</p>\n",
       "</div>"
      ],
      "text/plain": [
       "        Match_id Innings                         Team Runs_total        \\\n",
       "                                                             sum count   \n",
       "1038  2016040901       1               Mumbai Indians        121   126   \n",
       "1039  2016040901       2      Rising Pune Supergiants        126    92   \n",
       "1040  2016041001       1             Delhi Daredevils         98   110   \n",
       "1041  2016041001       2        Kolkata Knight Riders         99    90   \n",
       "1042  2016041101       1              Kings XI Punjab        161   124   \n",
       "...          ...     ...                          ...        ...   ...   \n",
       "1153  2016052501       2        Kolkata Knight Riders        140   120   \n",
       "1154  2016052701       1                Gujarat Lions        162   125   \n",
       "1155  2016052701       2          Sunrisers Hyderabad        163   117   \n",
       "1156  2016052901       1          Sunrisers Hyderabad        208   126   \n",
       "1157  2016052901       2  Royal Challengers Bangalore        200   124   \n",
       "\n",
       "            ovs        rr  \n",
       "                           \n",
       "1038  21.000000  5.761905  \n",
       "1039  15.333333  8.217391  \n",
       "1040  18.333333  5.345455  \n",
       "1041  15.000000  6.600000  \n",
       "1042  20.666667  7.790323  \n",
       "...         ...       ...  \n",
       "1153  20.000000  7.000000  \n",
       "1154  20.833333  7.776000  \n",
       "1155  19.500000  8.358974  \n",
       "1156  21.000000  9.904762  \n",
       "1157  20.666667  9.677419  \n",
       "\n",
       "[120 rows x 7 columns]"
      ]
     },
     "execution_count": 346,
     "metadata": {},
     "output_type": "execute_result"
    }
   ],
   "source": [
    "year='2016'\n",
    "runs[runs['Match_id'].str[0:4]==year]"
   ]
  },
  {
   "cell_type": "code",
   "execution_count": 347,
   "metadata": {},
   "outputs": [
    {
     "data": {
      "image/png": "[encoded data removed]",
      "text/plain": [
       "<Figure size 432x288 with 1 Axes>"
      ]
     },
     "metadata": {
      "needs_background": "light"
     },
     "output_type": "display_data"
    }
   ],
   "source": [
    "hist=runs[runs['Match_id'].str[0:4]==year].hist(column='rr',bins=30)"
   ]
  },
  {
   "cell_type": "code",
   "execution_count": null,
   "metadata": {},
   "outputs": [],
   "source": []
  },
  {
   "cell_type": "code",
   "execution_count": 348,
   "metadata": {
    "colab": {},
    "colab_type": "code",
    "id": "UcBQqO_uelj5"
   },
   "outputs": [],
   "source": [
    "# write your code here. Feel free to add multiple cells as per your need\n"
   ]
  },
  {
   "cell_type": "markdown",
   "metadata": {
    "colab_type": "text",
    "id": "TBLwlAB76W5K"
   },
   "source": [
    "### **Question 12**\n",
    "* Calculate a metric **%fast_innings**. This would be percentage of innings where run_rate is more than base_line run rate of **6.0 per over**\n",
    "    * Which team are top 3 teams by **%fast_innings**?\n",
    "    * What insights do you have about the teams against %fast_innings?\n",
    "* Let's now think of how **fast** or **slow** the run was made.\n",
    "  * We will create a metric which would be an indicator of speed. Let's create a metric called **dist_base_line** which means **innings_run_rate - 6.0**.\n",
    "  * A **negative** value would mean slow run_rate and **positive** would mean fast. The value would mean the **intensity**. (We can say a value of 3.6-6 = -2.4 means a very slow run rate. Which a value of 10.2-6 = 3.6 as a very fast run rate)\n",
    "  * For a team (chose any of your choice), visualize the distribution of negative values and do the same for positive ones. \n",
    "  * Do you find skewness? If yes, how strong is it. Discuss the interesting cases.\n",
    "* Are there instances where teams are making lots of runs at a very fast pace?\n",
    "  * Create a **scatter-plot** with **runs_made** on x-axis and **run_rate** on y-axis. \n",
    "  * The **color** of the dots should correspond to the team color\n",
    "  * Discuss the **insights** derived. Are there teams really dominating the run making?\n",
    "\n",
    "---------------------------"
   ]
  },
  {
   "cell_type": "code",
   "execution_count": 362,
   "metadata": {
    "colab": {},
    "colab_type": "code",
    "id": "IyEXZhPKeqQN"
   },
   "outputs": [
    {
     "data": {
      "text/html": [
       "<div>\n",
       "<style scoped>\n",
       "    .dataframe tbody tr th:only-of-type {\n",
       "        vertical-align: middle;\n",
       "    }\n",
       "\n",
       "    .dataframe tbody tr th {\n",
       "        vertical-align: top;\n",
       "    }\n",
       "\n",
       "    .dataframe thead tr th {\n",
       "        text-align: left;\n",
       "    }\n",
       "</style>\n",
       "<table border=\"1\" class=\"dataframe\">\n",
       "  <thead>\n",
       "    <tr>\n",
       "      <th></th>\n",
       "      <th>Match_id</th>\n",
       "      <th>Innings</th>\n",
       "      <th>Team</th>\n",
       "      <th colspan=\"2\" halign=\"left\">Runs_total</th>\n",
       "      <th>ovs</th>\n",
       "      <th>rr</th>\n",
       "    </tr>\n",
       "    <tr>\n",
       "      <th></th>\n",
       "      <th></th>\n",
       "      <th></th>\n",
       "      <th></th>\n",
       "      <th>sum</th>\n",
       "      <th>count</th>\n",
       "      <th></th>\n",
       "      <th></th>\n",
       "    </tr>\n",
       "  </thead>\n",
       "  <tbody>\n",
       "    <tr>\n",
       "      <th>0</th>\n",
       "      <td>2008041801</td>\n",
       "      <td>1</td>\n",
       "      <td>Kolkata Knight Riders</td>\n",
       "      <td>222</td>\n",
       "      <td>124</td>\n",
       "      <td>20.666667</td>\n",
       "      <td>10.741935</td>\n",
       "    </tr>\n",
       "    <tr>\n",
       "      <th>2</th>\n",
       "      <td>2008041901</td>\n",
       "      <td>1</td>\n",
       "      <td>Chennai Super Kings</td>\n",
       "      <td>240</td>\n",
       "      <td>124</td>\n",
       "      <td>20.666667</td>\n",
       "      <td>11.612903</td>\n",
       "    </tr>\n",
       "    <tr>\n",
       "      <th>3</th>\n",
       "      <td>2008041901</td>\n",
       "      <td>2</td>\n",
       "      <td>Kings XI Punjab</td>\n",
       "      <td>207</td>\n",
       "      <td>124</td>\n",
       "      <td>20.666667</td>\n",
       "      <td>10.016129</td>\n",
       "    </tr>\n",
       "    <tr>\n",
       "      <th>4</th>\n",
       "      <td>2008041902</td>\n",
       "      <td>1</td>\n",
       "      <td>Rajasthan Royals</td>\n",
       "      <td>129</td>\n",
       "      <td>122</td>\n",
       "      <td>20.333333</td>\n",
       "      <td>6.344262</td>\n",
       "    </tr>\n",
       "    <tr>\n",
       "      <th>5</th>\n",
       "      <td>2008041902</td>\n",
       "      <td>2</td>\n",
       "      <td>Delhi Daredevils</td>\n",
       "      <td>132</td>\n",
       "      <td>97</td>\n",
       "      <td>16.166667</td>\n",
       "      <td>8.164948</td>\n",
       "    </tr>\n",
       "    <tr>\n",
       "      <th>...</th>\n",
       "      <td>...</td>\n",
       "      <td>...</td>\n",
       "      <td>...</td>\n",
       "      <td>...</td>\n",
       "      <td>...</td>\n",
       "      <td>...</td>\n",
       "      <td>...</td>\n",
       "    </tr>\n",
       "    <tr>\n",
       "      <th>1271</th>\n",
       "      <td>2017051701</td>\n",
       "      <td>1</td>\n",
       "      <td>Sunrisers Hyderabad</td>\n",
       "      <td>128</td>\n",
       "      <td>122</td>\n",
       "      <td>20.333333</td>\n",
       "      <td>6.295082</td>\n",
       "    </tr>\n",
       "    <tr>\n",
       "      <th>1272</th>\n",
       "      <td>2017051701</td>\n",
       "      <td>2</td>\n",
       "      <td>Kolkata Knight Riders</td>\n",
       "      <td>48</td>\n",
       "      <td>35</td>\n",
       "      <td>5.833333</td>\n",
       "      <td>8.228571</td>\n",
       "    </tr>\n",
       "    <tr>\n",
       "      <th>1274</th>\n",
       "      <td>2017051901</td>\n",
       "      <td>2</td>\n",
       "      <td>Mumbai Indians</td>\n",
       "      <td>111</td>\n",
       "      <td>91</td>\n",
       "      <td>15.166667</td>\n",
       "      <td>7.318681</td>\n",
       "    </tr>\n",
       "    <tr>\n",
       "      <th>1275</th>\n",
       "      <td>2017052101</td>\n",
       "      <td>1</td>\n",
       "      <td>Mumbai Indians</td>\n",
       "      <td>129</td>\n",
       "      <td>125</td>\n",
       "      <td>20.833333</td>\n",
       "      <td>6.192000</td>\n",
       "    </tr>\n",
       "    <tr>\n",
       "      <th>1276</th>\n",
       "      <td>2017052101</td>\n",
       "      <td>2</td>\n",
       "      <td>Rising Pune Supergiant</td>\n",
       "      <td>128</td>\n",
       "      <td>123</td>\n",
       "      <td>20.500000</td>\n",
       "      <td>6.243902</td>\n",
       "    </tr>\n",
       "  </tbody>\n",
       "</table>\n",
       "<p>1150 rows × 7 columns</p>\n",
       "</div>"
      ],
      "text/plain": [
       "        Match_id Innings                    Team Runs_total              ovs  \\\n",
       "                                                        sum count              \n",
       "0     2008041801       1   Kolkata Knight Riders        222   124  20.666667   \n",
       "2     2008041901       1     Chennai Super Kings        240   124  20.666667   \n",
       "3     2008041901       2         Kings XI Punjab        207   124  20.666667   \n",
       "4     2008041902       1        Rajasthan Royals        129   122  20.333333   \n",
       "5     2008041902       2        Delhi Daredevils        132    97  16.166667   \n",
       "...          ...     ...                     ...        ...   ...        ...   \n",
       "1271  2017051701       1     Sunrisers Hyderabad        128   122  20.333333   \n",
       "1272  2017051701       2   Kolkata Knight Riders         48    35   5.833333   \n",
       "1274  2017051901       2          Mumbai Indians        111    91  15.166667   \n",
       "1275  2017052101       1          Mumbai Indians        129   125  20.833333   \n",
       "1276  2017052101       2  Rising Pune Supergiant        128   123  20.500000   \n",
       "\n",
       "             rr  \n",
       "                 \n",
       "0     10.741935  \n",
       "2     11.612903  \n",
       "3     10.016129  \n",
       "4      6.344262  \n",
       "5      8.164948  \n",
       "...         ...  \n",
       "1271   6.295082  \n",
       "1272   8.228571  \n",
       "1274   7.318681  \n",
       "1275   6.192000  \n",
       "1276   6.243902  \n",
       "\n",
       "[1150 rows x 7 columns]"
      ]
     },
     "execution_count": 362,
     "metadata": {},
     "output_type": "execute_result"
    }
   ],
   "source": [
    "r=runs[runs['rr']>6]\n",
    "r.shape\n",
    "r"
   ]
  },
  {
   "cell_type": "code",
   "execution_count": 394,
   "metadata": {},
   "outputs": [
    {
     "data": {
      "text/html": [
       "<div>\n",
       "<style scoped>\n",
       "    .dataframe tbody tr th:only-of-type {\n",
       "        vertical-align: middle;\n",
       "    }\n",
       "\n",
       "    .dataframe tbody tr th {\n",
       "        vertical-align: top;\n",
       "    }\n",
       "\n",
       "    .dataframe thead tr th {\n",
       "        text-align: left;\n",
       "    }\n",
       "</style>\n",
       "<table border=\"1\" class=\"dataframe\">\n",
       "  <thead>\n",
       "    <tr>\n",
       "      <th></th>\n",
       "      <th>Team</th>\n",
       "      <th>Innings</th>\n",
       "    </tr>\n",
       "    <tr>\n",
       "      <th></th>\n",
       "      <th></th>\n",
       "      <th></th>\n",
       "    </tr>\n",
       "  </thead>\n",
       "  <tbody>\n",
       "    <tr>\n",
       "      <th>0</th>\n",
       "      <td>Chennai Super Kings</td>\n",
       "      <td>120</td>\n",
       "    </tr>\n",
       "    <tr>\n",
       "      <th>1</th>\n",
       "      <td>Deccan Chargers</td>\n",
       "      <td>71</td>\n",
       "    </tr>\n",
       "    <tr>\n",
       "      <th>2</th>\n",
       "      <td>Delhi Daredevils</td>\n",
       "      <td>129</td>\n",
       "    </tr>\n",
       "    <tr>\n",
       "      <th>3</th>\n",
       "      <td>Gujarat Lions</td>\n",
       "      <td>29</td>\n",
       "    </tr>\n",
       "    <tr>\n",
       "      <th>4</th>\n",
       "      <td>Kings XI Punjab</td>\n",
       "      <td>134</td>\n",
       "    </tr>\n",
       "  </tbody>\n",
       "</table>\n",
       "</div>"
      ],
      "text/plain": [
       "                  Team Innings\n",
       "                              \n",
       "0  Chennai Super Kings     120\n",
       "1      Deccan Chargers      71\n",
       "2     Delhi Daredevils     129\n",
       "3        Gujarat Lions      29\n",
       "4      Kings XI Punjab     134"
      ]
     },
     "execution_count": 394,
     "metadata": {},
     "output_type": "execute_result"
    }
   ],
   "source": [
    "r1=r[['Team','Innings']].groupby('Team').agg('count').reset_index()\n",
    "r1.head()"
   ]
  },
  {
   "cell_type": "code",
   "execution_count": 395,
   "metadata": {},
   "outputs": [
    {
     "data": {
      "text/html": [
       "<div>\n",
       "<style scoped>\n",
       "    .dataframe tbody tr th:only-of-type {\n",
       "        vertical-align: middle;\n",
       "    }\n",
       "\n",
       "    .dataframe tbody tr th {\n",
       "        vertical-align: top;\n",
       "    }\n",
       "\n",
       "    .dataframe thead tr th {\n",
       "        text-align: left;\n",
       "    }\n",
       "</style>\n",
       "<table border=\"1\" class=\"dataframe\">\n",
       "  <thead>\n",
       "    <tr>\n",
       "      <th></th>\n",
       "      <th>Team</th>\n",
       "      <th>Innings</th>\n",
       "    </tr>\n",
       "    <tr>\n",
       "      <th></th>\n",
       "      <th></th>\n",
       "      <th></th>\n",
       "    </tr>\n",
       "  </thead>\n",
       "  <tbody>\n",
       "    <tr>\n",
       "      <th>0</th>\n",
       "      <td>Chennai Super Kings</td>\n",
       "      <td>131</td>\n",
       "    </tr>\n",
       "    <tr>\n",
       "      <th>1</th>\n",
       "      <td>Deccan Chargers</td>\n",
       "      <td>75</td>\n",
       "    </tr>\n",
       "    <tr>\n",
       "      <th>2</th>\n",
       "      <td>Delhi Daredevils</td>\n",
       "      <td>148</td>\n",
       "    </tr>\n",
       "    <tr>\n",
       "      <th>3</th>\n",
       "      <td>Gujarat Lions</td>\n",
       "      <td>31</td>\n",
       "    </tr>\n",
       "    <tr>\n",
       "      <th>4</th>\n",
       "      <td>Kings XI Punjab</td>\n",
       "      <td>149</td>\n",
       "    </tr>\n",
       "  </tbody>\n",
       "</table>\n",
       "</div>"
      ],
      "text/plain": [
       "                  Team Innings\n",
       "                              \n",
       "0  Chennai Super Kings     131\n",
       "1      Deccan Chargers      75\n",
       "2     Delhi Daredevils     148\n",
       "3        Gujarat Lions      31\n",
       "4      Kings XI Punjab     149"
      ]
     },
     "execution_count": 395,
     "metadata": {},
     "output_type": "execute_result"
    }
   ],
   "source": [
    "r2=runs[['Team','Innings']].groupby('Team').agg('count').reset_index()\n",
    "r2.head()"
   ]
  },
  {
   "cell_type": "code",
   "execution_count": 396,
   "metadata": {},
   "outputs": [],
   "source": [
    "r3=pd.merge(r1,r2,on=['Team'])"
   ]
  },
  {
   "cell_type": "code",
   "execution_count": 399,
   "metadata": {},
   "outputs": [],
   "source": [
    "r3['perc']=r3['Innings_x']*100/r3['Innings_y']"
   ]
  },
  {
   "cell_type": "code",
   "execution_count": 401,
   "metadata": {},
   "outputs": [
    {
     "data": {
      "text/html": [
       "<div>\n",
       "<style scoped>\n",
       "    .dataframe tbody tr th:only-of-type {\n",
       "        vertical-align: middle;\n",
       "    }\n",
       "\n",
       "    .dataframe tbody tr th {\n",
       "        vertical-align: top;\n",
       "    }\n",
       "\n",
       "    .dataframe thead tr th {\n",
       "        text-align: left;\n",
       "    }\n",
       "</style>\n",
       "<table border=\"1\" class=\"dataframe\">\n",
       "  <thead>\n",
       "    <tr>\n",
       "      <th></th>\n",
       "      <th>Team</th>\n",
       "      <th>Innings_x</th>\n",
       "      <th>Innings_y</th>\n",
       "      <th>perc</th>\n",
       "    </tr>\n",
       "    <tr>\n",
       "      <th></th>\n",
       "      <th></th>\n",
       "      <th></th>\n",
       "      <th></th>\n",
       "      <th></th>\n",
       "    </tr>\n",
       "  </thead>\n",
       "  <tbody>\n",
       "    <tr>\n",
       "      <th>10</th>\n",
       "      <td>Rising Pune Supergiant</td>\n",
       "      <td>16</td>\n",
       "      <td>16</td>\n",
       "      <td>100.000000</td>\n",
       "    </tr>\n",
       "    <tr>\n",
       "      <th>1</th>\n",
       "      <td>Deccan Chargers</td>\n",
       "      <td>71</td>\n",
       "      <td>75</td>\n",
       "      <td>94.666667</td>\n",
       "    </tr>\n",
       "    <tr>\n",
       "      <th>3</th>\n",
       "      <td>Gujarat Lions</td>\n",
       "      <td>29</td>\n",
       "      <td>31</td>\n",
       "      <td>93.548387</td>\n",
       "    </tr>\n",
       "    <tr>\n",
       "      <th>12</th>\n",
       "      <td>Royal Challengers Bangalore</td>\n",
       "      <td>143</td>\n",
       "      <td>153</td>\n",
       "      <td>93.464052</td>\n",
       "    </tr>\n",
       "    <tr>\n",
       "      <th>11</th>\n",
       "      <td>Rising Pune Supergiants</td>\n",
       "      <td>13</td>\n",
       "      <td>14</td>\n",
       "      <td>92.857143</td>\n",
       "    </tr>\n",
       "    <tr>\n",
       "      <th>13</th>\n",
       "      <td>Sunrisers Hyderabad</td>\n",
       "      <td>70</td>\n",
       "      <td>76</td>\n",
       "      <td>92.105263</td>\n",
       "    </tr>\n",
       "    <tr>\n",
       "      <th>0</th>\n",
       "      <td>Chennai Super Kings</td>\n",
       "      <td>120</td>\n",
       "      <td>131</td>\n",
       "      <td>91.603053</td>\n",
       "    </tr>\n",
       "    <tr>\n",
       "      <th>4</th>\n",
       "      <td>Kings XI Punjab</td>\n",
       "      <td>134</td>\n",
       "      <td>149</td>\n",
       "      <td>89.932886</td>\n",
       "    </tr>\n",
       "    <tr>\n",
       "      <th>6</th>\n",
       "      <td>Kolkata Knight Riders</td>\n",
       "      <td>133</td>\n",
       "      <td>148</td>\n",
       "      <td>89.864865</td>\n",
       "    </tr>\n",
       "    <tr>\n",
       "      <th>7</th>\n",
       "      <td>Mumbai Indians</td>\n",
       "      <td>141</td>\n",
       "      <td>157</td>\n",
       "      <td>89.808917</td>\n",
       "    </tr>\n",
       "    <tr>\n",
       "      <th>9</th>\n",
       "      <td>Rajasthan Royals</td>\n",
       "      <td>105</td>\n",
       "      <td>120</td>\n",
       "      <td>87.500000</td>\n",
       "    </tr>\n",
       "    <tr>\n",
       "      <th>2</th>\n",
       "      <td>Delhi Daredevils</td>\n",
       "      <td>129</td>\n",
       "      <td>148</td>\n",
       "      <td>87.162162</td>\n",
       "    </tr>\n",
       "    <tr>\n",
       "      <th>5</th>\n",
       "      <td>Kochi Tuskers Kerala</td>\n",
       "      <td>11</td>\n",
       "      <td>14</td>\n",
       "      <td>78.571429</td>\n",
       "    </tr>\n",
       "    <tr>\n",
       "      <th>8</th>\n",
       "      <td>Pune Warriors</td>\n",
       "      <td>35</td>\n",
       "      <td>45</td>\n",
       "      <td>77.777778</td>\n",
       "    </tr>\n",
       "  </tbody>\n",
       "</table>\n",
       "</div>"
      ],
      "text/plain": [
       "                           Team Innings_x Innings_y        perc\n",
       "                                                               \n",
       "10       Rising Pune Supergiant        16        16  100.000000\n",
       "1               Deccan Chargers        71        75   94.666667\n",
       "3                 Gujarat Lions        29        31   93.548387\n",
       "12  Royal Challengers Bangalore       143       153   93.464052\n",
       "11      Rising Pune Supergiants        13        14   92.857143\n",
       "13          Sunrisers Hyderabad        70        76   92.105263\n",
       "0           Chennai Super Kings       120       131   91.603053\n",
       "4               Kings XI Punjab       134       149   89.932886\n",
       "6         Kolkata Knight Riders       133       148   89.864865\n",
       "7                Mumbai Indians       141       157   89.808917\n",
       "9              Rajasthan Royals       105       120   87.500000\n",
       "2              Delhi Daredevils       129       148   87.162162\n",
       "5          Kochi Tuskers Kerala        11        14   78.571429\n",
       "8                 Pune Warriors        35        45   77.777778"
      ]
     },
     "execution_count": 401,
     "metadata": {},
     "output_type": "execute_result"
    }
   ],
   "source": [
    "r3.sort_values(by=['perc'],ascending=False)"
   ]
  },
  {
   "cell_type": "markdown",
   "metadata": {
    "colab_type": "text",
    "id": "ZoWklGAYU0Xk"
   },
   "source": [
    "### **Question 13**\n",
    "* Let's analyze whether higher run_rate lead to victory?\n",
    "* Create a visualization to analyze run_rates of teams in matches which it won against the ones it lost. (Hint : Box plots)\n",
    "* Discuss your insights :\n",
    "  * Is there a team which is really winning based on a higher run_rate maintained by them?\n",
    "  * Think about a **statistical test of significance** which can help you evaluate the hypothesis mentioned in the 1st point.\n",
    "    * **Reference 1 :** [Understanding the tests of significance](https://towardsdatascience.com/statistical-significance-hypothesis-testing-the-normal-curve-and-p-values-93274fa32687)\n",
    "    * **Reference 2 :** [When to apply what?](https://towardsdatascience.com/statistical-tests-when-to-use-which-704557554740)\n",
    "    * **Reference 3 :** [Understanding T-test](https://www.analyticsvidhya.com/blog/2020/06/statistics-analytics-hypothesis-testing-z-test-t-test/?utm_source=feedburner&utm_medium=email&utm_campaign=Feed%3A+AnalyticsVidhya+%28Analytics+Vidhya%29)\n",
    "  * **(Optional)**. Implement the test and explain your result\n",
    "\n",
    "------------------"
   ]
  },
  {
   "cell_type": "code",
   "execution_count": 350,
   "metadata": {
    "colab": {},
    "colab_type": "code",
    "id": "0IshwnsuWfnL"
   },
   "outputs": [],
   "source": [
    "# write your code here. Feel free to add multiple cells as per your need\n"
   ]
  },
  {
   "cell_type": "markdown",
   "metadata": {
    "colab_type": "text",
    "id": "8hGgVsakYgU5"
   },
   "source": [
    "### **Question 14**\n",
    "* **Virat Kohli** is known to be a **master chaser**. Is it so? Let's validate through raw data\n",
    "* Visualize the runs made by Virat Kohli in matches where his team played the **1st innings** (Hint : Use histograms)\n",
    "* Visualize the runs made by Virat Kohli in matches where his team played the **2nd innings**. (Note : the 2 histograms should be plotted in the same figure)\n",
    "* Interpret the histograms. Do they look cleanly **separated**?\n",
    "* Create a **1X2** subplot : \n",
    "  * In subplot **(1,1)** plot the two histograms for the matches which his team won\n",
    "  * In subplot **(1,2)** plot the two histograms for the matches which his team lost\n",
    "  * **Discuss** your findings\n",
    "    * Has Kohli been a great chaser **only** in matches won?\n",
    "* Calculate Kohli's **run contribution(%)** for all matches played by him\n",
    "  * Draw a violin plot of his **run_contribution(%)** for two categories : \n",
    "    * Matches **won** by his team\n",
    "    * Matches **lost** by his team\n",
    "  * Draw a **scatter plot** showing **run_contribution(%)** on **X-axis** and **strike_rate** on **y-axis**. Define **color** of dots as : \n",
    "    * **Green :** For matches won\n",
    "    * **Red :** For matches lost\n",
    "  * Discuss your insights. Do you think he has been playing captain's innings?\n"
   ]
  },
  {
   "cell_type": "code",
   "execution_count": 351,
   "metadata": {
    "colab": {},
    "colab_type": "code",
    "id": "P8gOGsTgrhFN"
   },
   "outputs": [],
   "source": [
    "# write your code here. Feel free to add multiple cells as per your need\n"
   ]
  },
  {
   "cell_type": "markdown",
   "metadata": {
    "colab_type": "text",
    "id": "kni5L5ykuvFA"
   },
   "source": [
    "### **Question 15 (Bonus Question)**\n",
    "* Consider you are part of **team selection committee** for your team\n",
    "* You are required to suggest **best nominations** for selection of **batsmen** during the team auctions\n",
    "* Your team owner wants a **good mix** of batsmen who can exhibit the below **traits** :\n",
    "  * Aggression\n",
    "  * Consistency\n",
    "  * Can hit at will\n",
    "  * Pinch hitters\n",
    "  * Sheet Anchors\n",
    "  * Match finishers\n",
    "* Use the data provided to you to create an exhaustive **list of metrics** which can demonstrate **quality** of a given batsman\n",
    "* Apply **suitable machine learning** techniques to generate **clusters** of batsmen\n",
    "* **Analyze** the clusters for **batting traits** and name them suitably\n",
    "* **Discuss** your outcomes "
   ]
  },
  {
   "cell_type": "code",
   "execution_count": null,
   "metadata": {
    "colab": {},
    "colab_type": "code",
    "id": "-jVmk9zkwp_V"
   },
   "outputs": [],
   "source": [
    "# write your code here. Feel free to add multiple cells as per your need\n"
   ]
  }
 ],
 "metadata": {
  "colab": {
   "collapsed_sections": [],
   "name": "Fractal.ipynb",
   "provenance": []
  },
  "kernelspec": {
   "display_name": "Python 3",
   "language": "python",
   "name": "python3"
  },
  "language_info": {
   "codemirror_mode": {
    "name": "ipython",
    "version": 3
   },
   "file_extension": ".py",
   "mimetype": "text/x-python",
   "name": "python",
   "nbconvert_exporter": "python",
   "pygments_lexer": "ipython3",
   "version": "3.7.3"
  }
 },
 "nbformat": 4,
 "nbformat_minor": 1
}
